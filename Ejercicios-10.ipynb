{
 "cells": [
  {
   "cell_type": "markdown",
   "metadata": {},
   "source": [
    "# **Ejercicios pares de la sección 10**\n",
    "##### *Autor: Escorcia Alcantara Gregorio Jacobo*"
   ]
  },
  {
   "cell_type": "markdown",
   "metadata": {},
   "source": [
    "****"
   ]
  },
  {
   "cell_type": "markdown",
   "metadata": {},
   "source": [
    "### Ejercicios 10.1"
   ]
  },
  {
   "cell_type": "markdown",
   "metadata": {},
   "source": [
    "Primero definiremos las constantes y variables globales, que son las de la tolerancia de error aceptada y el número máximo de iteraciones:"
   ]
  },
  {
   "cell_type": "code",
   "execution_count": 1,
   "metadata": {},
   "outputs": [
    {
     "data": {
      "text/plain": [
       "300"
      ]
     },
     "execution_count": 1,
     "metadata": {},
     "output_type": "execute_result"
    }
   ],
   "source": [
    "#Constantes y variables globales\n",
    "TOL = 0.00001\n",
    "const max_iter = 300"
   ]
  },
  {
   "cell_type": "markdown",
   "metadata": {},
   "source": [
    "En seguida, continuaremos con la resolución de los ejercicios."
   ]
  },
  {
   "cell_type": "markdown",
   "metadata": {},
   "source": [
    "2.- El sistema no lineal\n",
    "\n",
    "$$x_2^2 - x_1^2 + 4x_1 - 2 = 0, \\hspace{0.2cm} x_1^2 + 3 x_2^2 - 4 =0$$\n",
    "\n",
    "tiene dos soluciones.\n",
    "\n",
    "**a.** Aproxime las soluciones gráficamente\n",
    "\n",
    "**b.** Use las aproximaciones a partir de la parte **a)** como aproximaciones iniciales para una iteración de punto fijo adecuada y determine las soluciones dentro de $10^{-5}$ en la norma $l_\\infty$."
   ]
  },
  {
   "cell_type": "markdown",
   "metadata": {},
   "source": [
    "**Resolución:**"
   ]
  },
  {
   "cell_type": "code",
   "execution_count": 2,
   "metadata": {},
   "outputs": [
    {
     "data": {
      "text/plain": [
       "g_2 (generic function with 1 method)"
      ]
     },
     "execution_count": 2,
     "metadata": {},
     "output_type": "execute_result"
    }
   ],
   "source": [
    "# ----- FUNCIONES -----\n",
    "#Funciones originales\n",
    "f_1(x_1, x_2) = x_2^2 - x_1^2 + 4*x_1 - 2\n",
    "f_2(x_1, x_2) = x_1^2 + 3*x_2^2 - 4\n",
    "\n",
    "function F(x_1, x_2)\n",
    "    \n",
    "    f_1 = x_2^2 - x_1^2 + 4*x_1 - 2\n",
    "    f_2 = x_1^2 + 3*x_2^2 - 4\n",
    "\n",
    "    #println(\"$f_1, $f_2\")\n",
    "\n",
    "    return [f_1, f_2]\n",
    "end\n",
    "\n",
    "#Variables despejadas:\n",
    "g_1(x_1, x_2) = (-x_2^2 + x_1^2 + 2)*(1/4) #x_1\n",
    "g_2(x_1, x_2) = (-x_1^2 + 4)*(1/(3*x_2))   #x_2\n",
    "\n",
    "#----------------------"
   ]
  },
  {
   "cell_type": "code",
   "execution_count": 3,
   "metadata": {},
   "outputs": [
    {
     "data": {
      "text/plain": [
       "puntoFijoMV (generic function with 1 method)"
      ]
     },
     "execution_count": 3,
     "metadata": {},
     "output_type": "execute_result"
    }
   ],
   "source": [
    "function puntoFijoMV(x_1n, x_2n)\n",
    "    x_1m = 0.0\n",
    "    x_2m = 0.0\n",
    "    iteration = 1\n",
    "    δ = 1.0\n",
    "\n",
    "    #Ciclo para seguir calculando las raíces si el error es mayor al tolerado\n",
    "    while (abs(δ) > TOL) && (iteration ≤ max_iter)\n",
    "\n",
    "        x_1m = g_1(x_1n, x_2n)\n",
    "        x_2m = g_2(x_1m, x_2n)\n",
    "\n",
    "        #Comentar o descomentar la tabla en caso de querer o no los acercamientos a la raíz:\n",
    "        println(\"X_$iteration = [$x_1m, $x_2m]\")\n",
    "\n",
    "        #Vectores:\n",
    "        α = (x_1n, x_2n)\n",
    "        β = (x_1m, x_2m)\n",
    "        ω = abs.(β .- α)\n",
    "        \n",
    "        #Error\n",
    "        δ = max(ω[1], ω[2])\n",
    "\n",
    "        #Se asigna a x_n los valores de x_n+1\n",
    "        x_1n = x_1m\n",
    "        x_2n = x_2m\n",
    "\n",
    "        iteration = iteration + 1\n",
    "        \n",
    "    end\n",
    "    \n",
    "    β = (x_1m, x_2m)\n",
    "    println(\"Raíz encontrada X_$iteration = $β\\n\")\n",
    "    resultado = F(x_1m, x_2m)\n",
    "    println(\"Evaluando la función original con el resultado:\\nF(X_$iteration) = $resultado\")\n",
    "\n",
    "end"
   ]
  },
  {
   "cell_type": "code",
   "execution_count": 4,
   "metadata": {},
   "outputs": [
    {
     "data": {
      "text/plain": [
       "1.15"
      ]
     },
     "execution_count": 4,
     "metadata": {},
     "output_type": "execute_result"
    }
   ],
   "source": [
    "#Valores iniciales -> X_0\n",
    "x_1n = 0.15\n",
    "x_2n = 1.15"
   ]
  },
  {
   "cell_type": "code",
   "execution_count": 5,
   "metadata": {},
   "outputs": [
    {
     "name": "stdout",
     "output_type": "stream",
     "text": [
      "X_1 = [0.17500000000000004, 1.1505434782608697]\n",
      "X_2 = [0.17671867615784498, 1.14982486812699]\n",
      "X_3 = [0.1772830657849328, 1.150485557871814]\n",
      "X_4 = [0.17695306663562138, 1.149858737195447]\n",
      "X_5 = [0.1772843180717607, 1.150451541623086]\n",
      "X_6 = [0.17697274495280846, 1.1498907179653286]\n",
      "X_7 = [0.17726767229832818, 1.1504212560825258]\n",
      "X_8 = [0.1769886902988928, 1.1499193541852721]\n",
      "X_9 = [0.17725261884096105, 1.1503941543581246]\n",
      "X_10 = [0.17700294512615855, 1.1499449825904902]\n",
      "X_11 = [0.17723914489957276, 1.1503699004727461]\n",
      "X_12 = [0.17701570164276398, 1.1499679189395202]\n",
      "X_13 = [0.17722708600949727, 1.1503481951172878]\n",
      "X_14 = [0.177027117501454, 1.1499884459662775]\n",
      "X_15 = [0.17721629361873492, 1.150328770460364]\n",
      "X_16 = [0.17703733364377722, 1.1500068167201847]\n",
      "X_17 = [0.17720663475020143, 1.150311386825496]\n",
      "X_18 = [0.17704647618477387, 1.1500232576800546]\n",
      "X_19 = [0.17719799038110007, 1.150295829729789]\n",
      "X_20 = [0.1770546579753392, 1.1500379715426463]\n",
      "X_21 = [0.17719025398020993, 1.1502819072344759]\n",
      "X_22 = [0.17706197999864698, 1.1500511397188542]\n",
      "X_23 = [0.1771833301981014, 1.1502694475743316]\n",
      "X_24 = [0.17706853261928285, 1.150062924568114]\n",
      "X_25 = [0.17717713369444565, 1.150258297036562]\n",
      "X_26 = [0.17707439670068192, 1.1500734713984397]\n",
      "X_27 = [0.17717158808811312, 1.1502483180628675]\n",
      "X_28 = [0.17707964460480208, 1.150082910256638]\n",
      "X_29 = [0.17716662501724634, 1.1502393875511734]\n",
      "X_30 = [0.17708434108647575, 1.1500913575306821]\n",
      "X_31 = [0.17716218329781602, 1.1502313953359937]\n",
      "X_32 = [0.17708854409356545, 1.150098917383936]\n",
      "X_33 = [0.1771582081703693, 1.1502242428286211]\n",
      "X_34 = [0.1770923054828653, 1.1501056830388492]\n",
      "X_35 = [0.1771546506257447, 1.1502178418003162]\n",
      "X_36 = [0.17709567166063817, 1.1501117379259143]\n",
      "X_37 = [0.17715146680149146, 1.1502121132934426]\n",
      "X_38 = [0.17709868415573815, 1.1501171567120119]\n",
      "X_39 = [0.17714861744159288, 1.1502069866470919]\n",
      "X_40 = [0.1771013801324211, 1.1501220062207969]\n",
      "X_41 = [0.17714606741286443, 1.1502023986251402]\n",
      "X_42 = [0.1771037928492043, 1.1501263462564542]\n",
      "X_43 = [0.17714378527208818, 1.1501982926359746]\n",
      "X_44 = [0.17710595206945312, 1.1501302303409588]\n",
      "X_45 = [0.1771417428785701, 1.1501946180342364]\n",
      "X_46 = [0.1771078844287836, 1.1501337063739219]\n",
      "X_47 = [0.17713991504735616, 1.1501913294959611]\n",
      "X_48 = [0.1771096137638245, 1.1501368172231456]\n",
      "X_49 = [0.1771382792388459, 1.1501883864593947]\n",
      "X_50 = [0.17711116140640837, 1.1501396012531606]\n",
      "X_51 = [0.1771368152809869, 1.150185752624582]\n",
      "X_52 = [0.17711254644682856, 1.1501420927982555]\n",
      "X_53 = [0.1771355051206322, 1.1501833955055463]\n",
      "X_54 = [0.1771137859694184, 1.150144322585827]\n",
      "X_55 = [0.17713433260100253, 1.150181286029533]\n",
      "X_56 = [0.177114895263363, 1.1501463181152662]\n",
      "X_57 = [0.1771332832625122, 1.1501793981783663]\n",
      "X_58 = [0.17711588801135209, 1.1501481039970505]\n",
      "X_59 = [0.1771323441645099, 1.1501777086674987]\n",
      "X_60 = [0.17711677645839924, 1.1501497022562173]\n",
      "X_61 = [0.17713150372573738, 1.150176196658782]\n",
      "X_62 = [0.17711757156291996, 1.1501511326039642]\n",
      "X_63 = [0.17713075158154112, 1.1501748435034262]\n",
      "X_64 = [0.17711828313192768, 1.1501524126807177]\n",
      "X_65 = [0.17713007845608142, 1.1501736325119643]\n",
      "X_66 = [0.1771189199420226, 1.150153558273672]\n",
      "X_67 = [0.17712947604795992, 1.1501725487483896]\n",
      "X_68 = [0.1771194898476645, 1.1501545835114737]\n",
      "X_69 = [0.17712893692786136, 1.1501715788459244]\n",
      "X_70 = [0.17711999987806698, 1.1501555010384603]\n",
      "X_71 = [0.1771284544469437, 1.1501707108421477]\n",
      "X_72 = [0.17712045632390788, 1.1501563221705893]\n",
      "X_73 = [0.17712802265485328, 1.150169934031443]\n",
      "X_74 = [0.177120864814931, 1.1501570570349935]\n",
      "X_75 = [0.17712763622634792, 1.1501692388329539]\n",
      "X_76 = [0.17712123038938926, 1.1501577146948712]\n",
      "X_77 = [0.17712729039563063, 1.1501686166724103]\n",
      "X_78 = [0.17712155755619302, 1.1501583032612592]\n",
      "X_79 = [0.17712698089757828, 1.1501680598763726]\n",
      "Raíz encontrada X_80 = (0.17712698089757828, 1.1501680598763726)\n",
      "\n",
      "Evaluando la función original con el resultado:\n",
      "F(X_80) = [2.0522188201255176e-5, 3.366524122849768e-5]\n"
     ]
    }
   ],
   "source": [
    "puntoFijoMV(x_1n, x_2n)"
   ]
  },
  {
   "cell_type": "markdown",
   "metadata": {},
   "source": [
    "4.- El sistema no lineal\n",
    "\n",
    "$$5x_1^2 - x_2^2 = 0, \\hspace{0.2cm} x_2-0.25(sen(x_1) + cos(x_2) = 0$$\n",
    "\n",
    "tiene una solución cerca de $(\\frac{1}{4}, \\frac{1}{4})^t$.\n",
    "\n",
    "**a.** Encuentre la función **G** y un conjunto $D$ en $\\mathbb{R}^2$ de tal forma que **G**: $D \\rightarrow \\mathbb{R}^2$ y **G** tiene fijo único en $D$.\n",
    "\n",
    "**b.** Aplique la iteración del punto fijo para aproximar la solución dentro de $10^{-5}$ en la norma $l_\\infty$.\n",
    "\n",
    "**c.** ¿El método de Gauss-Siedel acelera la convergencia?"
   ]
  },
  {
   "cell_type": "markdown",
   "metadata": {},
   "source": [
    "**Resolución:**"
   ]
  },
  {
   "cell_type": "code",
   "execution_count": 6,
   "metadata": {},
   "outputs": [
    {
     "data": {
      "text/plain": [
       "G (generic function with 1 method)"
      ]
     },
     "execution_count": 6,
     "metadata": {},
     "output_type": "execute_result"
    }
   ],
   "source": [
    "# ----- FUNCIONES -----\n",
    "#Funciones originales\n",
    "f_1(x_1, x_2) = 5*x_1^2 - x_2^2\n",
    "f_2(x_1, x_2) = x_2 - 0.25*(sin(x_1) + cos(x_2))\n",
    "\n",
    "function F(x_1, x_2)\n",
    "    \n",
    "    f_1 = 5*x_1^2 - x_2^2\n",
    "    f_2 = x_2 - 0.25*(sin(x_1) + cos(x_2))\n",
    "\n",
    "    return f_1, f_2\n",
    "end\n",
    "\n",
    "#Variables despejadas:\n",
    "g_1(x_1, x_2) = x_2/√5\n",
    "g_2(x_1, x_2) = 0.25*(sin(x_1) + cos(x_2))\n",
    "\n",
    "function G(x_1, x_2)\n",
    "    g_1 = x_2/√5\n",
    "    g_2 = 0.25*(sin(x_1) + cos(x_2))\n",
    "\n",
    "    return g_1, g_2\n",
    "end\n",
    "\n",
    "#----------------------"
   ]
  },
  {
   "cell_type": "code",
   "execution_count": 7,
   "metadata": {},
   "outputs": [
    {
     "data": {
      "text/plain": [
       "puntoFijoMV (generic function with 1 method)"
      ]
     },
     "execution_count": 7,
     "metadata": {},
     "output_type": "execute_result"
    }
   ],
   "source": [
    "function puntoFijoMV(x_1n, x_2n)\n",
    "    x_1m = 0.0\n",
    "    x_2m = 0.0\n",
    "    iteration = 1\n",
    "    δ = 1.0\n",
    "\n",
    "    #Ciclo para seguir calculando las raíces si el error es mayor al tolerado\n",
    "    while (abs(δ) > TOL) && (iteration ≤ max_iter)\n",
    "        x_1m = g_1(x_1n, x_2n)\n",
    "        x_2m = g_2(x_1n, x_2n)\n",
    "\n",
    "        #Comentar o descomentar la tabla en caso de querer o no los acercamientos a la raíz:\n",
    "        println(\"X_$iteration = [$x_1m, $x_2m]\")\n",
    "\n",
    "        #Vectores:\n",
    "        α = (x_1n, x_2n)\n",
    "        β = (x_1m, x_2m)\n",
    "        ω = abs.(β .- α)\n",
    "        \n",
    "        #Error\n",
    "        δ = max(ω[1], ω[2])\n",
    "\n",
    "        #Se asigna a x_n los valores de x_n+1\n",
    "        x_1n = x_1m\n",
    "        x_2n = x_2m\n",
    "\n",
    "        iteration = iteration + 1\n",
    "        \n",
    "    end\n",
    "    \n",
    "    if δ ≤ TOL\n",
    "        β = (x_1m, x_2m)\n",
    "        println(\"Raíz encontrada X_$iteration = $β\\n\")\n",
    "        resultado = F(x_1m, x_2m)\n",
    "        println(\"Evaluando la función original con el resultado:\\nF(X_$iteration) = $resultado\")\n",
    "\n",
    "    else\n",
    "        println(\"error\")\n",
    "    end\n",
    "    \n",
    "end"
   ]
  },
  {
   "cell_type": "code",
   "execution_count": 8,
   "metadata": {},
   "outputs": [
    {
     "data": {
      "text/plain": [
       "0.25"
      ]
     },
     "execution_count": 8,
     "metadata": {},
     "output_type": "execute_result"
    }
   ],
   "source": [
    "#Valores iniciales -> X_0\n",
    "x_1n = 0.25\n",
    "x_2n = 0.25"
   ]
  },
  {
   "cell_type": "code",
   "execution_count": 9,
   "metadata": {},
   "outputs": [
    {
     "name": "stdout",
     "output_type": "stream",
     "text": [
      "X_1 = [0.11180339887498948, 0.3040790952412919]\n",
      "X_2 = [0.1359883054992323, 0.2664234275354251]\n",
      "X_3 = [0.11914817895353995, 0.27507206819663893]\n",
      "X_4 = [0.12301596863982853, 0.270318023474851]\n",
      "X_5 = [0.12088989520663015, 0.2715979896943834]\n",
      "X_6 = [0.12146231350178573, 0.2709847718373571]\n",
      "X_7 = [0.1211880741391202, 0.271167908932786]\n",
      "X_8 = [0.12126997553803637, 0.2710875934751832]\n",
      "X_9 = [0.12123405737346761, 0.2711132960358651]\n",
      "X_10 = [0.12124555190804372, 0.2711026616886501]\n",
      "X_11 = [0.1212407960833899, 0.2711062261954329]\n",
      "Raíz encontrada X_12 = (0.1212407960833899, 0.2711062261954329)\n",
      "\n",
      "Evaluando la función original con el resultado:\n",
      "F(X_12) = (-1.932707258567312e-6, 1.4188679919313607e-6)\n"
     ]
    }
   ],
   "source": [
    "puntoFijoMV(x_1n, x_2n)"
   ]
  },
  {
   "cell_type": "markdown",
   "metadata": {},
   "source": [
    "6.- Use la iteración de punto fijo para encontrar soluciones para los siguientes sistemas no lineales, precisos dentro de $10^{-5}$ por medio de la norma $l_\\infty$"
   ]
  },
  {
   "cell_type": "markdown",
   "metadata": {},
   "source": [
    "**a.** $$x_2^2 + x_2^2 - x_1 = 0$$\n",
    "\n",
    "$$x_1^2-x_2^2-x_2 =0$$"
   ]
  },
  {
   "cell_type": "markdown",
   "metadata": {},
   "source": [
    "**Resolución:**"
   ]
  },
  {
   "cell_type": "code",
   "execution_count": 10,
   "metadata": {},
   "outputs": [
    {
     "data": {
      "text/plain": [
       "g_2 (generic function with 1 method)"
      ]
     },
     "execution_count": 10,
     "metadata": {},
     "output_type": "execute_result"
    }
   ],
   "source": [
    "# ----- FUNCIONES -----\n",
    "#Funciones originales\n",
    "f_1(x_1, x_2) = 2*x_2^2 - x_1\n",
    "f_2(x_1, x_2) = x_1^2 - x_2^2 - x_2\n",
    "\n",
    "function F(x_1, x_2)\n",
    "    \n",
    "    f_1 = 2*x_2^2 - x_1\n",
    "    f_2 = x_1^2 - x_2^2 - x_2\n",
    "\n",
    "    return f_1, f_2\n",
    "end\n",
    "\n",
    "#Variables despejadas:\n",
    "g_1(x_1, x_2) = 2*x_2^2\n",
    "g_2(x_1, x_2) = x_1^2 - x_2^2\n",
    "\n",
    "#----------------------"
   ]
  },
  {
   "cell_type": "code",
   "execution_count": 11,
   "metadata": {},
   "outputs": [
    {
     "data": {
      "text/plain": [
       "puntoFijoMV (generic function with 1 method)"
      ]
     },
     "execution_count": 11,
     "metadata": {},
     "output_type": "execute_result"
    }
   ],
   "source": [
    "function puntoFijoMV(x_1n, x_2n)\n",
    "    x_1m = 0.0\n",
    "    x_2m = 0.0\n",
    "    iteration = 0\n",
    "    δ = 1.0\n",
    "\n",
    "    #Ciclo para seguir calculando las raíces si el error es mayor al tolerado\n",
    "    while (abs(δ) > TOL) && (iteration ≤ max_iter)\n",
    "        x_1m = g_1(x_1n, x_2n)\n",
    "        x_2m = g_2(x_1n, x_2n)\n",
    "\n",
    "        #Comentar o descomentar la tabla en caso de querer o no los acercamientos a la raíz:\n",
    "        println(\"X_$iteration = [$x_1m, $x_2m]\")\n",
    "\n",
    "        #Vectores:\n",
    "        α = (x_1n, x_2n)\n",
    "        β = (x_1m, x_2m)\n",
    "        ω = abs.(β .- α)\n",
    "        \n",
    "        #Error\n",
    "        δ = max(ω[1], ω[2])\n",
    "\n",
    "        #Se asigna a x_n los valores de x_n+1\n",
    "        x_1n = x_1m\n",
    "        x_2n = x_2m\n",
    "\n",
    "        iteration = iteration + 1\n",
    "        \n",
    "    end\n",
    "    \n",
    "    if δ ≤ TOL\n",
    "        β = (x_1m, x_2m)\n",
    "        println(\"Raíz encontrada X_$iteration = $β\\n\")\n",
    "        resultado = F(x_1m, x_2m)\n",
    "        println(\"Evaluando la función original con el resultado:\\nF(X_$iteration) = $resultado\")\n",
    "\n",
    "    else\n",
    "        println(\"error\")\n",
    "    end\n",
    "    \n",
    "end"
   ]
  },
  {
   "cell_type": "code",
   "execution_count": 12,
   "metadata": {},
   "outputs": [
    {
     "data": {
      "text/plain": [
       "0.25"
      ]
     },
     "execution_count": 12,
     "metadata": {},
     "output_type": "execute_result"
    }
   ],
   "source": [
    "#Valores iniciales -> X_0\n",
    "x_1n = 0.25\n",
    "x_2n = 0.25"
   ]
  },
  {
   "cell_type": "code",
   "execution_count": 13,
   "metadata": {},
   "outputs": [
    {
     "name": "stdout",
     "output_type": "stream",
     "text": [
      "X_0 = [0.125, 0.0]\n",
      "X_1 = [0.0, 0.015625]\n",
      "X_2 = [0.00048828125, -0.000244140625]\n",
      "X_3 = [1.1920928955078125e-7, 1.7881393432617188e-7]\n",
      "X_4 = [6.394884621840902e-14, -1.7763568394002505e-14]\n",
      "Raíz encontrada X_5 = (6.394884621840902e-14, -1.7763568394002505e-14)\n",
      "\n",
      "Evaluando la función original con el resultado:\n",
      "F(X_5) = (-6.394884621840839e-14, 1.776356839400628e-14)\n"
     ]
    }
   ],
   "source": [
    "puntoFijoMV(x_1n, x_2n)"
   ]
  },
  {
   "cell_type": "markdown",
   "metadata": {},
   "source": [
    "**b.** $$3x_1^2 - x_2^2 = 0$$\n",
    "    $$ 3x_1x_2^2 - x_1^3 - 1=0$$"
   ]
  },
  {
   "cell_type": "code",
   "execution_count": 14,
   "metadata": {},
   "outputs": [
    {
     "data": {
      "text/plain": [
       "g_2 (generic function with 1 method)"
      ]
     },
     "execution_count": 14,
     "metadata": {},
     "output_type": "execute_result"
    }
   ],
   "source": [
    "# ----- FUNCIONES -----\n",
    "#Funciones originales\n",
    "f_1(x_1, x_2) = 3*x_1^2 - x_2^2\n",
    "f_2(x_1, x_2) = 3*x_1*x_2^2 - x_1^3 - 1\n",
    "\n",
    "function F(x_1, x_2)\n",
    "    \n",
    "    f_1 = 3*x_1^2 - x_2^2\n",
    "    f_2 = 3*x_1*x_2^2 - x_1^3 - 1\n",
    "\n",
    "    return f_1, f_2\n",
    "end\n",
    "\n",
    "#Variables despejadas:\n",
    "g_1(x_1, x_2) = abs(x_2)/√3  #-> x_1n\n",
    "g_2(x_1, x_2) = √((x_1^3 + 1)/(3*x_1)) #-> x_2n\n",
    "\n",
    "#----------------------"
   ]
  },
  {
   "cell_type": "code",
   "execution_count": 15,
   "metadata": {},
   "outputs": [
    {
     "data": {
      "text/plain": [
       "puntoFijoMV (generic function with 1 method)"
      ]
     },
     "execution_count": 15,
     "metadata": {},
     "output_type": "execute_result"
    }
   ],
   "source": [
    "function puntoFijoMV(x_1n, x_2n)\n",
    "    x_1m = 0.0\n",
    "    x_2m = 0.0\n",
    "    iteration = 0\n",
    "    δ = 1.0\n",
    "\n",
    "    #Ciclo para seguir calculando las raíces si el error es mayor al tolerado\n",
    "    while (abs(δ) > TOL) && (iteration ≤ max_iter)\n",
    "        x_1m = g_1(x_1n, x_2n)\n",
    "        x_2m = g_2(x_1n, x_2n)\n",
    "\n",
    "        #Comentar o descomentar la tabla en caso de querer o no los acercamientos a la raíz:\n",
    "        println(\"X_$iteration = [$x_1m, $x_2m]\")\n",
    "\n",
    "        #Vectores:\n",
    "        α = (x_1n, x_2n)\n",
    "        β = (x_1m, x_2m)\n",
    "        ω = abs.(β .- α)\n",
    "        \n",
    "        #Error\n",
    "        δ = max(ω[1], ω[2])\n",
    "\n",
    "        #Se asigna a x_n los valores de x_n+1\n",
    "        x_1n = x_1m\n",
    "        x_2n = x_2m\n",
    "\n",
    "        iteration = iteration + 1\n",
    "        \n",
    "    end\n",
    "    \n",
    "    if δ ≤ TOL\n",
    "        β = (x_1m, x_2m)\n",
    "        println(\"Raíz encontrada X_$iteration = $β\\n\")\n",
    "        resultado = F(x_1m, x_2m)\n",
    "        println(\"Evaluando la función original con el resultado:\\nF(X_$iteration) = $resultado\")\n",
    "\n",
    "    else\n",
    "        println(\"error -> δ = $δ\")\n",
    "    end\n",
    "    \n",
    "end"
   ]
  },
  {
   "cell_type": "code",
   "execution_count": 16,
   "metadata": {},
   "outputs": [
    {
     "data": {
      "text/plain": [
       "0.8"
      ]
     },
     "execution_count": 16,
     "metadata": {},
     "output_type": "execute_result"
    }
   ],
   "source": [
    "#Valores iniciales -> X_0\n",
    "x_1n = 0.6\n",
    "x_2n = 0.8"
   ]
  },
  {
   "cell_type": "code",
   "execution_count": 17,
   "metadata": {},
   "outputs": [
    {
     "name": "stdout",
     "output_type": "stream",
     "text": [
      "X_0 = [0.46188021535170065, 0.8219218670625302]\n",
      "X_1 = [0.4745368112013917, 0.8903925806059613]\n",
      "X_2 = [0.5140683960972974, 0.8817602208544748]\n",
      "X_3 = [0.509084500871035, 0.8582021436729556]\n",
      "X_4 = [0.4954832386686948, 0.860906009042669]\n",
      "X_5 = [0.49704431606775135, 0.8686647573494648]\n",
      "X_6 = [0.5015238314912545, 0.8677453720222134]\n",
      "X_7 = [0.5009930241250768, 0.8651491870664215]\n",
      "X_8 = [0.4994941160419844, 0.8654535972272098]\n",
      "X_9 = [0.4996698673302596, 0.866317870302196]\n",
      "X_10 = [0.5001688556227561, 0.8662161738414386]\n",
      "X_11 = [0.5001101411437623, 0.8659279588327424]\n",
      "X_12 = [0.49994374013090703, 0.8659618324397028]\n",
      "X_13 = [0.49996329706700404, 0.8660578903084721]\n",
      "X_14 = [0.5000187561033957, 0.8660465963067897]\n",
      "X_15 = [0.5000122355084842, 0.866014575484699]\n",
      "X_16 = [0.49999374827823045, 0.866018339840808]\n",
      "X_17 = [0.4999959216302433, 0.8660290132778594]\n",
      "X_18 = [0.5000020839419982, 0.866027758457924]\n",
      "Raíz encontrada X_19 = (0.5000020839419982, 0.866027758457924)\n",
      "\n",
      "Evaluando la función original con el resultado:\n",
      "F(X_19) = (2.1734193665912116e-6, 9.243561465366312e-6)\n"
     ]
    }
   ],
   "source": [
    "puntoFijoMV(x_1n, x_2n)"
   ]
  },
  {
   "cell_type": "markdown",
   "metadata": {},
   "source": [
    "**c.** $$x_1^2+x_2-37=0$$\n",
    "\n",
    "$$x_1-x_2^2-5=0$$\n",
    "\n",
    "$$x_1+x_2+x_3-3=0$$"
   ]
  },
  {
   "cell_type": "markdown",
   "metadata": {},
   "source": [
    "**Resolución:**"
   ]
  },
  {
   "cell_type": "code",
   "execution_count": 18,
   "metadata": {},
   "outputs": [
    {
     "data": {
      "text/plain": [
       "g_3 (generic function with 1 method)"
      ]
     },
     "execution_count": 18,
     "metadata": {},
     "output_type": "execute_result"
    }
   ],
   "source": [
    "# ----- FUNCIONES -----\n",
    "#Funciones originales\n",
    "f_1(x_1, x_2, x_3) = x_1^2 + x_2 - 37\n",
    "f_2(x_1, x_2, x_3) = x_1 - x_2^2 - 5\n",
    "f_3(x_1, x_2, x_3) = x_1 + x_2 + x_3 - 3\n",
    "\n",
    "function F(x_1, x_2, x_3)\n",
    "    \n",
    "    f_1 = x_1^2 + x_2 - 37\n",
    "    f_2 = x_1 - x_2^2 - 5\n",
    "    f_3 = x_1 + x_2 + x_3 - 3\n",
    "\n",
    "    return f_1, f_2, f_3\n",
    "end\n",
    "\n",
    "#Variables despejadas:\n",
    "g_1(x_1, x_2, x_3) = √(-x_2 + 37)\n",
    "g_2(x_1, x_2, x_3) = √(x_1 - 5)\n",
    "g_3(x_1, x_2, x_3) = -x_1 - x_2 + 3\n",
    "\n",
    "#----------------------"
   ]
  },
  {
   "cell_type": "code",
   "execution_count": 19,
   "metadata": {},
   "outputs": [
    {
     "data": {
      "text/plain": [
       "puntoFijoMV (generic function with 2 methods)"
      ]
     },
     "execution_count": 19,
     "metadata": {},
     "output_type": "execute_result"
    }
   ],
   "source": [
    "function puntoFijoMV(x_1n, x_2n, x_3n)\n",
    "    x_1m = 0.0\n",
    "    x_2m = 0.0\n",
    "    x_3m = 0.0\n",
    "    iteration = 0\n",
    "    δ = 1.0\n",
    "\n",
    "    #Ciclo para seguir calculando las raíces si el error es mayor al tolerado\n",
    "    while (abs(δ) > TOL) && (iteration ≤ max_iter)\n",
    "        x_1m = g_1(x_1n, x_2n, x_3n)\n",
    "        x_2m = g_2(x_1n, x_2n, x_3n)\n",
    "        x_3m = g_3(x_1n, x_2n, x_3n)\n",
    "\n",
    "        #Comentar o descomentar la tabla en caso de querer o no los acercamientos a la raíz:\n",
    "        println(\"X_$iteration = [$x_1m, $x_2m, $x_3m]\")\n",
    "\n",
    "        #Vectores:\n",
    "        α = (x_1n, x_2n, x_3n)\n",
    "        β = (x_1m, x_2m, x_3m)\n",
    "        ω = abs.(β .- α)\n",
    "        \n",
    "        #Error\n",
    "        δ = max(ω[1], ω[2], ω[3])\n",
    "\n",
    "        #Se asigna a x_n los valores de x_n+1\n",
    "        x_1n = x_1m\n",
    "        x_2n = x_2m\n",
    "        x_3n = x_3m\n",
    "\n",
    "        iteration = iteration + 1\n",
    "        \n",
    "    end\n",
    "    \n",
    "    β = (x_1m, x_2m, x_3m)\n",
    "    println(\"Raíz encontrada X_$iteration = $β\\n\")\n",
    "    resultado = F(x_1m, x_2m, x_3m)\n",
    "    println(\"Evaluando la función original con el resultado:\\nF(X_$iteration) = $resultado\")\n",
    "\n",
    "end"
   ]
  },
  {
   "cell_type": "code",
   "execution_count": 20,
   "metadata": {},
   "outputs": [
    {
     "data": {
      "text/plain": [
       "-3"
      ]
     },
     "execution_count": 20,
     "metadata": {},
     "output_type": "execute_result"
    }
   ],
   "source": [
    "#Valores iniciales -> X_0\n",
    "x_1n = 5.5\n",
    "x_2n = 1\n",
    "x_3n = -3"
   ]
  },
  {
   "cell_type": "code",
   "execution_count": 21,
   "metadata": {},
   "outputs": [
    {
     "name": "stdout",
     "output_type": "stream",
     "text": [
      "X_0 = [6.0, 0.7071067811865476, -3.5]\n",
      "X_1 = [6.024358324237815, 1.0, -3.707106781186548]\n",
      "X_2 = [6.0, 1.0121058858824084, -4.024358324237815]\n",
      "X_3 = [5.998991091351744, 1.0, -4.012105885882408]\n",
      "X_4 = [6.0, 0.9994954183745637, -3.998991091351744]\n",
      "X_5 = [6.000042048321448, 1.0, -3.999495418374564]\n",
      "X_6 = [6.0, 1.000021023939721, -4.000042048321448]\n",
      "X_7 = [5.9999982480047676, 1.0, -4.000021023939721]\n",
      "X_8 = [6.0, 0.9999991240020001, -3.9999982480047676]\n",
      "X_9 = [6.000000072999833, 1.0, -3.9999991240020005]\n",
      "Raíz encontrada X_10 = (6.000000072999833, 1.0, -3.9999991240020005)\n",
      "\n",
      "Evaluando la función original con el resultado:\n",
      "F(X_10) = (8.759979976957766e-7, 7.299983284525524e-8, 9.489978323173887e-7)\n"
     ]
    }
   ],
   "source": [
    "puntoFijoMV(x_1n, x_2n, x_3n)"
   ]
  },
  {
   "cell_type": "markdown",
   "metadata": {},
   "source": [
    "**d.** $$x_1^2+2x_2^2-x_2-2x_3=0$$\n",
    "\n",
    "$$x_1^2-8x_2^2-10x_3=0$$\n",
    "\n",
    "$$\\frac{x_1^2}{7x_2x_3}-1=0$$"
   ]
  },
  {
   "cell_type": "markdown",
   "metadata": {},
   "source": [
    "**Resolución:**\n"
   ]
  },
  {
   "cell_type": "code",
   "execution_count": 22,
   "metadata": {},
   "outputs": [
    {
     "data": {
      "text/plain": [
       "g_3 (generic function with 1 method)"
      ]
     },
     "execution_count": 22,
     "metadata": {},
     "output_type": "execute_result"
    }
   ],
   "source": [
    "# ----- FUNCIONES -----\n",
    "#Funciones originales\n",
    "f_1(x_1, x_2, x_3) = x_1^2 + 2*x_2^2 - x_2 - 2*x_3\n",
    "f_2(x_1, x_2, x_3) = x_1^2 - 8*x_2^2 + 10*x_3\n",
    "f_3(x_1, x_2, x_3) = (x_1^2)/(7*x_2*x_3) - 1\n",
    "\n",
    "function F(x_1, x_2, x_3)\n",
    "    \n",
    "    f_1 = x_1^2 + 2*x_2^2 - x_2 - 2*x_3\n",
    "    f_2 = x_1^2 - 8*x_2^2 + 10*x_3\n",
    "    f_3 = (x_1^2)/(7*x_2*x_3) - 1\n",
    "\n",
    "    return f_1, f_2, f_3\n",
    "end\n",
    "\n",
    "#Variables despejadas:\n",
    "g_1(x_1, x_2, x_3) = x_1^2 + 2*x_2^2 - 2*x_3 #-> x_2\n",
    "g_2(x_1, x_2, x_3) = √(8*x_2^2 - 10*x_3) #-> x_1\n",
    "g_3(x_1, x_2, x_3) = (x_1^2)/(7*x_2) #-> x_3\n",
    "\n",
    "#----------------------"
   ]
  },
  {
   "cell_type": "code",
   "execution_count": 23,
   "metadata": {},
   "outputs": [
    {
     "data": {
      "text/plain": [
       "puntoFijoMV (generic function with 2 methods)"
      ]
     },
     "execution_count": 23,
     "metadata": {},
     "output_type": "execute_result"
    }
   ],
   "source": [
    "function puntoFijoMV(x_1n, x_2n, x_3n)\n",
    "    x_1m = 0.0\n",
    "    x_2m = 0.0\n",
    "    x_3m = 0.0\n",
    "    iteration = 0\n",
    "    δ = 1.0\n",
    "\n",
    "    #Ciclo para seguir calculando las raíces si el error es mayor al tolerado\n",
    "    while (abs(δ) > TOL) && (iteration ≤ max_iter)\n",
    "        x_1m = g_2(x_1n, x_2n, x_3n)\n",
    "        x_2m = g_1(x_1n, x_2n, x_3n)\n",
    "        x_3m = g_3(x_1n, x_2n, x_3n)\n",
    "\n",
    "        #Comentar o descomentar la tabla en caso de querer o no los acercamientos a la raíz:\n",
    "        println(\"X_$iteration = [$x_1m, $x_2m, $x_3m]\")\n",
    "\n",
    "        #Vectores:\n",
    "        α = (x_1n, x_2n, x_3n)\n",
    "        β = (x_1m, x_2m, x_3m)\n",
    "        ω = abs.(β .- α)\n",
    "        \n",
    "        #Error\n",
    "        δ = max(ω[1], ω[2], ω[3])\n",
    "\n",
    "        #Se asigna a x_n los valores de x_n+1\n",
    "        x_1n = x_1m\n",
    "        x_2n = x_2m\n",
    "        x_3n = x_3m\n",
    "\n",
    "        iteration = iteration + 1\n",
    "        \n",
    "    end\n",
    "    \n",
    "    β = (x_1m, x_2m, x_3m)\n",
    "    println(\"Raíz encontrada X_$iteration = $β\\n\")\n",
    "    resultado = F(x_1m, x_2m, x_3m)\n",
    "    println(\"Evaluando la función original con el resultado:\\nF(X_$iteration) = $resultado\")\n",
    "\n",
    "end"
   ]
  },
  {
   "cell_type": "code",
   "execution_count": 24,
   "metadata": {},
   "outputs": [
    {
     "data": {
      "text/plain": [
       "1.0"
      ]
     },
     "execution_count": 24,
     "metadata": {},
     "output_type": "execute_result"
    }
   ],
   "source": [
    "#Valores iniciales\n",
    "x_1n = 1.0\n",
    "x_2n = -1.0\n",
    "x_3n = 1.0"
   ]
  },
  {
   "cell_type": "code",
   "execution_count": 25,
   "metadata": {},
   "outputs": [],
   "source": [
    "##puntoFijoMV(x_1n, x_2n, x_3n)"
   ]
  },
  {
   "cell_type": "markdown",
   "metadata": {},
   "source": [
    "No se pudo encontrar el resultado."
   ]
  },
  {
   "cell_type": "markdown",
   "metadata": {},
   "source": [
    "****"
   ]
  },
  {
   "cell_type": "markdown",
   "metadata": {},
   "source": [
    "### Ejercicios 10.2"
   ]
  },
  {
   "cell_type": "markdown",
   "metadata": {},
   "source": [
    "Para estos ejerciicos nos auxiliaremos del método de Gauss-Jordan, para resolución de sistemas lineales, el cuál lo definiremos en seguida, sin embargo, no lo ocuparemos en todo momento, pues Julia nos permite obtener la inversa de una matriz de forma más directa, facilitando así los cálculos para obtener las raíces de un sistema."
   ]
  },
  {
   "cell_type": "code",
   "execution_count": 26,
   "metadata": {},
   "outputs": [
    {
     "data": {
      "text/plain": [
       "metodoGaussJordan (generic function with 1 method)"
      ]
     },
     "execution_count": 26,
     "metadata": {},
     "output_type": "execute_result"
    }
   ],
   "source": [
    "function metodoGaussJordan(sistema, vectorResul)\n",
    "    auxD = 0.0\n",
    "    auxEscal = 0.0\n",
    "\n",
    "    for i in 1:convert(Int64, size(sistema)[1])\n",
    "\n",
    "        #Convirtiendo el valor x_ii en uno para escalonar\n",
    "        auxD = sistema[i,i]\n",
    "        if auxD != 0\n",
    "            for dividir in 1:convert(Int64, size(sistema)[1])\n",
    "                sistema[i, dividir] = sistema[i, dividir] ./ auxD\n",
    "            end\n",
    "            vectorResul[i] = vectorResul[i] ./ auxD\n",
    "        end\n",
    "\n",
    "        #Proceso para escalonar la matriz\n",
    "        for j in i+1:convert(Int64, size(sistema)[1])\n",
    "            auxEscal = sistema[j, i] #Obteniendo los valores\n",
    "\n",
    "            for k in 1:convert(Int64, size(sistema)[1]) #Convirtiendo en cero los valores debajo de la diagonal principal\n",
    "                sistema[j, k] = sistema[j,k] - (auxEscal*sistema[i, k])\n",
    "            end\n",
    "            vectorResul[j] = vectorResul[j] - (auxEscal*vectorResul[i])\n",
    "        end\n",
    "    end\n",
    "\n",
    "    #Proceso inverso para convertir el sistema dado en una matriz diagonal\n",
    "    for i in convert(Int64, size(sistema)[1]):-1:1\n",
    "\n",
    "        for j in i-1:-1:1\n",
    "            pivote = sistema[j, i] #Obteniendo los valores\n",
    "\n",
    "            for k in convert(Int64, size(sistema)[1]):-1:1 #Convirtiendo en cero los valores arriba de la diagonal principal\n",
    "                sistema[j, k] = sistema[j,k] - (pivote*sistema[i, k])\n",
    "            end\n",
    "            vectorResul[j] = vectorResul[j] - (pivote*vectorResul[i])\n",
    "        end\n",
    "    end\n",
    "\n",
    "    #Regresa el valor del vector resultado obtenido de la resolución del sistema\n",
    "    return vectorResul\n",
    "end"
   ]
  },
  {
   "cell_type": "markdown",
   "metadata": {},
   "source": [
    "2.- Use el método de Newton con $x^{0} = 0$ para calcular $x^{2}$ para cada uno de los siguientes sistemas no lineales."
   ]
  },
  {
   "cell_type": "markdown",
   "metadata": {},
   "source": [
    "**a.** $$3x_1-cos(x_2x_3)-\\frac{1}{2}=0$$\n",
    "\n",
    "$$4x_1^2-625x_2^2+2x_2-1=0$$\n",
    "\n",
    "$$e^{-x_1x_2}+20x_3+\\frac{10\\pi-3}{3}=0$$"
   ]
  },
  {
   "cell_type": "markdown",
   "metadata": {},
   "source": [
    "**Resolución:**"
   ]
  },
  {
   "cell_type": "code",
   "execution_count": 27,
   "metadata": {},
   "outputs": [
    {
     "data": {
      "text/plain": [
       "F (generic function with 2 methods)"
      ]
     },
     "execution_count": 27,
     "metadata": {},
     "output_type": "execute_result"
    }
   ],
   "source": [
    "# ----- FUNCIONES -----\n",
    "#Funciones originales\n",
    "f_1(x_1, x_2, x_3) = 3*x_1 - cos(x_2*x_3) - 1/2\n",
    "f_2(x_1, x_2, x_3) = 4*x_1^2 - 625*x_2^2 + 2*x_2 -1\n",
    "f_3(x_1, x_2, x_3) = ℯ^(-x_1*x_2) + 20*x_3 + (10π-3)/3\n",
    "\n",
    "function F(x_1, x_2, x_3)\n",
    "\n",
    "    f_1 = 3*x_1 - cos(x_2*x_3) - 1/2\n",
    "    f_2 = 4*x_1^2 - 625*x_2^2 + 2*x_2 -1\n",
    "    f_3 = ℯ^(-x_1*x_2) + 20*x_3 + (10π-3)/3\n",
    "\n",
    "    return [f_1; f_2; f_3]\n",
    "end\n",
    "#----------------------"
   ]
  },
  {
   "cell_type": "code",
   "execution_count": 28,
   "metadata": {},
   "outputs": [
    {
     "data": {
      "text/plain": [
       "J (generic function with 1 method)"
      ]
     },
     "execution_count": 28,
     "metadata": {},
     "output_type": "execute_result"
    }
   ],
   "source": [
    "#Matriz Jacobiana:\n",
    "function J(x_1, x_2, x_3)\n",
    "    a_11 = 3\n",
    "    a_12 = x_3*sin(x_2*x_3)\n",
    "    a_13 = x_2*sin(x_2*x_3)\n",
    "\n",
    "    a_21 = 8*x_1\n",
    "    a_22 = -1250*x_2 + 2\n",
    "    a_23 = 0\n",
    "\n",
    "    a_31 = -x_2*ℯ^(-x_1*x_2)\n",
    "    a_32 = -x_1*ℯ^(-x_1*x_2)\n",
    "    a_33 = 20\n",
    "\n",
    "    return [a_11 a_12 a_13; a_21 a_22 a_23; a_31 a_32 a_33]\n",
    "end"
   ]
  },
  {
   "cell_type": "code",
   "execution_count": 29,
   "metadata": {},
   "outputs": [
    {
     "data": {
      "text/plain": [
       "metodoNewton (generic function with 1 method)"
      ]
     },
     "execution_count": 29,
     "metadata": {},
     "output_type": "execute_result"
    }
   ],
   "source": [
    "function metodoNewton(x_1n, x_2n, x_3n)\n",
    "    vector_xm = 0.0\n",
    "    iteration = 0\n",
    "    δ = 1.0\n",
    "\n",
    "    while iteration ≤ 1 && δ ≥ TOL\n",
    "        vectorFx = F(x_1n, x_2n, x_3n)  #Vector resultante al evaluar X_n en la función\n",
    "        matrizJ = J(x_1n, x_2n, x_3n)   #Matriz Jacobiana evaluada en el vector X_n\n",
    "\n",
    "        #Se obtiene el resultado equivalente de multiplicar\n",
    "        #la matriz Jacobiana invertida multiplicada por el \n",
    "        #vector resultante al evaluar F(X_n), recordando que \n",
    "        #esto es lo mismo que resolver un sistema de ecuaciones \n",
    "        #J(X_n)*Y = F(X_n), en donde se busca al vector Y:\n",
    "        #vectorResul = metodoGaussJordan(matrizJ, vectorFx)\n",
    "        #Sin embargo, obtenemos el mismo resultado haciendo esto:\n",
    "        vectorResul = inv(matrizJ)*vectorFx\n",
    "\n",
    "        vector_xn = [x_1n, x_2n, x_3n]\n",
    "\n",
    "        vector_xm = vector_xn .- vectorResul    #Se obtiene a X_n+1 = X_n - Y\n",
    "\n",
    "        #Error\n",
    "        ω = abs.(vector_xm .- vector_xn)\n",
    "        δ = max(ω[1], ω[2], ω[3])\n",
    "\n",
    "        println(\"X_$iteration = $vector_xn\")\n",
    "\n",
    "        #Se iguala x_n a x_n+1 para la siguiente iteración\n",
    "        x_1n = vector_xm[1]\n",
    "        x_2n = vector_xm[2]\n",
    "        x_3n = vector_xm[3]\n",
    "\n",
    "        iteration = iteration + 1\n",
    "    end\n",
    "\n",
    "    println(\"\\nRaíz encontrada X_$iteration = $vector_xm\\n\")\n",
    "    println(\"Evaluando la función original con la raíz encontrada: \")\n",
    "    resultadoF = F(vector_xm[1], vector_xm[2], vector_xm[3])\n",
    "    println(\"F(X_$iteration) = $resultadoF\")\n",
    "end"
   ]
  },
  {
   "cell_type": "code",
   "execution_count": 30,
   "metadata": {},
   "outputs": [
    {
     "data": {
      "text/plain": [
       "0.0"
      ]
     },
     "execution_count": 30,
     "metadata": {},
     "output_type": "execute_result"
    }
   ],
   "source": [
    "#Valores iniciales\n",
    "x_1n = 0.0\n",
    "x_2n = 0.0\n",
    "x_3n = 0.0"
   ]
  },
  {
   "cell_type": "code",
   "execution_count": 31,
   "metadata": {},
   "outputs": [
    {
     "name": "stdout",
     "output_type": "stream",
     "text": [
      "X_0 = [0.0, 0.0, 0.0]\n",
      "X_1 = [0.5, 0.5, -0.5235987755982989]\n",
      "\n",
      "Raíz encontrada X_2 = [0.5001666869114633, 0.2508036384392389, -0.5173874273924913]\n",
      "\n",
      "Evaluando la función original con la raíz encontrada: \n",
      "F(X_2) = [0.008907426191865686, -38.81176652331286, 0.006332455923706348]\n"
     ]
    }
   ],
   "source": [
    "metodoNewton(x_1n, x_2n, x_3n)"
   ]
  },
  {
   "cell_type": "markdown",
   "metadata": {},
   "source": [
    "**b.** $$x_1^2+x_2-37=0$$\n",
    "\n",
    "$$x_1-x_2^2-5=0$$\n",
    "\n",
    "$$x_1+x_2+x_3-3=0$$"
   ]
  },
  {
   "cell_type": "code",
   "execution_count": 32,
   "metadata": {},
   "outputs": [
    {
     "data": {
      "text/plain": [
       "F (generic function with 2 methods)"
      ]
     },
     "execution_count": 32,
     "metadata": {},
     "output_type": "execute_result"
    }
   ],
   "source": [
    "# ----- FUNCIONES -----\n",
    "#Funciones originales\n",
    "f_1(x_1, x_2, x_3) = x_1^2 + x_2 - 37\n",
    "f_2(x_1, x_2, x_3) = x_1 - x_2^2 - 5\n",
    "f_3(x_1, x_2, x_3) = x_1 + x_2 + x_3 - 3\n",
    "\n",
    "function F(x_1, x_2, x_3)\n",
    "\n",
    "    f_1 = x_1^2 + x_2 - 37\n",
    "    f_2 = x_1 - x_2^2 - 5\n",
    "    f_3 = x_1 + x_2 + x_3 - 3\n",
    "\n",
    "    return [f_1; f_2; f_3]\n",
    "end\n",
    "#----------------------"
   ]
  },
  {
   "cell_type": "code",
   "execution_count": 33,
   "metadata": {},
   "outputs": [
    {
     "data": {
      "text/plain": [
       "J (generic function with 1 method)"
      ]
     },
     "execution_count": 33,
     "metadata": {},
     "output_type": "execute_result"
    }
   ],
   "source": [
    "#Matriz Jacobiana:\n",
    "function J(x_1, x_2, x_3)\n",
    "    a_11 = 2*x_1\n",
    "    a_12 = x_2\n",
    "    a_13 = 0\n",
    "\n",
    "    a_21 = 1\n",
    "    a_22 = -2*x_2\n",
    "    a_23 = 0\n",
    "\n",
    "    a_31 = 1\n",
    "    a_32 = 1\n",
    "    a_33 = 1\n",
    "\n",
    "    return [a_11 a_12 a_13; a_21 a_22 a_23; a_31 a_32 a_33]\n",
    "end"
   ]
  },
  {
   "cell_type": "code",
   "execution_count": 34,
   "metadata": {},
   "outputs": [
    {
     "data": {
      "text/plain": [
       "metodoNewton (generic function with 1 method)"
      ]
     },
     "execution_count": 34,
     "metadata": {},
     "output_type": "execute_result"
    }
   ],
   "source": [
    "function metodoNewton(x_1n, x_2n, x_3n)\n",
    "    vector_xm = 0.0\n",
    "    iteration = 0\n",
    "    δ = 1.0\n",
    "\n",
    "    while iteration ≤ 1 && δ ≥ TOL\n",
    "        vectorFx = F(x_1n, x_2n, x_3n)  #Vector resultante al evaluar X_n en la función\n",
    "        matrizJ = J(x_1n, x_2n, x_3n)   #Matriz Jacobiana evaluada en el vector X_n\n",
    "\n",
    "        #Se obtiene el resultado equivalente de multiplicar\n",
    "        #la matriz Jacobiana invertida multiplicada por el \n",
    "        #vector resultante al evaluar F(X_n), recordando que \n",
    "        #esto es lo mismo que resolver un sistema de ecuaciones \n",
    "        #J(X_n)*Y = F(X_n), en donde se busca al vector Y:\n",
    "        vectorResul = metodoGaussJordan(matrizJ, vectorFx)\n",
    "        #Sin embargo, obtenemos el mismo resultado haciendo esto:\n",
    "        #vectorResul = inv(matrizJ)*vectorFx\n",
    "\n",
    "        vector_xn = [x_1n, x_2n, x_3n]\n",
    "\n",
    "        vector_xm = vector_xn .- vectorResul    #Se obtiene a X_n+1 = X_n - Y\n",
    "\n",
    "        #Error\n",
    "        ω = abs.(vector_xm .- vector_xn)\n",
    "        δ = max(ω[1], ω[2], ω[3])\n",
    "\n",
    "        println(\"X_$iteration = $vector_xn\")\n",
    "\n",
    "        #Se iguala x_n a x_n+1 para la siguiente iteración\n",
    "        x_1n = vector_xm[1]\n",
    "        x_2n = vector_xm[2]\n",
    "        x_3n = vector_xm[3]\n",
    "\n",
    "        iteration = iteration + 1\n",
    "    end\n",
    "\n",
    "    println(\"Raíz encontrada X_$iteration = $vector_xm\\n\")\n",
    "    println(\"Evaluando la función original con la raíz encontrada: \")\n",
    "    resultadoF = F(vector_xm[1], vector_xm[2], vector_xm[3])\n",
    "    println(\"F(X_$iteration) = $resultadoF\")\n",
    "end"
   ]
  },
  {
   "cell_type": "code",
   "execution_count": 35,
   "metadata": {},
   "outputs": [
    {
     "data": {
      "text/plain": [
       "0.0"
      ]
     },
     "execution_count": 35,
     "metadata": {},
     "output_type": "execute_result"
    }
   ],
   "source": [
    "#Valores iniciales\n",
    "x_1n = 0.0\n",
    "x_2n = 0.0\n",
    "x_3n = 0.0"
   ]
  },
  {
   "cell_type": "code",
   "execution_count": 36,
   "metadata": {},
   "outputs": [
    {
     "name": "stdout",
     "output_type": "stream",
     "text": [
      "X_0 = [0.0, 0.0, 0.0]\n",
      "X_1 = [37.0, -32.0, -2.0]\n",
      "Raíz encontrada X_2 = [26.20805369127517, -16.331375838926174, -6.876677852348994]\n",
      "\n",
      "Evaluando la función original con la raíz encontrada: \n",
      "F(X_2) = [633.5307024458358, -245.50578310098643, 0.0]\n"
     ]
    }
   ],
   "source": [
    "metodoNewton(x_1n, x_2n, x_3n)"
   ]
  },
  {
   "cell_type": "markdown",
   "metadata": {},
   "source": [
    "**c.** $$15x_1+x_2^2-4x_3=13$$\n",
    "\n",
    "$$x_1^2+10x_2-x_3=11$$\n",
    "\n",
    "$$x_2^3-25x_3=-22$$"
   ]
  },
  {
   "cell_type": "code",
   "execution_count": 37,
   "metadata": {},
   "outputs": [
    {
     "data": {
      "text/plain": [
       "F (generic function with 2 methods)"
      ]
     },
     "execution_count": 37,
     "metadata": {},
     "output_type": "execute_result"
    }
   ],
   "source": [
    "# ----- FUNCIONES -----\n",
    "#Funciones originales\n",
    "f_1(x_1, x_2, x_3) = 15*x_1 + x_2^2 - 4*x_3 - 13\n",
    "f_2(x_1, x_2, x_3) = x_1^2 + 10*x_2 - x_3 - 11\n",
    "f_3(x_1, x_2, x_3) = x_2^3 - 25*x_3 + 22\n",
    "\n",
    "function F(x_1, x_2, x_3)\n",
    "\n",
    "    f_1 = 15*x_1 + x_2^2 - 4*x_3 - 13\n",
    "    f_2 = x_1^2 + 10*x_2 - x_3 - 11\n",
    "    f_3 = x_2^3 - 25*x_3 + 22\n",
    "\n",
    "    return [f_1; f_2; f_3]\n",
    "end\n",
    "#----------------------"
   ]
  },
  {
   "cell_type": "code",
   "execution_count": 38,
   "metadata": {},
   "outputs": [
    {
     "data": {
      "text/plain": [
       "J (generic function with 1 method)"
      ]
     },
     "execution_count": 38,
     "metadata": {},
     "output_type": "execute_result"
    }
   ],
   "source": [
    "#Matriz Jacobiana:\n",
    "function J(x_1, x_2, x_3)\n",
    "    a_11 = 15\n",
    "    a_12 = 2*x_2\n",
    "    a_13 = -4\n",
    "\n",
    "    a_21 = 2*x_1\n",
    "    a_22 = 10\n",
    "    a_23 = -1\n",
    "\n",
    "    a_31 = 0\n",
    "    a_32 = 3*x_2^2\n",
    "    a_33 = -25\n",
    "\n",
    "    return [a_11 a_12 a_13; a_21 a_22 a_23; a_31 a_32 a_33]\n",
    "end"
   ]
  },
  {
   "cell_type": "code",
   "execution_count": 39,
   "metadata": {},
   "outputs": [
    {
     "data": {
      "text/plain": [
       "metodoNewton (generic function with 1 method)"
      ]
     },
     "execution_count": 39,
     "metadata": {},
     "output_type": "execute_result"
    }
   ],
   "source": [
    "function metodoNewton(x_1n, x_2n, x_3n)\n",
    "    vector_xm = 0.0\n",
    "    iteration = 0\n",
    "    δ = 1.0\n",
    "\n",
    "    while iteration ≤ 1 && δ ≥ TOL\n",
    "        vectorFx = F(x_1n, x_2n, x_3n)  #Vector resultante al evaluar X_n en la función\n",
    "        matrizJ = J(x_1n, x_2n, x_3n)   #Matriz Jacobiana evaluada en el vector X_n\n",
    "\n",
    "        #Se obtiene el resultado equivalente de multiplicar\n",
    "        #la matriz Jacobiana invertida multiplicada por el \n",
    "        #vector resultante al evaluar F(X_n), recordando que \n",
    "        #esto es lo mismo que resolver un sistema de ecuaciones \n",
    "        #J(X_n)*Y = F(X_n), en donde se busca al vector Y:\n",
    "        #vectorResul = metodoGaussJordan(matrizJ, vectorFx)\n",
    "        #Sin embargo, obtenemos el mismo resultado haciendo esto:\n",
    "        vectorResul = inv(matrizJ)*vectorFx\n",
    "\n",
    "        vector_xn = [x_1n, x_2n, x_3n]\n",
    "\n",
    "        vector_xm = vector_xn .- vectorResul    #Se obtiene a X_n+1 = X_n - Y\n",
    "\n",
    "        #Error\n",
    "        ω = abs.(vector_xm .- vector_xn)\n",
    "        δ = max(ω[1], ω[2], ω[3])\n",
    "\n",
    "        println(\"X_$iteration = $vector_xn\")\n",
    "\n",
    "        #Se iguala x_n a x_n+1 para la siguiente iteración\n",
    "        x_1n = vector_xm[1]\n",
    "        x_2n = vector_xm[2]\n",
    "        x_3n = vector_xm[3]\n",
    "\n",
    "        iteration = iteration + 1\n",
    "    end\n",
    "\n",
    "    println(\"\\nRaíz encontrada X_$iteration = $vector_xm\\n\")\n",
    "    println(\"Evaluando la función original con la raíz encontrada: \")\n",
    "    resultadoF = F(vector_xm[1], vector_xm[2], vector_xm[3])\n",
    "    println(\"F(X_$iteration) = $resultadoF\")\n",
    "end"
   ]
  },
  {
   "cell_type": "code",
   "execution_count": 40,
   "metadata": {},
   "outputs": [
    {
     "data": {
      "text/plain": [
       "0.0"
      ]
     },
     "execution_count": 40,
     "metadata": {},
     "output_type": "execute_result"
    }
   ],
   "source": [
    "#Valores iniciales\n",
    "x_1n = 0.0\n",
    "x_2n = 0.0\n",
    "x_3n = 0.0"
   ]
  },
  {
   "cell_type": "code",
   "execution_count": 41,
   "metadata": {},
   "outputs": [
    {
     "name": "stdout",
     "output_type": "stream",
     "text": [
      "X_0 = [0.0, 0.0, 0.0]\n",
      "X_1 = [1.1013333333333333, 1.1880000000000002, 0.88]\n",
      "\n",
      "Raíz encontrada X_2 = [1.0366870824055885, 1.0859238347813478, 0.9297793168810775]\n",
      "\n",
      "Evaluando la función original con la raíz encontrada: \n",
      "F(X_2) = [0.010419543505744144, 0.004179137759010132, 0.03607166601008416]\n"
     ]
    }
   ],
   "source": [
    "metodoNewton(x_1n, x_2n, x_3n)"
   ]
  },
  {
   "cell_type": "markdown",
   "metadata": {},
   "source": [
    "**d.** $$10x_1-2x_2^2+x_2-2x_3-5=0$$\n",
    "\n",
    "$$8x_2^2+4x_3^2-9=0$$\n",
    "\n",
    "$$8x_2x_3+4=0$$"
   ]
  },
  {
   "cell_type": "code",
   "execution_count": 42,
   "metadata": {},
   "outputs": [
    {
     "data": {
      "text/plain": [
       "F (generic function with 2 methods)"
      ]
     },
     "execution_count": 42,
     "metadata": {},
     "output_type": "execute_result"
    }
   ],
   "source": [
    "# ----- FUNCIONES -----\n",
    "#Funciones originales\n",
    "f_1(x_1, x_2, x_3) = 10*x_1 - 2*x_2^2 + x_2 - 2*x_3 - 5\n",
    "f_2(x_1, x_2, x_3) = 8*x_2^2 + 4*x_3^2 - 9\n",
    "f_3(x_1, x_2, x_3) = 8*x_2*x_3 + 4\n",
    "\n",
    "function F(x_1, x_2, x_3)\n",
    "\n",
    "    f_1 = 10*x_1 - 2*x_2^2 + x_2 - 2*x_3 - 5\n",
    "    f_2 = 8*x_2^2 + 4*x_3^2 - 9\n",
    "    f_3 = 8*x_2*x_3 + 4\n",
    "\n",
    "    return [f_1; f_2; f_3]\n",
    "end\n",
    "#----------------------"
   ]
  },
  {
   "cell_type": "code",
   "execution_count": 43,
   "metadata": {},
   "outputs": [
    {
     "data": {
      "text/plain": [
       "J (generic function with 1 method)"
      ]
     },
     "execution_count": 43,
     "metadata": {},
     "output_type": "execute_result"
    }
   ],
   "source": [
    "#Matriz Jacobiana:\n",
    "function J(x_1, x_2, x_3)\n",
    "    a_11 = 10\n",
    "    a_12 = -4*x_2 + 1\n",
    "    a_13 = -2\n",
    "\n",
    "    a_21 = 0\n",
    "    a_22 = 16*x_2\n",
    "    a_23 = 8*x_3\n",
    "\n",
    "    a_31 = 0\n",
    "    a_32 = 8*x_3\n",
    "    a_33 = 8*x_2\n",
    "\n",
    "    return [a_11 a_12 a_13; a_21 a_22 a_23; a_31 a_32 a_33]\n",
    "end"
   ]
  },
  {
   "cell_type": "code",
   "execution_count": 44,
   "metadata": {},
   "outputs": [
    {
     "data": {
      "text/plain": [
       "metodoNewton (generic function with 1 method)"
      ]
     },
     "execution_count": 44,
     "metadata": {},
     "output_type": "execute_result"
    }
   ],
   "source": [
    "function metodoNewton(x_1n, x_2n, x_3n)\n",
    "    vector_xm = 0.0\n",
    "    iteration = 0\n",
    "    δ = 1.0\n",
    "\n",
    "    while iteration ≤ 1 && δ ≥ TOL\n",
    "        vectorFx = F(x_1n, x_2n, x_3n)  #Vector resultante al evaluar X_n en la función\n",
    "        matrizJ = J(x_1n, x_2n, x_3n)   #Matriz Jacobiana evaluada en el vector X_n\n",
    "\n",
    "        #Se obtiene el resultado equivalente de multiplicar\n",
    "        #la matriz Jacobiana invertida multiplicada por el \n",
    "        #vector resultante al evaluar F(X_n), recordando que \n",
    "        #esto es lo mismo que resolver un sistema de ecuaciones \n",
    "        #J(X_n)*Y = F(X_n), en donde se busca al vector Y:\n",
    "        vectorResul = metodoGaussJordan(matrizJ, vectorFx)\n",
    "        #Sin embargo, obtenemos el mismo resultado haciendo esto:\n",
    "        #vectorResul = inv(matrizJ)*vectorFx\n",
    "\n",
    "        vector_xn = [x_1n, x_2n, x_3n]\n",
    "\n",
    "        vector_xm = vector_xn .- vectorResul    #Se obtiene a X_n+1 = X_n - Y\n",
    "\n",
    "        #Error\n",
    "        ω = abs.(vector_xm .- vector_xn)\n",
    "        δ = max(ω[1], ω[2], ω[3])\n",
    "\n",
    "        println(\"X_$iteration = $vector_xn\")\n",
    "\n",
    "        #Se iguala x_n a x_n+1 para la siguiente iteración\n",
    "        x_1n = vector_xm[1]\n",
    "        x_2n = vector_xm[2]\n",
    "        x_3n = vector_xm[3]\n",
    "\n",
    "        iteration = iteration + 1\n",
    "    end\n",
    "\n",
    "    println(\"\\nRaíz encontrada X_$iteration = $vector_xm\\n\")\n",
    "    println(\"Evaluando la función original con la raíz encontrada: \")\n",
    "    resultadoF = F(vector_xm[1], vector_xm[2], vector_xm[3])\n",
    "    println(\"F(X_$iteration) = $resultadoF\")\n",
    "end"
   ]
  },
  {
   "cell_type": "code",
   "execution_count": 45,
   "metadata": {},
   "outputs": [
    {
     "data": {
      "text/plain": [
       "1.0"
      ]
     },
     "execution_count": 45,
     "metadata": {},
     "output_type": "execute_result"
    }
   ],
   "source": [
    "#Valores iniciales\n",
    "x_1n = 1.0\n",
    "x_2n = -1.0\n",
    "x_3n = 1.0"
   ]
  },
  {
   "cell_type": "code",
   "execution_count": 46,
   "metadata": {},
   "outputs": [
    {
     "name": "stdout",
     "output_type": "stream",
     "text": [
      "X_0 = [1.0, -1.0, 1.0]\n",
      "X_1 = [0.9375, -1.125, 0.375]\n",
      "\n",
      "Raíz encontrada X_2 = [0.9006127450980392, -1.0134803921568627, 0.48161764705882354]\n",
      "\n",
      "Evaluando la función original con la raíz encontrada: \n",
      "F(X_2) = [-0.02487324586697426, 0.14496227412533536, 0.09511966551326445]\n"
     ]
    }
   ],
   "source": [
    "metodoNewton(x_1n, x_2n, x_3n)"
   ]
  },
  {
   "cell_type": "markdown",
   "metadata": {},
   "source": [
    "4.- Use las facilidades de graficación de su CAS o calculadora para aproximar soluciones para los siguienes sistemas no lineales."
   ]
  },
  {
   "cell_type": "markdown",
   "metadata": {},
   "source": [
    "**a.** $$3x_1-cos(x_2x_3)-\\frac{1}{2}=0$$\n",
    "\n",
    "$$4x_1^2-625x_2^2+2x_2-1=0$$\n",
    "\n",
    "$$e^{-x_1x_2}+20x_3+\\frac{10\\pi-3}{3}=0$$\n",
    "\n",
    "$$-1 \\leq x_1 \\leq 1, -1 \\leq x_2 \\leq 1, -1 \\leq x_3 \\leq 1 $$"
   ]
  },
  {
   "cell_type": "markdown",
   "metadata": {},
   "source": [
    "$X^2$ = [0.4992, 0.2510, -0.5190]"
   ]
  },
  {
   "cell_type": "markdown",
   "metadata": {},
   "source": [
    "**b.** $$x_1^2+x_2-37=0$$\n",
    "\n",
    "$$x_1-x_2^2-5=0$$\n",
    "\n",
    "$$x_1+x_2+x_3-3=0$$\n",
    "\n",
    "$$-4 \\leq x_1 \\leq 8, -2 \\leq x_2 \\leq 2, -6 \\leq x_3 \\leq 0 $$"
   ]
  },
  {
   "cell_type": "markdown",
   "metadata": {},
   "source": [
    "$X^2$ = [3.1515, 30.4848, -30.6363]"
   ]
  },
  {
   "cell_type": "markdown",
   "metadata": {},
   "source": [
    "**c.** $$15x_1 + x_2^2-4x_3=13$$\n",
    "\n",
    "$$x_1^2+10x_2-x_3=11$$\n",
    "\n",
    "$$x_2^3-25x_3=-22$$\n",
    "\n",
    "$$0 \\leq x_1 \\leq 2, 0 \\leq x_2 \\leq 2, 0 \\leq x_2 \\leq 2 $$\n",
    "\n",
    "$$y$$\n",
    "\n",
    "$$0 \\leq x_1 \\leq 2, 0 \\leq x_2 \\leq 2, -2 \\leq x_2 \\leq 0 $$"
   ]
  },
  {
   "cell_type": "markdown",
   "metadata": {},
   "source": [
    "$X^2$ = [1.0364, 1.0857, 0.9311] y $X^2$ = [1.0364, 1.0857, 0.9311]"
   ]
  },
  {
   "cell_type": "markdown",
   "metadata": {},
   "source": [
    "**d.** $$10x_1-2x_2^2+x_2-2x_3-5=0$$\n",
    "\n",
    "$$8x_2^2+4x_3^2-9=0$$\n",
    "\n",
    "$$8x_2x_3+4=0$$\n",
    "\n",
    "$$0 \\leq x_1 \\leq 2, -2 \\leq x_2 \\leq 0, 0 \\leq x_2 \\leq 2 $$"
   ]
  },
  {
   "cell_type": "markdown",
   "metadata": {},
   "source": [
    "$X^2$ = [0.9006, -1.0134, 0.4816]"
   ]
  },
  {
   "cell_type": "markdown",
   "metadata": {},
   "source": [
    "6.- Use las respuestas obtenidas en el ejercicio 4 como aproximaciones iniciales para el método de Newton. Itere  hasta $||x^k-x^{k-1}||_\\infty < 10^{-6}$"
   ]
  },
  {
   "cell_type": "code",
   "execution_count": 47,
   "metadata": {},
   "outputs": [
    {
     "data": {
      "text/plain": [
       "1.0e-6"
      ]
     },
     "execution_count": 47,
     "metadata": {},
     "output_type": "execute_result"
    }
   ],
   "source": [
    "#Redefinimos el valor para el error tolerado:\n",
    "TOL = 0.000001"
   ]
  },
  {
   "cell_type": "markdown",
   "metadata": {},
   "source": [
    "**a.** $$3x_1-cos(x_2x_3)-\\frac{1}{2}=0$$\n",
    "\n",
    "$$4x_1^2-625x_2^2+2x_2-1=0$$\n",
    "\n",
    "$$e^{-x_1x_2}+20x_3+\\frac{10\\pi-3}{3}=0$$\n",
    "\n",
    "$$-1 \\leq x_1 \\leq 1, -1 \\leq x_2 \\leq 1, -1 \\leq x_3 \\leq 1 $$"
   ]
  },
  {
   "cell_type": "code",
   "execution_count": 48,
   "metadata": {},
   "outputs": [
    {
     "data": {
      "text/plain": [
       "F (generic function with 2 methods)"
      ]
     },
     "execution_count": 48,
     "metadata": {},
     "output_type": "execute_result"
    }
   ],
   "source": [
    "# ----- FUNCIONES -----\n",
    "#Funciones originales\n",
    "f_1(x_1, x_2, x_3) = 3x_1 - cos(x_2*x_3) - 1/2\n",
    "f_2(x_1, x_2, x_3) = 4*x_1^2 - 625(x_2)^2 + 2*x_2 - 1\n",
    "f_3(x_1, x_2, x_3) = ℯ^(-x_1*x_2) + 20x_3 + (10π - 3)/3\n",
    "\n",
    "function F(x_1, x_2, x_3)\n",
    "\n",
    "    f_1 = 3x_1 - cos(x_2*x_3) - 1/2\n",
    "    f_2 = 4*x_1^2 - 625(x_2)^2 + 2*x_2 - 1\n",
    "    f_3 = ℯ^(-x_1*x_2) + 20x_3 + (10π - 3)/3\n",
    "\n",
    "    return [f_1; f_2; f_3]\n",
    "end\n",
    "#----------------------"
   ]
  },
  {
   "cell_type": "code",
   "execution_count": 49,
   "metadata": {},
   "outputs": [
    {
     "data": {
      "text/plain": [
       "J (generic function with 1 method)"
      ]
     },
     "execution_count": 49,
     "metadata": {},
     "output_type": "execute_result"
    }
   ],
   "source": [
    "#Matriz Jacobiana:\n",
    "function J(x_1, x_2, x_3)\n",
    "    a_11 = 3\n",
    "    a_12 = x_3*(sin(x_2*x_3))\n",
    "    a_13 = x_2*(sin(x_2*x_3))\n",
    "\n",
    "    a_21 = 8*x_1\n",
    "    a_22 = -1250*(x_2) + 2\n",
    "    a_23 = 0\n",
    "\n",
    "    a_31 = -1*x_2*(ℯ^(-1*x_1*x_2))\n",
    "    a_32 = -1*x_1*(ℯ^(-1*x_1*x_2))\n",
    "    a_33 = 20\n",
    "\n",
    "    return [a_11 a_12 a_13; a_21 a_22 a_23; a_31 a_32 a_33]\n",
    "end"
   ]
  },
  {
   "cell_type": "code",
   "execution_count": 50,
   "metadata": {},
   "outputs": [
    {
     "data": {
      "text/plain": [
       "metodoNewton (generic function with 1 method)"
      ]
     },
     "execution_count": 50,
     "metadata": {},
     "output_type": "execute_result"
    }
   ],
   "source": [
    "function metodoNewton(x_1n, x_2n, x_3n)\n",
    "    vector_xm = 0.0\n",
    "    iteration = 0\n",
    "    δ = 1.0\n",
    "\n",
    "    while iteration ≤ max_iter && δ ≥ TOL\n",
    "        vectorFx = F(x_1n, x_2n, x_3n)  #Vector resultante al evaluar X_n en la función\n",
    "        matrizJ = J(x_1n, x_2n, x_3n)   #Matriz Jacobiana evaluada en el vector X_n\n",
    "        #println(\"MJ = $matrizJ\")\n",
    "\n",
    "        #Se obtiene el resultado equivalente de multiplicar\n",
    "        #la matriz Jacobiana invertida multiplicada por el \n",
    "        #vector resultante al evaluar F(X_n), recordando que \n",
    "        #esto es lo mismo que resolver un sistema de ecuaciones \n",
    "        #J(X_n)*Y = F(X_n), en donde se busca al vector Y:\n",
    "        #vectorResul = metodoGaussJordan(matrizJ, vectorFx)\n",
    "        #Sin embargo, obtenemos el mismo resultado haciendo esto:\n",
    "        vectorResul = inv(matrizJ)*vectorFx\n",
    "\n",
    "        vector_xn = [x_1n, x_2n, x_3n]\n",
    "\n",
    "        vector_xm = vector_xn .- vectorResul    #Se obtiene a X_n+1 = X_n - Y\n",
    "\n",
    "        #Error\n",
    "        ω = abs.(vector_xm .- vector_xn)\n",
    "        δ = max(ω[1], ω[2], ω[3])\n",
    "\n",
    "        println(\"X_$iteration = $vector_xn\")\n",
    "\n",
    "        #Se iguala x_n a x_n+1 para la siguiente iteración\n",
    "        x_1n = vector_xm[1]\n",
    "        x_2n = vector_xm[2]\n",
    "        x_3n = vector_xm[3]\n",
    "\n",
    "        iteration = iteration + 1\n",
    "    end\n",
    "\n",
    "    println(\"Raíz encontrada X_$iteration = $vector_xm\\n\")\n",
    "    println(\"Evaluando la función original con la raíz encontrada: \")\n",
    "    resultadoF = F(vector_xm[1], vector_xm[2], vector_xm[3])\n",
    "    println(\"F(X_$iteration) = $resultadoF\")\n",
    "end"
   ]
  },
  {
   "cell_type": "code",
   "execution_count": 51,
   "metadata": {},
   "outputs": [
    {
     "data": {
      "text/plain": [
       "0.519"
      ]
     },
     "execution_count": 51,
     "metadata": {},
     "output_type": "execute_result"
    }
   ],
   "source": [
    "#Valores iniciales\n",
    "x_1n = 0.4992\n",
    "x_2n = 0.2510\n",
    "x_3n = 0.5190"
   ]
  },
  {
   "cell_type": "code",
   "execution_count": 52,
   "metadata": {},
   "outputs": [
    {
     "name": "stdout",
     "output_type": "stream",
     "text": [
      "X_0 = [0.4992, 0.251, 0.519]\n",
      "X_1 = [0.511270377810799, 0.12644950062814822, -0.5203194454508077]\n",
      "X_2 = [0.49998579824877476, 0.06403137478179302, -0.5220311693033741]\n",
      "X_3 = [0.4999946794639086, 0.032835917189248776, -0.5227786540730212]\n",
      "X_4 = [0.49999741098407124, 0.017258671826731416, -0.523167669515885]\n",
      "X_5 = [0.4999986019375495, 0.009510794048256617, -0.5233611979651518]\n",
      "X_6 = [0.4999991636032832, 0.005716862930577596, -0.5234559686376556]\n",
      "X_7 = [0.4999994199191373, 0.003968896924950507, -0.5234996326064338]\n",
      "X_8 = [0.4999995142399384, 0.003324128156878251, -0.5235157389017151]\n",
      "X_9 = [0.4999995318610684, 0.0032035994167598984, -0.5235187497068174]\n",
      "X_10 = [0.49999953252299284, 0.0031990711846066077, -0.5235188628219735]\n",
      "Raíz encontrada X_11 = [0.49999953252392976, 0.0031990647749826117, -0.5235188629820858]\n",
      "\n",
      "Evaluando la función original con la raíz encontrada: \n",
      "F(X_11) = [1.1102230246251565e-16, -2.5646151868841116e-14, -1.7763568394002505e-15]\n"
     ]
    }
   ],
   "source": [
    "metodoNewton(x_1n, x_2n, x_3n)\n"
   ]
  },
  {
   "cell_type": "markdown",
   "metadata": {},
   "source": [
    "**b.** $$x_1^2+x_2-37=0$$\n",
    "\n",
    "$$x_1-x_2^2-5=0$$\n",
    "\n",
    "$$x_1+x_2+x_3-3=0$$\n",
    "\n",
    "$$-4 \\leq x_1 \\leq 8, -2 \\leq x_2 \\leq 2, -6 \\leq x_3 \\leq 0 $$"
   ]
  },
  {
   "cell_type": "code",
   "execution_count": 53,
   "metadata": {},
   "outputs": [
    {
     "data": {
      "text/plain": [
       "F (generic function with 2 methods)"
      ]
     },
     "execution_count": 53,
     "metadata": {},
     "output_type": "execute_result"
    }
   ],
   "source": [
    "# ----- FUNCIONES -----\n",
    "#Funciones originales\n",
    "f_1(x_1, x_2, x_3) = x_1^2 + x_2 - 37\n",
    "f_2(x_1, x_2, x_3) = x_1 - x_2^2 - 5\n",
    "f_3(x_1, x_2, x_3) = x_1 + x_2 + x_3 - 3\n",
    "\n",
    "function F(x_1, x_2, x_3)\n",
    "\n",
    "    f_1 = x_1^2 + x_2 - 37\n",
    "    f_2 = x_1 - x_2^2 - 5\n",
    "    f_3 = x_1 + x_2 + x_3 - 3\n",
    "\n",
    "    return [f_1; f_2; f_3]\n",
    "end\n",
    "#----------------------"
   ]
  },
  {
   "cell_type": "code",
   "execution_count": 54,
   "metadata": {},
   "outputs": [
    {
     "data": {
      "text/plain": [
       "J (generic function with 1 method)"
      ]
     },
     "execution_count": 54,
     "metadata": {},
     "output_type": "execute_result"
    }
   ],
   "source": [
    "#Matriz Jacobiana:\n",
    "function J(x_1, x_2, x_3)\n",
    "    a_11 = 2*x_1\n",
    "    a_12 = 1\n",
    "    a_13 = 0\n",
    "\n",
    "    a_21 = 1\n",
    "    a_22 = -2*x_2\n",
    "    a_23 = 0\n",
    "\n",
    "    a_31 = 1\n",
    "    a_32 = 1\n",
    "    a_33 = 1\n",
    "\n",
    "    return [a_11 a_12 a_13; a_21 a_22 a_23; a_31 a_32 a_33]\n",
    "end"
   ]
  },
  {
   "cell_type": "code",
   "execution_count": 55,
   "metadata": {},
   "outputs": [
    {
     "data": {
      "text/plain": [
       "metodoNewton (generic function with 1 method)"
      ]
     },
     "execution_count": 55,
     "metadata": {},
     "output_type": "execute_result"
    }
   ],
   "source": [
    "function metodoNewton(x_1n, x_2n, x_3n)\n",
    "    vector_xm = 0.0\n",
    "    iteration = 0\n",
    "    δ = 1.0\n",
    "\n",
    "    while iteration ≤ max_iter && δ ≥ TOL\n",
    "        vectorFx = F(x_1n, x_2n, x_3n)  #Vector resultante al evaluar X_n en la función\n",
    "        matrizJ = J(x_1n, x_2n, x_3n)   #Matriz Jacobiana evaluada en el vector X_n\n",
    "        #println(\"MJ = $matrizJ\")\n",
    "\n",
    "        #Se obtiene el resultado equivalente de multiplicar\n",
    "        #la matriz Jacobiana invertida multiplicada por el \n",
    "        #vector resultante al evaluar F(X_n), recordando que \n",
    "        #esto es lo mismo que resolver un sistema de ecuaciones \n",
    "        #J(X_n)*Y = F(X_n), en donde se busca al vector Y:\n",
    "        #vectorResul = metodoGaussJordan(matrizJ, vectorFx)\n",
    "        #Sin embargo, obtenemos el mismo resultado haciendo esto:\n",
    "        vectorResul = inv(matrizJ)*vectorFx\n",
    "\n",
    "        vector_xn = [x_1n, x_2n, x_3n]\n",
    "\n",
    "        vector_xm = vector_xn .- vectorResul    #Se obtiene a X_n+1 = X_n - Y\n",
    "\n",
    "        #Error\n",
    "        ω = abs.(vector_xm .- vector_xn)\n",
    "        δ = max(ω[1], ω[2], ω[3])\n",
    "\n",
    "        println(\"X_$iteration = $vector_xn\")\n",
    "\n",
    "        #Se iguala x_n a x_n+1 para la siguiente iteración\n",
    "        x_1n = vector_xm[1]\n",
    "        x_2n = vector_xm[2]\n",
    "        x_3n = vector_xm[3]\n",
    "\n",
    "        iteration = iteration + 1\n",
    "    end\n",
    "\n",
    "    println(\"Raíz encontrada X_$iteration = $vector_xm\\n\")\n",
    "    println(\"Evaluando la función original con la raíz encontrada: \")\n",
    "    resultadoF = F(vector_xm[1], vector_xm[2], vector_xm[3])\n",
    "    println(\"F(X_$iteration) = $resultadoF\")\n",
    "end"
   ]
  },
  {
   "cell_type": "code",
   "execution_count": 56,
   "metadata": {},
   "outputs": [
    {
     "data": {
      "text/plain": [
       "-30.6363"
      ]
     },
     "execution_count": 56,
     "metadata": {},
     "output_type": "execute_result"
    }
   ],
   "source": [
    "#Valores iniciales\n",
    "x_1n = 3.1515\n",
    "x_2n = 30.4848\n",
    "x_3n = -30.6363"
   ]
  },
  {
   "cell_type": "code",
   "execution_count": 57,
   "metadata": {},
   "outputs": [
    {
     "name": "stdout",
     "output_type": "stream",
     "text": [
      "X_0 = [3.1515, 30.4848, -30.6363]\n",
      "X_1 = [5.027621642141408, 15.242853039582698, -17.270474681724107]\n",
      "X_2 = [5.434111485412367, 7.635666356791846, -10.069777842204214]\n",
      "X_3 = [5.7655794166573004, 3.8679649796614615, -6.633544396318763]\n",
      "X_4 = [5.913528335906538, 2.0520715031374763, -4.965599839044013]\n",
      "X_5 = [5.978276790105014, 1.2643989832127858, -4.242675773317799]\n",
      "X_6 = [5.997800162327959, 1.0267743748416631, -4.024574537169622]\n",
      "X_7 = [5.999972421711485, 1.0003356574124442, -4.000308079123929]\n",
      "X_8 = [5.999999995555642, 1.0000000540926135, -4.000000049648255]\n",
      "Raíz encontrada X_9 = [6.0, 1.0000000000000013, -4.000000000000001]\n",
      "\n",
      "Evaluando la función original con la raíz encontrada: \n",
      "F(X_9) = [0.0, -2.6645352591003757e-15, 8.881784197001252e-16]\n"
     ]
    }
   ],
   "source": [
    "metodoNewton(x_1n, x_2n, x_3n)"
   ]
  },
  {
   "cell_type": "markdown",
   "metadata": {},
   "source": [
    "**c.** $$15x_1 + x_2^2-4x_3=13$$\n",
    "\n",
    "$$x_1^2+10x_2-x_3=11$$\n",
    "\n",
    "$$x_2^3-25x_3=-22$$\n",
    "\n",
    "$$0 \\leq x_1 \\leq 2, 0 \\leq x_2 \\leq 2, 0 \\leq x_2 \\leq 2 $$\n",
    "\n",
    "$$y$$\n",
    "\n",
    "$$0 \\leq x_1 \\leq 2, 0 \\leq x_2 \\leq 2, -2 \\leq x_2 \\leq 0 $$"
   ]
  },
  {
   "cell_type": "code",
   "execution_count": 58,
   "metadata": {},
   "outputs": [
    {
     "data": {
      "text/plain": [
       "F (generic function with 2 methods)"
      ]
     },
     "execution_count": 58,
     "metadata": {},
     "output_type": "execute_result"
    }
   ],
   "source": [
    "# ----- FUNCIONES -----\n",
    "#Funciones originales\n",
    "f_1(x_1, x_2, x_3) = 15*x_1 + x_2^2 - 4*x_3 -13\n",
    "f_2(x_1, x_2, x_3) = x_1^2 + 10*x_2 - x_3 - 11\n",
    "f_3(x_1, x_2, x_3) = x_2^3 - 25*x_3 + 22\n",
    "\n",
    "function F(x_1, x_2, x_3)\n",
    "\n",
    "    f_1 = 15*x_1 + x_2^2 - 4*x_3 -13\n",
    "    f_2 = x_1^2 + 10*x_2 - x_3 - 11\n",
    "    f_3 = x_2^3 - 25*x_3 + 22\n",
    "\n",
    "    return [f_1; f_2; f_3]\n",
    "end\n",
    "#----------------------"
   ]
  },
  {
   "cell_type": "code",
   "execution_count": 59,
   "metadata": {},
   "outputs": [
    {
     "data": {
      "text/plain": [
       "J (generic function with 1 method)"
      ]
     },
     "execution_count": 59,
     "metadata": {},
     "output_type": "execute_result"
    }
   ],
   "source": [
    "#Matriz Jacobiana:\n",
    "function J(x_1, x_2, x_3)\n",
    "    a_11 = 15\n",
    "    a_12 = 2*x_2\n",
    "    a_13 = -4\n",
    "\n",
    "    a_21 = 2*x_1\n",
    "    a_22 = 10\n",
    "    a_23 = -1\n",
    "\n",
    "    a_31 = 0\n",
    "    a_32 = 3*x_2^2\n",
    "    a_33 = -25\n",
    "\n",
    "    return [a_11 a_12 a_13; a_21 a_22 a_23; a_31 a_32 a_33]\n",
    "end"
   ]
  },
  {
   "cell_type": "code",
   "execution_count": 60,
   "metadata": {},
   "outputs": [
    {
     "data": {
      "text/plain": [
       "metodoNewton (generic function with 1 method)"
      ]
     },
     "execution_count": 60,
     "metadata": {},
     "output_type": "execute_result"
    }
   ],
   "source": [
    "function metodoNewton(x_1n, x_2n, x_3n)\n",
    "    vector_xm = 0.0\n",
    "    iteration = 0\n",
    "    δ = 1.0\n",
    "\n",
    "    while iteration ≤ max_iter && δ ≥ TOL\n",
    "        vectorFx = F(x_1n, x_2n, x_3n)  #Vector resultante al evaluar X_n en la función\n",
    "        matrizJ = J(x_1n, x_2n, x_3n)   #Matriz Jacobiana evaluada en el vector X_n\n",
    "        #println(\"MJ = $matrizJ\")\n",
    "\n",
    "        #Se obtiene el resultado equivalente de multiplicar\n",
    "        #la matriz Jacobiana invertida multiplicada por el \n",
    "        #vector resultante al evaluar F(X_n), recordando que \n",
    "        #esto es lo mismo que resolver un sistema de ecuaciones \n",
    "        #J(X_n)*Y = F(X_n), en donde se busca al vector Y:\n",
    "        #vectorResul = metodoGaussJordan(matrizJ, vectorFx)\n",
    "        #Sin embargo, obtenemos el mismo resultado haciendo esto:\n",
    "        vectorResul = inv(matrizJ)*vectorFx\n",
    "\n",
    "        vector_xn = [x_1n, x_2n, x_3n]\n",
    "\n",
    "        vector_xm = vector_xn .- vectorResul    #Se obtiene a X_n+1 = X_n - Y\n",
    "\n",
    "        #Error\n",
    "        ω = abs.(vector_xm .- vector_xn)\n",
    "        δ = max(ω[1], ω[2], ω[3])\n",
    "\n",
    "        println(\"X_$iteration = $vector_xn\")\n",
    "\n",
    "        #Se iguala x_n a x_n+1 para la siguiente iteración\n",
    "        x_1n = vector_xm[1]\n",
    "        x_2n = vector_xm[2]\n",
    "        x_3n = vector_xm[3]\n",
    "\n",
    "        iteration = iteration + 1\n",
    "    end\n",
    "\n",
    "    println(\"Raíz encontrada X_$iteration = $vector_xm\\n\")\n",
    "    println(\"Evaluando la función original con la raíz encontrada: \")\n",
    "    resultadoF = F(vector_xm[1], vector_xm[2], vector_xm[3])\n",
    "    println(\"F(X_$iteration) = $resultadoF\")\n",
    "end"
   ]
  },
  {
   "cell_type": "code",
   "execution_count": 61,
   "metadata": {},
   "outputs": [
    {
     "data": {
      "text/plain": [
       "0.9311"
      ]
     },
     "execution_count": 61,
     "metadata": {},
     "output_type": "execute_result"
    }
   ],
   "source": [
    "#Valores iniciales primer rango -> X_0\n",
    "x_1n = 1.0364\n",
    "x_2n = 1.0857\n",
    "x_3n = 0.9311"
   ]
  },
  {
   "cell_type": "code",
   "execution_count": 62,
   "metadata": {},
   "outputs": [
    {
     "name": "stdout",
     "output_type": "stream",
     "text": [
      "X_0 = [1.0364, 1.0857, 0.9311]\n",
      "X_1 = [1.0364004703306722, 1.0857065507408261, 0.9311914423096784]\n",
      "Raíz encontrada X_2 = [1.0364004703292111, 1.0857065507416779, 0.9311914423153898]\n",
      "\n",
      "Evaluando la función original con la raíz encontrada: \n",
      "F(X_2) = [0.0, 0.0, 3.552713678800501e-15]\n"
     ]
    }
   ],
   "source": [
    "metodoNewton(x_1n, x_2n, x_3n)"
   ]
  },
  {
   "cell_type": "code",
   "execution_count": 63,
   "metadata": {},
   "outputs": [
    {
     "data": {
      "text/plain": [
       "0.9311"
      ]
     },
     "execution_count": 63,
     "metadata": {},
     "output_type": "execute_result"
    }
   ],
   "source": [
    "#Valores iniciales segundo rango -> X_0\n",
    "x_1n = 1.0364\n",
    "x_2n = 1.0857\n",
    "x_3n = 0.9311\n"
   ]
  },
  {
   "cell_type": "code",
   "execution_count": 64,
   "metadata": {},
   "outputs": [
    {
     "name": "stdout",
     "output_type": "stream",
     "text": [
      "X_0 = [1.0364, 1.0857, 0.9311]\n",
      "X_1 = [1.0364004703306722, 1.0857065507408261, 0.9311914423096784]\n",
      "Raíz encontrada X_2 = [1.0364004703292111, 1.0857065507416779, 0.9311914423153898]\n",
      "\n",
      "Evaluando la función original con la raíz encontrada: \n",
      "F(X_2) = [0.0, 0.0, 3.552713678800501e-15]\n"
     ]
    }
   ],
   "source": [
    "metodoNewton(x_1n, x_2n, x_3n)"
   ]
  },
  {
   "cell_type": "markdown",
   "metadata": {},
   "source": [
    "**d.** $$10x_1-2x_2^2+x_2-2x_3-5=0$$\n",
    "\n",
    "$$8x_2^2+4x_3^2-9=0$$\n",
    "\n",
    "$$8x_2x_3+4=0$$\n",
    "\n",
    "$$0 \\leq x_1 \\leq 2, -2 \\leq x_2 \\leq 0, 0 \\leq x_2 \\leq 2 $$\n"
   ]
  },
  {
   "cell_type": "code",
   "execution_count": 65,
   "metadata": {},
   "outputs": [
    {
     "data": {
      "text/plain": [
       "F (generic function with 2 methods)"
      ]
     },
     "execution_count": 65,
     "metadata": {},
     "output_type": "execute_result"
    }
   ],
   "source": [
    "# ----- FUNCIONES -----\n",
    "#Funciones originales\n",
    "f_1(x_1, x_2, x_3) = 10*x_1 - 2*x_2^2 + x_2 - 2*x_3 - 5\n",
    "f_2(x_1, x_2, x_3) = 8x_2^2 + 4*x_3^2 - 9\n",
    "f_3(x_1, x_2, x_3) = 8*x_2*x_3 + 4\n",
    "\n",
    "function F(x_1, x_2, x_3)\n",
    "\n",
    "    f_1 = 10*x_1 - 2*x_2^2 + x_2 - 2*x_3 - 5\n",
    "    f_2 = 8x_2^2 + 4*x_3^2 - 9\n",
    "    f_3 = 8*x_2*x_3 + 4\n",
    "\n",
    "    return [f_1; f_2; f_3]\n",
    "end\n",
    "#----------------------"
   ]
  },
  {
   "cell_type": "code",
   "execution_count": 66,
   "metadata": {},
   "outputs": [
    {
     "data": {
      "text/plain": [
       "J (generic function with 1 method)"
      ]
     },
     "execution_count": 66,
     "metadata": {},
     "output_type": "execute_result"
    }
   ],
   "source": [
    "#Matriz Jacobiana:\n",
    "function J(x_1, x_2, x_3)\n",
    "    a_11 = 10\n",
    "    a_12 = -4*x_2 + 1\n",
    "    a_13 = -2\n",
    "\n",
    "    a_21 = 0\n",
    "    a_22 = 16*x_2\n",
    "    a_23 = 8*x_3\n",
    "\n",
    "    a_31 = 0\n",
    "    a_32 = 8*x_3\n",
    "    a_33 = 8*x_2\n",
    "\n",
    "    return [a_11 a_12 a_13; a_21 a_22 a_23; a_31 a_32 a_33]\n",
    "end"
   ]
  },
  {
   "cell_type": "code",
   "execution_count": 67,
   "metadata": {},
   "outputs": [
    {
     "data": {
      "text/plain": [
       "metodoNewton (generic function with 1 method)"
      ]
     },
     "execution_count": 67,
     "metadata": {},
     "output_type": "execute_result"
    }
   ],
   "source": [
    "function metodoNewton(x_1n, x_2n, x_3n)\n",
    "    vector_xm = 0.0\n",
    "    iteration = 0\n",
    "    δ = 1.0\n",
    "\n",
    "    while iteration ≤ max_iter && δ ≥ TOL\n",
    "        vectorFx = F(x_1n, x_2n, x_3n)  #Vector resultante al evaluar X_n en la función\n",
    "        matrizJ = J(x_1n, x_2n, x_3n)   #Matriz Jacobiana evaluada en el vector X_n\n",
    "        #println(\"MJ = $matrizJ\")\n",
    "\n",
    "        #Se obtiene el resultado equivalente de multiplicar\n",
    "        #la matriz Jacobiana invertida multiplicada por el \n",
    "        #vector resultante al evaluar F(X_n), recordando que \n",
    "        #esto es lo mismo que resolver un sistema de ecuaciones \n",
    "        #J(X_n)*Y = F(X_n), en donde se busca al vector Y:\n",
    "        #vectorResul = metodoGaussJordan(matrizJ, vectorFx)\n",
    "        #Sin embargo, obtenemos el mismo resultado haciendo esto:\n",
    "        vectorResul = inv(matrizJ)*vectorFx\n",
    "\n",
    "        vector_xn = [x_1n, x_2n, x_3n]\n",
    "\n",
    "        vector_xm = vector_xn .- vectorResul    #Se obtiene a X_n+1 = X_n - Y\n",
    "\n",
    "        #Error\n",
    "        ω = abs.(vector_xm .- vector_xn)\n",
    "        δ = max(ω[1], ω[2], ω[3])\n",
    "\n",
    "        println(\"X_$iteration = $vector_xn\")\n",
    "\n",
    "        #Se iguala x_n a x_n+1 para la siguiente iteración\n",
    "        x_1n = vector_xm[1]\n",
    "        x_2n = vector_xm[2]\n",
    "        x_3n = vector_xm[3]\n",
    "\n",
    "        iteration = iteration + 1\n",
    "    end\n",
    "\n",
    "    println(\"Raíz encontrada X_$iteration = $vector_xm\\n\")\n",
    "    println(\"Evaluando la función original con la raíz encontrada: \")\n",
    "    resultadoF = F(vector_xm[1], vector_xm[2], vector_xm[3])\n",
    "    println(\"F(X_$iteration) = $resultadoF\")\n",
    "end"
   ]
  },
  {
   "cell_type": "code",
   "execution_count": 68,
   "metadata": {},
   "outputs": [
    {
     "data": {
      "text/plain": [
       "0.4816"
      ]
     },
     "execution_count": 68,
     "metadata": {},
     "output_type": "execute_result"
    }
   ],
   "source": [
    "#Valores iniciales\n",
    "x_1n = 0.9006\n",
    "x_2n = -1.0134\n",
    "x_3n = 0.4816\n"
   ]
  },
  {
   "cell_type": "code",
   "execution_count": 69,
   "metadata": {},
   "outputs": [
    {
     "name": "stdout",
     "output_type": "stream",
     "text": [
      "X_0 = [0.9006, -1.0134, 0.4816]\n",
      "X_1 = [0.9000217790872787, -1.0002591945241275, 0.49963352271282824]\n",
      "X_2 = [0.9000000091194721, -1.0000001038190733, 0.49999985317766016]\n",
      "Raíz encontrada X_3 = [0.9000000000000015, -1.0000000000000167, 0.49999999999997646]\n",
      "\n",
      "Evaluando la función original con la raíz encontrada: \n",
      "F(X_3) = [-2.220446049250313e-14, 1.723066134218243e-13, 1.2168044349891716e-13]\n"
     ]
    }
   ],
   "source": [
    "metodoNewton(x_1n, x_2n, x_3n)"
   ]
  },
  {
   "cell_type": "markdown",
   "metadata": {},
   "source": [
    "8.- El sistema no lineal:\n",
    "\n",
    "$$4x_1 - x_2 + x_3 = x_1x_4$$\n",
    "\n",
    "$$-x_1 + 3x_2 - 2x_3 = x_2x_4$$\n",
    "\n",
    "$$x_1 - 2x_2 + 3x_3 = x_3x_4$$\n",
    "\n",
    "$$x_1^2 + x_2^2 + x_3^2 = 1$$\n",
    "\n",
    "tiene seis soluciones."
   ]
  },
  {
   "cell_type": "markdown",
   "metadata": {},
   "source": [
    "**a.** Muestre que si $(x_1, x_2, x_3, x_4)^t$ es una solución, entonces $(-x_1, -x_2, -x_3, x_4)^t$ es solución."
   ]
  },
  {
   "cell_type": "markdown",
   "metadata": {},
   "source": [
    "**b.** Use el método de Newton tres veces para aproximar todas las soluciones. Itere hasta $||x^k-x^{k-1}||_\\infty < 10^{-5}$"
   ]
  },
  {
   "cell_type": "code",
   "execution_count": 70,
   "metadata": {},
   "outputs": [
    {
     "data": {
      "text/plain": [
       "1.0e-5"
      ]
     },
     "execution_count": 70,
     "metadata": {},
     "output_type": "execute_result"
    }
   ],
   "source": [
    "#Redefinimos el error tolerado\n",
    "TOL = 0.00001"
   ]
  },
  {
   "cell_type": "code",
   "execution_count": 71,
   "metadata": {},
   "outputs": [
    {
     "data": {
      "text/plain": [
       "F (generic function with 3 methods)"
      ]
     },
     "execution_count": 71,
     "metadata": {},
     "output_type": "execute_result"
    }
   ],
   "source": [
    "# ----- FUNCIONES -----\n",
    "#Funciones originales\n",
    "f_1(x_1, x_2, x_3, x_4) = 4*x_1 - x_2 + x_3 - x_1*x_4\n",
    "f_2(x_1, x_2, x_3, x_4) = -x_1 + 3*x_2 - 2*x_3 - x_2*x_4\n",
    "f_3(x_1, x_2, x_3, x_4) = x_1 - 2*x_2 + 3*x_3 - x_3*x_4\n",
    "f_3(x_1, x_2, x_3, x_4) = x_1^2 + x_2^2 + x_3^2 - 1\n",
    "\n",
    "function F(x_1, x_2, x_3, x_4)\n",
    "\n",
    "    f_1 = 4*x_1 - x_2 + x_3 - x_1*x_4\n",
    "    f_2 = -x_1 + 3*x_2 - 2*x_3 - x_2*x_4\n",
    "    f_3 = x_1 - 2*x_2 + 3*x_3 - x_3*x_4\n",
    "    f_4 = x_1^2 + x_2^2 + x_3^2 - 1\n",
    "\n",
    "    return [f_1; f_2; f_3; f_4]\n",
    "end\n",
    "#----------------------"
   ]
  },
  {
   "cell_type": "code",
   "execution_count": 72,
   "metadata": {},
   "outputs": [
    {
     "data": {
      "text/plain": [
       "J (generic function with 2 methods)"
      ]
     },
     "execution_count": 72,
     "metadata": {},
     "output_type": "execute_result"
    }
   ],
   "source": [
    "#Matriz Jacobiana:\n",
    "function J(x_1, x_2, x_3, x_4)\n",
    "    a_11 = 4 - x_4\n",
    "    a_12 = -1\n",
    "    a_13 = 1\n",
    "    a_14 = x_1\n",
    "\n",
    "    a_21 = -1\n",
    "    a_22 = 3 - x_4\n",
    "    a_23 = -2\n",
    "    a_24 = x_2\n",
    "\n",
    "    a_31 = 1\n",
    "    a_32 = -2\n",
    "    a_33 = 3 - x_4\n",
    "    a_34 = x_3\n",
    "\n",
    "    a_41 = 2*x_1\n",
    "    a_42 = 2*x_2\n",
    "    a_43 = 2*x_3\n",
    "    a_44 = 0\n",
    "\n",
    "    return [a_11 a_12 a_13 a_14; a_21 a_22 a_23 a_24; a_31 a_32 a_33 a_34; a_41 a_42 a_43 a_44]\n",
    "end"
   ]
  },
  {
   "cell_type": "code",
   "execution_count": 73,
   "metadata": {},
   "outputs": [
    {
     "data": {
      "text/plain": [
       "metodo_Newton (generic function with 1 method)"
      ]
     },
     "execution_count": 73,
     "metadata": {},
     "output_type": "execute_result"
    }
   ],
   "source": [
    "function metodo_Newton(x_1n, x_2n, x_3n, x_4n)\n",
    "    vector_xm = 0.0\n",
    "    iteration = 0\n",
    "    δ = 1.0\n",
    "\n",
    "    while iteration ≤ max_iter && δ ≥ TOL\n",
    "        vectorFx = F(x_1n, x_2n, x_3n, x_4n)  #Vector resultante al evaluar X_n en la función\n",
    "        matrizJ = J(x_1n, x_2n, x_3n, x_4n)   #Matriz Jacobiana evaluada en el vector X_n\n",
    "\n",
    "        #Se obtiene el resultado equivalente de multiplicar\n",
    "        #la matriz Jacobiana invertida multiplicada por el \n",
    "        #vector resultante al evaluar F(X_n), recordando que \n",
    "        #esto es lo mismo que resolver un sistema de ecuaciones \n",
    "        #J(X_n)*Y = F(X_n), en donde se busca al vector Y:\n",
    "        #vectorResul = metodoGaussJordan(matrizJ, vectorFx)\n",
    "        #Sin embargo, obtenemos el mismo resultado haciendo esto:\n",
    "        vectorResul = inv(matrizJ)*vectorFx\n",
    "\n",
    "        vector_xn = [x_1n, x_2n, x_3n, x_4n]\n",
    "\n",
    "        vector_xm = vector_xn .- vectorResul    #Se obtiene a X_1 = X_0 - Y\n",
    "\n",
    "        #Error\n",
    "        ω = abs.(vector_xm .- vector_xn)\n",
    "        δ = max(ω[1], ω[2], ω[3])\n",
    "\n",
    "        println(\"X_$iteration = $vector_xn\")\n",
    "\n",
    "        #Se iguala X_0 a X_1 para la siguiente iteración\n",
    "        x_1n = vector_xm[1]\n",
    "        x_2n = vector_xm[2]\n",
    "        x_3n = vector_xm[3]\n",
    "        x_4n = vector_xm[4]\n",
    "\n",
    "        iteration = iteration + 1\n",
    "    end\n",
    "\n",
    "    println(\"Raíz encontrada X_$iteration = $vector_xm\\n\")\n",
    "    println(\"Evaluando la función original con la raíz encontrada: \")\n",
    "    resultadoF = F(vector_xm[1], vector_xm[2], vector_xm[3], vector_xm[4])\n",
    "    println(\"F(X_$iteration) = $resultadoF\")\n",
    "end"
   ]
  },
  {
   "cell_type": "markdown",
   "metadata": {},
   "source": [
    "Ahora, como tenemos seis soluciones, encontramos rangos en los cuáles nos dan diferentes raíces para el sistema dado, y a su vez, comprobamos el punto **a** al cambiar el signo del valor x_1, x_2 y x_3:"
   ]
  },
  {
   "cell_type": "markdown",
   "metadata": {},
   "source": [
    "Primero tomamos un valor cercano a cero, para poder ver si existe una raíz cercana:"
   ]
  },
  {
   "cell_type": "code",
   "execution_count": 74,
   "metadata": {},
   "outputs": [
    {
     "data": {
      "text/plain": [
       "1.0"
      ]
     },
     "execution_count": 74,
     "metadata": {},
     "output_type": "execute_result"
    }
   ],
   "source": [
    "x_1n = 1.0\n",
    "x_2n = 1.0\n",
    "x_3n = 1.0\n",
    "x_4n = 1.0 "
   ]
  },
  {
   "cell_type": "code",
   "execution_count": 75,
   "metadata": {},
   "outputs": [
    {
     "name": "stdout",
     "output_type": "stream",
     "text": [
      "X_0 = [1.0, 1.0, 1.0, 1.0]\n",
      "X_1 = [-2.220446049250313e-16, 1.0, 0.9999999999999998, 1.0]\n",
      "X_2 = [2.220446049250315e-17, 0.75, 0.75, 1.0000000000000002]\n",
      "X_3 = [-1.2860083368574706e-17, 0.7083333333333334, 0.7083333333333334, 1.0000000000000004]\n",
      "X_4 = [-1.7976905367361844e-17, 0.7071078431372549, 0.7071078431372549, 1.000000000000001]\n",
      "Raíz encontrada X_5 = [1.924121810066244e-17, 0.7071067811873449, 0.7071067811873449, 1.000000000000002]\n",
      "\n",
      "Evaluando la función original con la raíz encontrada: \n",
      "F(X_5) = [9.178108436185318e-17, -1.5543122344752192e-15, -1.5543122344752192e-15, 2.255307052223543e-12]\n"
     ]
    }
   ],
   "source": [
    "metodo_Newton(x_1n, x_2n, x_3n, x_4n)"
   ]
  },
  {
   "cell_type": "markdown",
   "metadata": {},
   "source": [
    "Al ver que los valores tomados sí lograron alcanzar una raíz, ahora le cambiamos el signo a los tres primeros valores, y así observar si obtenemos o no una raíz igual a la anterior, pero con los tres primeros valores con el signo invertido:"
   ]
  },
  {
   "cell_type": "code",
   "execution_count": 76,
   "metadata": {},
   "outputs": [
    {
     "data": {
      "text/plain": [
       "1.0"
      ]
     },
     "execution_count": 76,
     "metadata": {},
     "output_type": "execute_result"
    }
   ],
   "source": [
    "x_1n = -1.0\n",
    "x_2n = -1.0\n",
    "x_3n = -1.0\n",
    "x_4n = 1.0"
   ]
  },
  {
   "cell_type": "code",
   "execution_count": 77,
   "metadata": {},
   "outputs": [
    {
     "name": "stdout",
     "output_type": "stream",
     "text": [
      "X_0 = [-1.0, -1.0, -1.0, 1.0]\n",
      "X_1 = [2.220446049250313e-16, -1.0, -0.9999999999999998, 1.0]\n",
      "X_2 = [-2.220446049250315e-17, -0.75, -0.75, 1.0000000000000002]\n",
      "X_3 = [1.2860083368574706e-17, -0.7083333333333334, -0.7083333333333334, 1.0000000000000004]\n",
      "X_4 = [1.7976905367361844e-17, -0.7071078431372549, -0.7071078431372549, 1.000000000000001]\n",
      "Raíz encontrada X_5 = [-1.924121810066244e-17, -0.7071067811873449, -0.7071067811873449, 1.000000000000002]\n",
      "\n",
      "Evaluando la función original con la raíz encontrada: \n",
      "F(X_5) = [-9.178108436185318e-17, 1.5543122344752192e-15, 1.5543122344752192e-15, 2.255307052223543e-12]\n"
     ]
    }
   ],
   "source": [
    "metodo_Newton(x_1n, x_2n, x_3n, x_4n)"
   ]
  },
  {
   "cell_type": "markdown",
   "metadata": {},
   "source": [
    "Y ahora, podemos ver que el punto **a** se cumple, pues (0.0000, 0.7071, 0.7071, 1.0) es solución, pero también lo es (-0.0000, -0.7071, -0.7071, 1.0)"
   ]
  },
  {
   "cell_type": "markdown",
   "metadata": {},
   "source": [
    "Proseguimos buscamos otro rango de valores que nos puedan encontrar una raíz distinta a las ya obtenidas:"
   ]
  },
  {
   "cell_type": "code",
   "execution_count": 78,
   "metadata": {},
   "outputs": [
    {
     "data": {
      "text/plain": [
       "3"
      ]
     },
     "execution_count": 78,
     "metadata": {},
     "output_type": "execute_result"
    }
   ],
   "source": [
    "x_1n = -1.0\n",
    "x_2n = -0.5\n",
    "x_3n = 0.5\n",
    "x_4n = 3"
   ]
  },
  {
   "cell_type": "code",
   "execution_count": 79,
   "metadata": {},
   "outputs": [
    {
     "name": "stdout",
     "output_type": "stream",
     "text": [
      "X_0 = [-1.0, -0.5, 0.5, 3.0]\n",
      "X_1 = [-0.8333333333333334, -0.4166666666666667, 0.4166666666666667, 3.0]\n",
      "X_2 = [-0.8166666666666667, -0.4083333333333334, 0.4083333333333334, 2.9999999999999996]\n",
      "X_3 = [-0.8164965986394558, -0.40824829931972795, 0.40824829931972795, 2.999999999999999]\n",
      "Raíz encontrada X_4 = [-0.8164965809277261, -0.40824829046386313, 0.40824829046386313, 2.9999999999999987]\n",
      "\n",
      "Evaluando la función original con la raíz encontrada: \n",
      "F(X_4) = [-8.881784197001252e-16, -4.440892098500626e-16, 4.440892098500626e-16, 4.440892098500626e-16]\n"
     ]
    }
   ],
   "source": [
    "metodo_Newton(x_1n, x_2n, x_3n, x_4n)"
   ]
  },
  {
   "cell_type": "markdown",
   "metadata": {},
   "source": [
    "A continuación, repetiremos el procedimiento anterior e invertiremos el signo de los tres primeros valores para poder encontrar otra solución al sistema:"
   ]
  },
  {
   "cell_type": "code",
   "execution_count": 80,
   "metadata": {},
   "outputs": [
    {
     "data": {
      "text/plain": [
       "3"
      ]
     },
     "execution_count": 80,
     "metadata": {},
     "output_type": "execute_result"
    }
   ],
   "source": [
    "x_1n = 1.0\n",
    "x_2n = 0.5\n",
    "x_3n = -0.5\n",
    "x_4n = 3"
   ]
  },
  {
   "cell_type": "code",
   "execution_count": 81,
   "metadata": {},
   "outputs": [
    {
     "name": "stdout",
     "output_type": "stream",
     "text": [
      "X_0 = [1.0, 0.5, -0.5, 3.0]\n",
      "X_1 = [0.8333333333333334, 0.4166666666666667, -0.4166666666666667, 3.0]\n",
      "X_2 = [0.8166666666666667, 0.4083333333333334, -0.4083333333333334, 2.9999999999999996]\n",
      "X_3 = [0.8164965986394558, 0.40824829931972795, -0.40824829931972795, 2.999999999999999]\n",
      "Raíz encontrada X_4 = [0.8164965809277261, 0.40824829046386313, -0.40824829046386313, 2.9999999999999987]\n",
      "\n",
      "Evaluando la función original con la raíz encontrada: \n",
      "F(X_4) = [8.881784197001252e-16, 4.440892098500626e-16, -4.440892098500626e-16, 4.440892098500626e-16]\n"
     ]
    }
   ],
   "source": [
    "metodo_Newton(x_1n, x_2n, x_3n, x_4n)"
   ]
  },
  {
   "cell_type": "markdown",
   "metadata": {},
   "source": [
    "Nuevamente, podemos comprobar lo propuesto en el punto **a**.\n",
    "\n",
    "Tomando nuevos valores para seguir encontrando más soluciones:"
   ]
  },
  {
   "cell_type": "code",
   "execution_count": 82,
   "metadata": {},
   "outputs": [
    {
     "data": {
      "text/plain": [
       "6"
      ]
     },
     "execution_count": 82,
     "metadata": {},
     "output_type": "execute_result"
    }
   ],
   "source": [
    "x_1n = 0.5\n",
    "x_2n = -0.5\n",
    "x_3n = 0.5\n",
    "x_4n = 6"
   ]
  },
  {
   "cell_type": "code",
   "execution_count": 83,
   "metadata": {},
   "outputs": [
    {
     "name": "stdout",
     "output_type": "stream",
     "text": [
      "X_0 = [0.5, -0.5, 0.5, 6.0]\n",
      "X_1 = [0.5833333333333334, -0.5833333333333334, 0.5833333333333334, 6.0]\n",
      "X_2 = [0.5773809523809524, -0.5773809523809523, 0.5773809523809523, 6.0]\n",
      "X_3 = [0.5773502700049092, -0.5773502700049091, 0.5773502700049092, 6.0]\n",
      "Raíz encontrada X_4 = [0.5773502691896257, -0.5773502691896257, 0.5773502691896258, 6.000000000000001]\n",
      "\n",
      "Evaluando la función original con la raíz encontrada: \n",
      "F(X_4) = [-4.440892098500626e-16, 4.440892098500626e-16, -8.881784197001252e-16, 0.0]\n"
     ]
    }
   ],
   "source": [
    "metodo_Newton(x_1n, x_2n, x_3n, x_4n)"
   ]
  },
  {
   "cell_type": "markdown",
   "metadata": {},
   "source": [
    "Invirtiendo nuevamente los valores, tenemos que:"
   ]
  },
  {
   "cell_type": "code",
   "execution_count": 84,
   "metadata": {},
   "outputs": [
    {
     "data": {
      "text/plain": [
       "6"
      ]
     },
     "execution_count": 84,
     "metadata": {},
     "output_type": "execute_result"
    }
   ],
   "source": [
    "x_1n = -0.5\n",
    "x_2n = 0.5\n",
    "x_3n = -0.5\n",
    "x_4n = 6"
   ]
  },
  {
   "cell_type": "code",
   "execution_count": 85,
   "metadata": {},
   "outputs": [
    {
     "name": "stdout",
     "output_type": "stream",
     "text": [
      "X_0 = [-0.5, 0.5, -0.5, 6.0]\n",
      "X_1 = [-0.5833333333333334, 0.5833333333333334, -0.5833333333333334, 6.0]\n",
      "X_2 = [-0.5773809523809524, 0.5773809523809523, -0.5773809523809523, 6.0]\n",
      "X_3 = [-0.5773502700049092, 0.5773502700049091, -0.5773502700049092, 6.0]\n",
      "Raíz encontrada X_4 = [-0.5773502691896257, 0.5773502691896257, -0.5773502691896258, 6.000000000000001]\n",
      "\n",
      "Evaluando la función original con la raíz encontrada: \n",
      "F(X_4) = [4.440892098500626e-16, -4.440892098500626e-16, 8.881784197001252e-16, 0.0]\n"
     ]
    }
   ],
   "source": [
    "metodo_Newton(x_1n, x_2n, x_3n, x_4n)"
   ]
  },
  {
   "cell_type": "markdown",
   "metadata": {},
   "source": [
    "De esa forma, hemos conseguido las seis soluciones del sistema:"
   ]
  },
  {
   "cell_type": "markdown",
   "metadata": {},
   "source": [
    "$$S_1 = (0.0000, 0.7071, 0.7071, 1.0)^t$$\n",
    "\n",
    "$$S_2 = (-0.0000, -0.7071, -0.7071, 1.0)^t$$\n",
    "\n",
    "$$S_3 = (-0.8164, -0.4082, 0.4082, 2.9999)^t$$\n",
    "\n",
    "$$S_4 = (0.8164, 0.4082, -0.4082, 2.9999)^t$$\n",
    "\n",
    "$$S_5 = (0.5773, -0.5773, 0.5773, 6.0000)^t$$\n",
    "\n",
    "$$S_6 = (-0.5773, 0.5773, -0.5773, 6.0000)^t$$\n",
    "\n"
   ]
  },
  {
   "cell_type": "markdown",
   "metadata": {},
   "source": [
    "Y a su vez, también realizamos el punto **b**, pues aproximamos todas las soluciones con un error tolerado $< 10^{-5}$."
   ]
  },
  {
   "cell_type": "markdown",
   "metadata": {},
   "source": [
    "****"
   ]
  },
  {
   "cell_type": "markdown",
   "metadata": {},
   "source": [
    "### Ejercicios 10.3"
   ]
  },
  {
   "cell_type": "markdown",
   "metadata": {},
   "source": [
    "2.- Use el método de Broyden para calcular $x^2$ para cada uno de los siguientes sistemas no lineales."
   ]
  },
  {
   "cell_type": "markdown",
   "metadata": {},
   "source": [
    "Para utilizar el método de Broyden, necesitamos usar el método de Newton para la primer iteración, la cuál definiremos a continuación por razones prácticas."
   ]
  },
  {
   "cell_type": "code",
   "execution_count": 86,
   "metadata": {},
   "outputs": [
    {
     "data": {
      "text/plain": [
       "metodo_Newton (generic function with 2 methods)"
      ]
     },
     "execution_count": 86,
     "metadata": {},
     "output_type": "execute_result"
    }
   ],
   "source": [
    "function metodo_Newton(x_1n, x_2n, x_3n)\n",
    "    vector_xm = 0.0\n",
    "    iteration = 0\n",
    "\n",
    "    while iteration ≤ 1\n",
    "        vectorFx = F(x_1n, x_2n, x_3n)  #Vector resultante al evaluar X_n en la función\n",
    "        matrizJ = J(x_1n, x_2n, x_3n)   #Matriz Jacobiana evaluada en el vector X_n\n",
    "\n",
    "        #Se obtiene el resultado equivalente de multiplicar\n",
    "        #la matriz Jacobiana invertida multiplicada por el \n",
    "        #vector resultante al evaluar F(X_n), recordando que \n",
    "        #esto es lo mismo que resolver un sistema de ecuaciones \n",
    "        #J(X_n)*Y = F(X_n), en donde se busca al vector Y:\n",
    "        #vectorResul = metodoGaussJordan(matrizJ, vectorFx)\n",
    "        #Sin embargo, obtenemos el mismo resultado haciendo esto:\n",
    "        vectorResul = inv(matrizJ)*vectorFx\n",
    "\n",
    "        vector_xn = [x_1n, x_2n, x_3n]\n",
    "\n",
    "        vector_xm = vector_xn .- vectorResul    #Se obtiene a X_1 = X_0 - Y\n",
    "\n",
    "        #Se iguala X_0 a X_1 para la siguiente iteración\n",
    "        x_1n = vector_xm[1]\n",
    "        x_2n = vector_xm[2]\n",
    "        x_3n = vector_xm[3]\n",
    "\n",
    "        iteration = iteration + 1\n",
    "    end\n",
    "\n",
    "    return vector_xm\n",
    "end"
   ]
  },
  {
   "cell_type": "markdown",
   "metadata": {},
   "source": [
    "Además, utilizaremos la fórmula de Sherman-Morrison, la cuál definiremos a continuación:"
   ]
  },
  {
   "cell_type": "code",
   "execution_count": 87,
   "metadata": {},
   "outputs": [
    {
     "data": {
      "text/plain": [
       "sherman_morrison (generic function with 1 method)"
      ]
     },
     "execution_count": 87,
     "metadata": {},
     "output_type": "execute_result"
    }
   ],
   "source": [
    "function sherman_morrison(x_1n, x_2n, x_3n, x_1m, x_2m, x_3m, A_0)\n",
    "    x0 = [x_1n, x_2n, x_3n]\n",
    "    x1 = [x_1m, x_2m, x_3m]\n",
    "    y_i = F(x_1m, x_2m, x_3m) .- F(x_1n, x_2n, x_3n)\n",
    "    s_i = x1 .- x0\n",
    "\n",
    "    #Producto externo:\n",
    "    AxY = A_0 * y_i\n",
    "    prodExtern = 0.0\n",
    "    for j in 1:convert(Int64, size(s_i)[1])\n",
    "        prodExtern = prodExtern + s_i[j] * AxY[j]\n",
    "    end\n",
    "\n",
    "    A_1 = A_0 + ((s_i - (A_0 * y_i)) * (transpose(s_i) * A_0)) / prodExtern\n",
    "    return A_1\n",
    "end"
   ]
  },
  {
   "cell_type": "markdown",
   "metadata": {},
   "source": [
    "Ahora, continuaremos resolviendo los ejercicios."
   ]
  },
  {
   "cell_type": "markdown",
   "metadata": {},
   "source": [
    "**a.**     $$3x_1 - cos(x_2*x_3) - 1/2=0$$\n",
    "\n",
    "$$4x_1^2 - 625(x_2)^2 + 2x_2 - 1=0$$\n",
    "\n",
    "$$ℯ^{-x_1*x_2} + 20x_3 + \\frac{10\\pi-3}{3}=0$$\n",
    "\n",
    "Use $x^0=(0,0,0)^t$"
   ]
  },
  {
   "cell_type": "markdown",
   "metadata": {},
   "source": [
    "**Resolución:**"
   ]
  },
  {
   "cell_type": "code",
   "execution_count": 88,
   "metadata": {},
   "outputs": [
    {
     "data": {
      "text/plain": [
       "F (generic function with 3 methods)"
      ]
     },
     "execution_count": 88,
     "metadata": {},
     "output_type": "execute_result"
    }
   ],
   "source": [
    "# ----- FUNCIONES -----\n",
    "#Funciones originales\n",
    "f_1(x_1, x_2, x_3) = 3*x_1 - cos(x_2*x_3) - 1/2\n",
    "f_2(x_1, x_2, x_3) = 4*x_1^2 - 625(x_2)^2 + 2*x_2 - 1\n",
    "f_3(x_1, x_2, x_3) = ℯ^(-x_1*x_2) + 20x_3 + (10π - 3)/3\n",
    "\n",
    "function F(x_1, x_2, x_3)\n",
    "\n",
    "    f_1 = 3x_1 - cos(x_2*x_3) - 1/2\n",
    "    f_2 = 4*x_1^2 - 625(x_2)^2 + 2*x_2 - 1\n",
    "    f_3 = ℯ^(-x_1*x_2) + 20x_3 + (10π - 3)/3\n",
    "\n",
    "    return [f_1; f_2; f_3]\n",
    "end\n",
    "#----------------------"
   ]
  },
  {
   "cell_type": "code",
   "execution_count": 89,
   "metadata": {},
   "outputs": [
    {
     "data": {
      "text/plain": [
       "J (generic function with 2 methods)"
      ]
     },
     "execution_count": 89,
     "metadata": {},
     "output_type": "execute_result"
    }
   ],
   "source": [
    "#Matriz Jacobiana:\n",
    "function J(x_1, x_2, x_3)\n",
    "    a_11 = 3\n",
    "    a_12 = x_3*(sin(x_2*x_3))\n",
    "    a_13 = x_2*(sin(x_2*x_3))\n",
    "\n",
    "    a_21 = 8*x_1\n",
    "    a_22 = -1250*(x_2) + 2\n",
    "    a_23 = 0\n",
    "\n",
    "    a_31 = -1*x_2*(ℯ^(-1*x_1*x_2))\n",
    "    a_32 = -1*x_1*(ℯ^(-1*x_1*x_2))\n",
    "    a_33 = 20\n",
    "\n",
    "    return [a_11 a_12 a_13; a_21 a_22 a_23; a_31 a_32 a_33]\n",
    "end"
   ]
  },
  {
   "cell_type": "code",
   "execution_count": 90,
   "metadata": {},
   "outputs": [
    {
     "data": {
      "text/plain": [
       "metodo_Broyden (generic function with 1 method)"
      ]
     },
     "execution_count": 90,
     "metadata": {},
     "output_type": "execute_result"
    }
   ],
   "source": [
    "function metodo_Broyden(x_1n, x_2n, x_3n)\n",
    "    iteration = 0\n",
    "    δ = 1\n",
    "    x_n = [x_1n, x_2n, x_3n]\n",
    "\n",
    "    #Primer iteración con Newton -> x_1\n",
    "    x_m = metodo_Newton(x_1n, x_2n, x_3n)\n",
    "\n",
    "    mJacobi = inv(J(x_1n, x_2n, x_3n)) #-> J(x_0)^-1\n",
    "\n",
    "    iteration = 1\n",
    "\n",
    "    while iteration ≤ 1\n",
    "\n",
    "        mJacobi = sherman_morrison(x_n[1], x_n[2], x_n[3], x_m[1], x_m[2], x_m[3], mJacobi) #-> ≈ J(x_iteration)^-1\n",
    "        x_n = [x_m[1], x_m[2], x_m[3]] #-> x_n = x_iteration\n",
    "        \n",
    "        #Se consigue a x_iteration+1\n",
    "        x_m = x_n - (mJacobi * F(x_n[1], x_n[2], x_n[3]))\n",
    "\n",
    "        #Error\n",
    "        ω = abs.(x_m .- x_n)\n",
    "        δ = max(ω[1], ω[2], ω[3])\n",
    "\n",
    "        iteration = iteration + 1\n",
    "    end\n",
    "\n",
    "    println(\"La raíz encontrada es X_$iteration = $x_m\")\n",
    "    println(\"Evaluando la función original con la raíz encontrada: \")\n",
    "    resultadoF = F(x_m[1], x_m[2], x_m[3])\n",
    "    println(\"F(X_$iteration) = $resultadoF\")\n",
    "end"
   ]
  },
  {
   "cell_type": "code",
   "execution_count": 91,
   "metadata": {},
   "outputs": [
    {
     "data": {
      "text/plain": [
       "0"
      ]
     },
     "execution_count": 91,
     "metadata": {},
     "output_type": "execute_result"
    }
   ],
   "source": [
    "#Valores iniciales\n",
    "x_1n = 0\n",
    "x_2n = 0\n",
    "x_3n = 0"
   ]
  },
  {
   "cell_type": "code",
   "execution_count": 92,
   "metadata": {},
   "outputs": [
    {
     "name": "stdout",
     "output_type": "stream",
     "text": [
      "La raíz encontrada es X_2 = [0.500429324972278, -2.4347281668395393, -0.5245018240630789]\n",
      "Evaluando la función original con la raíz encontrada: \n",
      "F(X_2) = [0.7117185471458221, -3709.80601729765, 2.363743294819759]\n"
     ]
    }
   ],
   "source": [
    "metodo_Broyden(x_1n, x_2n, x_3n)"
   ]
  },
  {
   "cell_type": "markdown",
   "metadata": {},
   "source": [
    "**b.** \n",
    "$$x_1^2 + x_2 - 37=0$$\n",
    "\n",
    "$$x_1 - x_2^2 - 5=0$$\n",
    "\n",
    "$$x_1 + x_2 + x_3 - 3=0$$\n",
    "\n",
    "Use $x^0 = (0,0,0)^t$"
   ]
  },
  {
   "cell_type": "code",
   "execution_count": 93,
   "metadata": {},
   "outputs": [
    {
     "data": {
      "text/plain": [
       "F (generic function with 3 methods)"
      ]
     },
     "execution_count": 93,
     "metadata": {},
     "output_type": "execute_result"
    }
   ],
   "source": [
    "# ----- FUNCIONES -----\n",
    "#Funciones originales\n",
    "f_1(x_1, x_2, x_3) = x_1^2 + x_2 - 37\n",
    "f_2(x_1, x_2, x_3) = x_1 - x_2^2 - 5\n",
    "f_3(x_1, x_2, x_3) = x_1 + x_2 + x_3 - 3\n",
    "\n",
    "function F(x_1, x_2, x_3)\n",
    "\n",
    "    f_1 = x_1^2 + x_2 - 37\n",
    "    f_2 = x_1 - x_2^2 - 5\n",
    "    f_3 = x_1 + x_2 + x_3 - 3\n",
    "\n",
    "    return [f_1; f_2; f_3]\n",
    "end\n",
    "#----------------------"
   ]
  },
  {
   "cell_type": "code",
   "execution_count": 94,
   "metadata": {},
   "outputs": [
    {
     "data": {
      "text/plain": [
       "J (generic function with 2 methods)"
      ]
     },
     "execution_count": 94,
     "metadata": {},
     "output_type": "execute_result"
    }
   ],
   "source": [
    "#Matriz Jacobiana:\n",
    "function J(x_1, x_2, x_3)\n",
    "    a_11 = 2*x_1\n",
    "    a_12 = 1\n",
    "    a_13 = 0\n",
    "\n",
    "    a_21 = 1\n",
    "    a_22 = -2*x_2\n",
    "    a_23 = 0\n",
    "\n",
    "    a_31 = 1\n",
    "    a_32 = 1\n",
    "    a_33 = 1\n",
    "\n",
    "    return [a_11 a_12 a_13; a_21 a_22 a_23; a_31 a_32 a_33]\n",
    "end"
   ]
  },
  {
   "cell_type": "code",
   "execution_count": 95,
   "metadata": {},
   "outputs": [
    {
     "data": {
      "text/plain": [
       "metodo_Broyden (generic function with 1 method)"
      ]
     },
     "execution_count": 95,
     "metadata": {},
     "output_type": "execute_result"
    }
   ],
   "source": [
    "function metodo_Broyden(x_1n, x_2n, x_3n)\n",
    "    iteration = 0\n",
    "    δ = 1\n",
    "    x_n = [x_1n, x_2n, x_3n]\n",
    "\n",
    "    #Primer iteración con Newton -> x_1\n",
    "    x_m = metodo_Newton(x_1n, x_2n, x_3n)\n",
    "\n",
    "    mJacobi = inv(J(x_1n, x_2n, x_3n)) #-> J(x_0)^-1\n",
    "\n",
    "    iteration = 1\n",
    "\n",
    "    while iteration ≤ 1\n",
    "\n",
    "        mJacobi = sherman_morrison(x_n[1], x_n[2], x_n[3], x_m[1], x_m[2], x_m[3], mJacobi) #-> ≈ J(x_iteration)^-1\n",
    "        x_n = [x_m[1], x_m[2], x_m[3]] #-> x_n = x_iteration\n",
    "        \n",
    "        #Se consigue a x_iteration+1\n",
    "        x_m = x_n - (mJacobi * F(x_n[1], x_n[2], x_n[3]))\n",
    "\n",
    "        #Error\n",
    "        ω = abs.(x_m .- x_n)\n",
    "        δ = max(ω[1], ω[2], ω[3])\n",
    "\n",
    "        iteration = iteration + 1\n",
    "    end\n",
    "\n",
    "    println(\"La raíz encontrada es X_$iteration = $x_m\")\n",
    "    println(\"Evaluando la función original con la raíz encontrada: \")\n",
    "    resultadoF = F(x_m[1], x_m[2], x_m[3])\n",
    "    println(\"F(X_$iteration) = $resultadoF\")\n",
    "end"
   ]
  },
  {
   "cell_type": "code",
   "execution_count": 96,
   "metadata": {},
   "outputs": [
    {
     "data": {
      "text/plain": [
       "0"
      ]
     },
     "execution_count": 96,
     "metadata": {},
     "output_type": "execute_result"
    }
   ],
   "source": [
    "#Valores iniciales\n",
    "x_1n = 0\n",
    "x_2n = 0\n",
    "x_3n = 0"
   ]
  },
  {
   "cell_type": "code",
   "execution_count": 97,
   "metadata": {},
   "outputs": [
    {
     "name": "stdout",
     "output_type": "stream",
     "text": [
      "La raíz encontrada es X_2 = [-69.49549598603848, 41.1243181168741, 31.371177869164363]\n",
      "Evaluando la función original con la raíz encontrada: \n",
      "F(X_2) = [4833.748280462364, -1765.705036563898, -1.4210854715202004e-14]\n"
     ]
    }
   ],
   "source": [
    "metodo_Broyden(x_1n, x_2n, x_3n)"
   ]
  },
  {
   "cell_type": "markdown",
   "metadata": {},
   "source": [
    "**c.** \n",
    "$$x_1^3 + x_1^2x_2 - x_1x_3 + 6=0$$\n",
    "\n",
    "$$ℯ^{x_1} + ℯ^{x_2} - x_3=0$$\n",
    "\n",
    "$$x_2^2 - 2x_1x_3 - 4=0$$\n",
    "\n",
    "Use $x^0 = (-1,-2,1)^t$"
   ]
  },
  {
   "cell_type": "code",
   "execution_count": 98,
   "metadata": {},
   "outputs": [
    {
     "data": {
      "text/plain": [
       "F (generic function with 3 methods)"
      ]
     },
     "execution_count": 98,
     "metadata": {},
     "output_type": "execute_result"
    }
   ],
   "source": [
    "# ----- FUNCIONES -----\n",
    "#Funciones originales\n",
    "f_1(x_1, x_2, x_3) = x_1^3 + x_1^2*x_2 - x_1*x_3 + 6\n",
    "f_2(x_1, x_2, x_3) = ℯ^(x_1) + ℯ^(x_2) - x_3 \n",
    "f_3(x_1, x_2, x_3) = x_2^2 - 2*x_1*x_3 - 4\n",
    "\n",
    "function F(x_1, x_2, x_3)\n",
    "\n",
    "    f_1 = x_1^3 + x_1^2*x_2 - x_1*x_3 + 6\n",
    "    f_2 = ℯ^(x_1) + ℯ^(x_2) - x_3 \n",
    "    f_3 = x_2^2 - 2*x_1*x_3 - 4\n",
    "\n",
    "    return [f_1; f_2; f_3]\n",
    "end\n",
    "#----------------------"
   ]
  },
  {
   "cell_type": "code",
   "execution_count": 99,
   "metadata": {},
   "outputs": [
    {
     "data": {
      "text/plain": [
       "J (generic function with 2 methods)"
      ]
     },
     "execution_count": 99,
     "metadata": {},
     "output_type": "execute_result"
    }
   ],
   "source": [
    "#Matriz Jacobiana:\n",
    "function J(x_1, x_2, x_3)\n",
    "    a_11 = 3*x_1^2 + 2*x_2*x_1 - x_3\n",
    "    a_12 = x_1^2\n",
    "    a_13 = -x_1\n",
    "\n",
    "    a_21 = ℯ^(x_1)\n",
    "    a_22 = ℯ^(x_2)\n",
    "    a_23 = -1\n",
    "\n",
    "    a_31 = -2*x_3\n",
    "    a_32 = 2*x_2\n",
    "    a_33 = -2*x_1\n",
    "\n",
    "    return [a_11 a_12 a_13; a_21 a_22 a_23; a_31 a_32 a_33]\n",
    "end"
   ]
  },
  {
   "cell_type": "code",
   "execution_count": 100,
   "metadata": {},
   "outputs": [
    {
     "data": {
      "text/plain": [
       "metodo_Broyden (generic function with 1 method)"
      ]
     },
     "execution_count": 100,
     "metadata": {},
     "output_type": "execute_result"
    }
   ],
   "source": [
    "function metodo_Broyden(x_1n, x_2n, x_3n)\n",
    "    iteration = 0\n",
    "    δ = 1\n",
    "    x_n = [x_1n, x_2n, x_3n]\n",
    "\n",
    "    #Primer iteración con Newton -> x_1\n",
    "    x_m = metodo_Newton(x_1n, x_2n, x_3n)\n",
    "\n",
    "    mJacobi = inv(J(x_1n, x_2n, x_3n)) #-> J(x_0)^-1\n",
    "\n",
    "    iteration = 1\n",
    "\n",
    "    while iteration ≤ 1\n",
    "\n",
    "        mJacobi = sherman_morrison(x_n[1], x_n[2], x_n[3], x_m[1], x_m[2], x_m[3], mJacobi) #-> ≈ J(x_iteration)^-1\n",
    "        x_n = [x_m[1], x_m[2], x_m[3]] #-> x_n = x_iteration\n",
    "        \n",
    "        #Se consigue a x_iteration+1\n",
    "        x_m = x_n - (mJacobi * F(x_n[1], x_n[2], x_n[3]))\n",
    "\n",
    "        #Error\n",
    "        ω = abs.(x_m .- x_n)\n",
    "        δ = max(ω[1], ω[2], ω[3])\n",
    "\n",
    "        iteration = iteration + 1\n",
    "    end\n",
    "\n",
    "    println(\"La raíz encontrada es X_$iteration = $x_m\")\n",
    "    println(\"Evaluando la función original con la raíz encontrada: \")\n",
    "    resultadoF = F(x_m[1], x_m[2], x_m[3])\n",
    "    println(\"F(X_$iteration) = $resultadoF\")\n",
    "end"
   ]
  },
  {
   "cell_type": "code",
   "execution_count": 101,
   "metadata": {},
   "outputs": [
    {
     "data": {
      "text/plain": [
       "1"
      ]
     },
     "execution_count": 101,
     "metadata": {},
     "output_type": "execute_result"
    }
   ],
   "source": [
    "#Valores iniciales\n",
    "x_1n = -1\n",
    "x_2n = -2\n",
    "x_3n = 1"
   ]
  },
  {
   "cell_type": "code",
   "execution_count": 102,
   "metadata": {},
   "outputs": [
    {
     "name": "stdout",
     "output_type": "stream",
     "text": [
      "La raíz encontrada es X_2 = [-1.4503779511692627, -1.6693423055689351, 0.4240475133403323]\n",
      "Evaluando la función original con la raíz encontrada: \n",
      "F(X_2) = [0.052397482597422496, -0.0011949492007941043, 0.01676206035615202]\n"
     ]
    }
   ],
   "source": [
    "metodo_Broyden(x_1n, x_2n, x_3n)"
   ]
  },
  {
   "cell_type": "markdown",
   "metadata": {},
   "source": [
    "**d.** \n",
    "$$6x_1 - 2cos(x_2x_3) - 1=0$$\n",
    "\n",
    "$$9x_2 + √(x_1^2 + sin(x_3) + 1.06) + 0.9=0$$\n",
    "\n",
    "$$60x_3 + 3ℯ^{-x_1*x_2} + 10π - 3=0$$\n",
    "\n",
    "Use $x^0 = (0,0,0)^t$"
   ]
  },
  {
   "cell_type": "code",
   "execution_count": 103,
   "metadata": {},
   "outputs": [
    {
     "data": {
      "text/plain": [
       "F (generic function with 3 methods)"
      ]
     },
     "execution_count": 103,
     "metadata": {},
     "output_type": "execute_result"
    }
   ],
   "source": [
    "# ----- FUNCIONES -----\n",
    "#Funciones originales\n",
    "f_1(x_1, x_2, x_3) = 6*x_1 - 2*cos(x_2*x_3) - 1\n",
    "f_2(x_1, x_2, x_3) = 9*x_2 + √(x_1^2 + sin(x_3) + 1.06) + 0.9\n",
    "f_3(x_1, x_2, x_3) = 60*x_3 + 3*ℯ^(-x_1*x_2) + 10π - 3\n",
    "\n",
    "function F(x_1, x_2, x_3)\n",
    "\n",
    "    f_1 = 6*x_1 - 2*cos(x_2*x_3) - 1\n",
    "    f_2 = 9*x_2 + √(x_1^2 + sin(x_3) + 1.06) + 0.9\n",
    "    f_3 = 60*x_3 + 3*ℯ^(-x_1*x_2) + 10π - 3\n",
    "\n",
    "    return [f_1; f_2; f_3]\n",
    "end\n",
    "#----------------------"
   ]
  },
  {
   "cell_type": "code",
   "execution_count": 104,
   "metadata": {},
   "outputs": [
    {
     "data": {
      "text/plain": [
       "J (generic function with 2 methods)"
      ]
     },
     "execution_count": 104,
     "metadata": {},
     "output_type": "execute_result"
    }
   ],
   "source": [
    "#Matriz Jacobiana:\n",
    "function J(x_1, x_2, x_3)\n",
    "    a_11 = 6\n",
    "    a_12 = 2*x_3*(sin(x_2*x_3))\n",
    "    a_13 = 2*x_2*(sin(x_2*x_3))\n",
    "\n",
    "    a_21 = x_1/(√(x_1^2 + sin(x_3) + 1.06))\n",
    "    a_22 = 9\n",
    "    a_23 = cos(x_3)/(2*√(x_1^2 + sin(x_3) + 1.06))\n",
    "\n",
    "    a_31 = -3*x_2*ℯ^(-x_1*x_2)\n",
    "    a_32 = -3*x_1*ℯ^(-x_1*x_2)\n",
    "    a_33 = 60\n",
    "\n",
    "    return [a_11 a_12 a_13; a_21 a_22 a_23; a_31 a_32 a_33]\n",
    "end"
   ]
  },
  {
   "cell_type": "code",
   "execution_count": 105,
   "metadata": {},
   "outputs": [
    {
     "data": {
      "text/plain": [
       "metodo_Broyden (generic function with 1 method)"
      ]
     },
     "execution_count": 105,
     "metadata": {},
     "output_type": "execute_result"
    }
   ],
   "source": [
    "function metodo_Broyden(x_1n, x_2n, x_3n)\n",
    "    iteration = 0\n",
    "    δ = 1\n",
    "    x_n = [x_1n, x_2n, x_3n]\n",
    "\n",
    "    #Primer iteración con Newton -> x_1\n",
    "    x_m = metodo_Newton(x_1n, x_2n, x_3n)\n",
    "\n",
    "    mJacobi = inv(J(x_1n, x_2n, x_3n)) #-> J(x_0)^-1\n",
    "\n",
    "    iteration = 1\n",
    "\n",
    "    while iteration ≤ 1\n",
    "\n",
    "        mJacobi = sherman_morrison(x_n[1], x_n[2], x_n[3], x_m[1], x_m[2], x_m[3], mJacobi) #-> ≈ J(x_iteration)^-1\n",
    "        x_n = [x_m[1], x_m[2], x_m[3]] #-> x_n = x_iteration\n",
    "        \n",
    "        #Se consigue a x_iteration+1\n",
    "        x_m = x_n - (mJacobi * F(x_n[1], x_n[2], x_n[3]))\n",
    "\n",
    "        #Error\n",
    "        ω = abs.(x_m .- x_n)\n",
    "        δ = max(ω[1], ω[2], ω[3])\n",
    "\n",
    "        iteration = iteration + 1\n",
    "    end\n",
    "\n",
    "    println(\"La raíz encontrada es X_$iteration = $x_m\")\n",
    "    println(\"Evaluando la función original con la raíz encontrada: \")\n",
    "    resultadoF = F(x_m[1], x_m[2], x_m[3])\n",
    "    println(\"F(X_$iteration) = $resultadoF\")\n",
    "end"
   ]
  },
  {
   "cell_type": "code",
   "execution_count": 106,
   "metadata": {},
   "outputs": [
    {
     "data": {
      "text/plain": [
       "0"
      ]
     },
     "execution_count": 106,
     "metadata": {},
     "output_type": "execute_result"
    }
   ],
   "source": [
    "#Valores iniciales\n",
    "x_1n = 0\n",
    "x_2n = 0\n",
    "x_3n = 0"
   ]
  },
  {
   "cell_type": "code",
   "execution_count": 107,
   "metadata": {},
   "outputs": [
    {
     "name": "stdout",
     "output_type": "stream",
     "text": [
      "La raíz encontrada es X_2 = [0.49814468649719146, -0.19960653664721917, -0.5288260855863877]\n",
      "Evaluando la función original con la raíz encontrada: \n",
      "F(X_2) = [8.743095736285511e-8, -5.82088610390219e-6, -5.421268973293536e-6]\n"
     ]
    }
   ],
   "source": [
    "metodo_Broyden(x_1n, x_2n, x_3n)"
   ]
  },
  {
   "cell_type": "markdown",
   "metadata": {},
   "source": [
    "4.- Use el método de Broyden para aproximar soluciones de los sistemas no lineales en el ejercicio 2 mediante las siguientes aproximaciones iniciales $x^0$."
   ]
  },
  {
   "cell_type": "markdown",
   "metadata": {},
   "source": [
    "**a.** $(1,1,1)^t$"
   ]
  },
  {
   "cell_type": "code",
   "execution_count": 108,
   "metadata": {},
   "outputs": [
    {
     "data": {
      "text/plain": [
       "F (generic function with 3 methods)"
      ]
     },
     "execution_count": 108,
     "metadata": {},
     "output_type": "execute_result"
    }
   ],
   "source": [
    "# ----- FUNCIONES -----\n",
    "#Funciones originales\n",
    "f_1(x_1, x_2, x_3) = 3*x_1 - cos(x_2*x_3) - 1/2\n",
    "f_2(x_1, x_2, x_3) = 4*x_1^2 - 625(x_2)^2 + 2*x_2 - 1\n",
    "f_3(x_1, x_2, x_3) = ℯ^(-x_1*x_2) + 20x_3 + (10π - 3)/3\n",
    "\n",
    "function F(x_1, x_2, x_3)\n",
    "\n",
    "    f_1 = 3x_1 - cos(x_2*x_3) - 1/2\n",
    "    f_2 = 4*x_1^2 - 625(x_2)^2 + 2*x_2 - 1\n",
    "    f_3 = ℯ^(-x_1*x_2) + 20x_3 + (10π - 3)/3\n",
    "\n",
    "    return [f_1; f_2; f_3]\n",
    "end\n",
    "#----------------------"
   ]
  },
  {
   "cell_type": "code",
   "execution_count": 109,
   "metadata": {},
   "outputs": [
    {
     "data": {
      "text/plain": [
       "J (generic function with 2 methods)"
      ]
     },
     "execution_count": 109,
     "metadata": {},
     "output_type": "execute_result"
    }
   ],
   "source": [
    "#Matriz Jacobiana:\n",
    "function J(x_1, x_2, x_3)\n",
    "    a_11 = 3\n",
    "    a_12 = x_3*(sin(x_2*x_3))\n",
    "    a_13 = x_2*(sin(x_2*x_3))\n",
    "\n",
    "    a_21 = 8*x_1\n",
    "    a_22 = -1250*(x_2) + 2\n",
    "    a_23 = 0\n",
    "\n",
    "    a_31 = -1*x_2*(ℯ^(-1*x_1*x_2))\n",
    "    a_32 = -1*x_1*(ℯ^(-1*x_1*x_2))\n",
    "    a_33 = 20\n",
    "\n",
    "    return [a_11 a_12 a_13; a_21 a_22 a_23; a_31 a_32 a_33]\n",
    "end"
   ]
  },
  {
   "cell_type": "code",
   "execution_count": 110,
   "metadata": {},
   "outputs": [
    {
     "data": {
      "text/plain": [
       "metodo_Broyden (generic function with 1 method)"
      ]
     },
     "execution_count": 110,
     "metadata": {},
     "output_type": "execute_result"
    }
   ],
   "source": [
    "function metodo_Broyden(x_1n, x_2n, x_3n)\n",
    "    iteration = 0\n",
    "    δ = 1\n",
    "    x_n = [x_1n, x_2n, x_3n]\n",
    "\n",
    "    #Primer iteración con Newton -> x_1\n",
    "    x_m = metodo_Newton(x_1n, x_2n, x_3n)\n",
    "\n",
    "    mJacobi = inv(J(x_1n, x_2n, x_3n)) #-> J(x_0)^-1\n",
    "\n",
    "    iteration = 1\n",
    "\n",
    "    while iteration ≤ max_iter && δ ≥ TOL\n",
    "\n",
    "        mJacobi = sherman_morrison(x_n[1], x_n[2], x_n[3], x_m[1], x_m[2], x_m[3], mJacobi) #-> ≈ J(x_iteration)^-1\n",
    "        x_n = [x_m[1], x_m[2], x_m[3]] #-> x_n = x_iteration\n",
    "        \n",
    "        #Se consigue a x_iteration+1\n",
    "        x_m = x_n - (mJacobi * F(x_n[1], x_n[2], x_n[3]))\n",
    "\n",
    "        #Error\n",
    "        ω = abs.(x_m .- x_n)\n",
    "        δ = max(ω[1], ω[2], ω[3])\n",
    "\n",
    "        iteration = iteration + 1\n",
    "    end\n",
    "\n",
    "    println(\"La raíz encontrada es X_$iteration = $x_m\")\n",
    "    println(\"Evaluando la función original con la raíz encontrada: \")\n",
    "    resultadoF = F(x_m[1], x_m[2], x_m[3])\n",
    "    println(\"F(X_$iteration) = $resultadoF\")\n",
    "end"
   ]
  },
  {
   "cell_type": "code",
   "execution_count": 111,
   "metadata": {},
   "outputs": [
    {
     "data": {
      "text/plain": [
       "1"
      ]
     },
     "execution_count": 111,
     "metadata": {},
     "output_type": "execute_result"
    }
   ],
   "source": [
    "#Valores iniciales\n",
    "x_1n = 1\n",
    "x_2n = 1\n",
    "x_3n = 1"
   ]
  },
  {
   "cell_type": "code",
   "execution_count": 112,
   "metadata": {},
   "outputs": [
    {
     "name": "stdout",
     "output_type": "stream",
     "text": [
      "La raíz encontrada es X_16 = [0.4999995325235557, 0.003199067572372998, -0.5235188629121877]\n",
      "Evaluando la función original con la raíz encontrada: \n",
      "F(X_16) = [1.3301582058034e-12, -5.593037255557931e-9, 1.5045742429720121e-12]\n"
     ]
    }
   ],
   "source": [
    "metodo_Broyden(x_1n, x_2n, x_3n)"
   ]
  },
  {
   "cell_type": "markdown",
   "metadata": {},
   "source": [
    "**b.** $(2,1,-1)^t$"
   ]
  },
  {
   "cell_type": "code",
   "execution_count": 113,
   "metadata": {},
   "outputs": [
    {
     "data": {
      "text/plain": [
       "F (generic function with 3 methods)"
      ]
     },
     "execution_count": 113,
     "metadata": {},
     "output_type": "execute_result"
    }
   ],
   "source": [
    "# ----- FUNCIONES -----\n",
    "#Funciones originales\n",
    "f_1(x_1, x_2, x_3) = x_1^2 + x_2 - 37\n",
    "f_2(x_1, x_2, x_3) = x_1 - x_2^2 - 5\n",
    "f_3(x_1, x_2, x_3) = x_1 + x_2 + x_3 - 3\n",
    "\n",
    "function F(x_1, x_2, x_3)\n",
    "\n",
    "    f_1 = x_1^2 + x_2 - 37\n",
    "    f_2 = x_1 - x_2^2 - 5\n",
    "    f_3 = x_1 + x_2 + x_3 - 3\n",
    "\n",
    "    return [f_1; f_2; f_3]\n",
    "end\n",
    "#----------------------"
   ]
  },
  {
   "cell_type": "code",
   "execution_count": 114,
   "metadata": {},
   "outputs": [
    {
     "data": {
      "text/plain": [
       "J (generic function with 2 methods)"
      ]
     },
     "execution_count": 114,
     "metadata": {},
     "output_type": "execute_result"
    }
   ],
   "source": [
    "#Matriz Jacobiana:\n",
    "function J(x_1, x_2, x_3)\n",
    "    a_11 = 2*x_1\n",
    "    a_12 = 1\n",
    "    a_13 = 0\n",
    "\n",
    "    a_21 = 1\n",
    "    a_22 = -2*x_2\n",
    "    a_23 = 0\n",
    "\n",
    "    a_31 = 1\n",
    "    a_32 = 1\n",
    "    a_33 = 1\n",
    "\n",
    "    return [a_11 a_12 a_13; a_21 a_22 a_23; a_31 a_32 a_33]\n",
    "end"
   ]
  },
  {
   "cell_type": "code",
   "execution_count": 115,
   "metadata": {},
   "outputs": [
    {
     "data": {
      "text/plain": [
       "metodo_Broyden (generic function with 1 method)"
      ]
     },
     "execution_count": 115,
     "metadata": {},
     "output_type": "execute_result"
    }
   ],
   "source": [
    "function metodo_Broyden(x_1n, x_2n, x_3n)\n",
    "    iteration = 0\n",
    "    δ = 1\n",
    "    x_n = [x_1n, x_2n, x_3n]\n",
    "\n",
    "    #Primer iteración con Newton -> x_1\n",
    "    x_m = metodo_Newton(x_1n, x_2n, x_3n)\n",
    "\n",
    "    mJacobi = inv(J(x_1n, x_2n, x_3n)) #-> J(x_0)^-1\n",
    "\n",
    "    iteration = 1\n",
    "\n",
    "    while iteration ≤ max_iter && δ ≥ TOL\n",
    "\n",
    "        mJacobi = sherman_morrison(x_n[1], x_n[2], x_n[3], x_m[1], x_m[2], x_m[3], mJacobi) #-> ≈ J(x_iteration)^-1\n",
    "        x_n = [x_m[1], x_m[2], x_m[3]] #-> x_n = x_iteration\n",
    "        \n",
    "        #Se consigue a x_iteration+1\n",
    "        x_m = x_n - (mJacobi * F(x_n[1], x_n[2], x_n[3]))\n",
    "\n",
    "        #Error\n",
    "        ω = abs.(x_m .- x_n)\n",
    "        δ = max(ω[1], ω[2], ω[3])\n",
    "\n",
    "        iteration = iteration + 1\n",
    "    end\n",
    "\n",
    "    println(\"La raíz encontrada es X_$iteration = $x_m\")\n",
    "    println(\"Evaluando la función original con la raíz encontrada: \")\n",
    "    resultadoF = F(x_m[1], x_m[2], x_m[3])\n",
    "    println(\"F(X_$iteration) = $resultadoF\")\n",
    "end"
   ]
  },
  {
   "cell_type": "code",
   "execution_count": 116,
   "metadata": {},
   "outputs": [
    {
     "data": {
      "text/plain": [
       "-1"
      ]
     },
     "execution_count": 116,
     "metadata": {},
     "output_type": "execute_result"
    }
   ],
   "source": [
    "#Valores iniciales\n",
    "x_1n = 2\n",
    "x_2n = 1\n",
    "x_3n = -1"
   ]
  },
  {
   "cell_type": "code",
   "execution_count": 117,
   "metadata": {},
   "outputs": [
    {
     "name": "stdout",
     "output_type": "stream",
     "text": [
      "La raíz encontrada es X_8 = [5.999999930105521, 1.0000000146336137, -3.999999944739135]\n",
      "Evaluando la función original con la raíz encontrada: \n",
      "F(X_8) = [-8.241001268061154e-7, -9.916170640167365e-8, 0.0]\n"
     ]
    }
   ],
   "source": [
    "metodo_Broyden(x_1n, x_2n, x_3n)"
   ]
  },
  {
   "cell_type": "markdown",
   "metadata": {},
   "source": [
    "**c.** $ (-1,-2,1)^t $"
   ]
  },
  {
   "cell_type": "code",
   "execution_count": 118,
   "metadata": {},
   "outputs": [
    {
     "data": {
      "text/plain": [
       "F (generic function with 3 methods)"
      ]
     },
     "execution_count": 118,
     "metadata": {},
     "output_type": "execute_result"
    }
   ],
   "source": [
    "# ----- FUNCIONES -----\n",
    "#Funciones originales\n",
    "f_1(x_1, x_2, x_3) = x_1^3 + x_1^2*x_2 - x_1*x_3 + 6\n",
    "f_2(x_1, x_2, x_3) = ℯ^(x_1) + ℯ^(x_2) - x_3 \n",
    "f_3(x_1, x_2, x_3) = x_2^2 - 2*x_1*x_3 - 4\n",
    "\n",
    "function F(x_1, x_2, x_3)\n",
    "\n",
    "    f_1 = x_1^3 + x_1^2*x_2 - x_1*x_3 + 6\n",
    "    f_2 = ℯ^(x_1) + ℯ^(x_2) - x_3 \n",
    "    f_3 = x_2^2 - 2*x_1*x_3 - 4\n",
    "\n",
    "    return [f_1; f_2; f_3]\n",
    "end\n",
    "#----------------------"
   ]
  },
  {
   "cell_type": "code",
   "execution_count": 119,
   "metadata": {},
   "outputs": [
    {
     "data": {
      "text/plain": [
       "J (generic function with 2 methods)"
      ]
     },
     "execution_count": 119,
     "metadata": {},
     "output_type": "execute_result"
    }
   ],
   "source": [
    "#Matriz Jacobiana:\n",
    "function J(x_1, x_2, x_3)\n",
    "    a_11 = 3*x_1^2 + 2*x_2*x_1 - x_3\n",
    "    a_12 = x_1^2\n",
    "    a_13 = -x_1\n",
    "\n",
    "    a_21 = ℯ^(x_1)\n",
    "    a_22 = ℯ^(x_2)\n",
    "    a_23 = -1\n",
    "\n",
    "    a_31 = -2*x_3\n",
    "    a_32 = 2*x_2\n",
    "    a_33 = -2*x_1\n",
    "\n",
    "    return [a_11 a_12 a_13; a_21 a_22 a_23; a_31 a_32 a_33]\n",
    "end"
   ]
  },
  {
   "cell_type": "code",
   "execution_count": 120,
   "metadata": {},
   "outputs": [
    {
     "data": {
      "text/plain": [
       "metodo_Broyden (generic function with 1 method)"
      ]
     },
     "execution_count": 120,
     "metadata": {},
     "output_type": "execute_result"
    }
   ],
   "source": [
    "function metodo_Broyden(x_1n, x_2n, x_3n)\n",
    "    iteration = 0\n",
    "    δ = 1\n",
    "    x_n = [x_1n, x_2n, x_3n]\n",
    "\n",
    "    #Primer iteración con Newton -> x_1\n",
    "    x_m = metodo_Newton(x_1n, x_2n, x_3n)\n",
    "\n",
    "    mJacobi = inv(J(x_1n, x_2n, x_3n)) #-> J(x_0)^-1\n",
    "\n",
    "    iteration = 1\n",
    "\n",
    "    while iteration ≤ max_iter && δ ≥ TOL\n",
    "\n",
    "        mJacobi = sherman_morrison(x_n[1], x_n[2], x_n[3], x_m[1], x_m[2], x_m[3], mJacobi) #-> ≈ J(x_iteration)^-1\n",
    "        x_n = [x_m[1], x_m[2], x_m[3]] #-> x_n = x_iteration\n",
    "        \n",
    "        #Se consigue a x_iteration+1\n",
    "        x_m = x_n - (mJacobi * F(x_n[1], x_n[2], x_n[3]))\n",
    "\n",
    "        #Error\n",
    "        ω = abs.(x_m .- x_n)\n",
    "        δ = max(ω[1], ω[2], ω[3])\n",
    "\n",
    "        iteration = iteration + 1\n",
    "    end\n",
    "\n",
    "    println(\"La raíz encontrada es X_$iteration = $x_m\")\n",
    "    println(\"Evaluando la función original con la raíz encontrada: \")\n",
    "    resultadoF = F(x_m[1], x_m[2], x_m[3])\n",
    "    println(\"F(X_$iteration) = $resultadoF\")\n",
    "end"
   ]
  },
  {
   "cell_type": "code",
   "execution_count": 121,
   "metadata": {},
   "outputs": [
    {
     "data": {
      "text/plain": [
       "1"
      ]
     },
     "execution_count": 121,
     "metadata": {},
     "output_type": "execute_result"
    }
   ],
   "source": [
    "#Valores iniciales\n",
    "x_1n = -1\n",
    "x_2n = -2\n",
    "x_3n = 1"
   ]
  },
  {
   "cell_type": "code",
   "execution_count": 122,
   "metadata": {},
   "outputs": [
    {
     "name": "stdout",
     "output_type": "stream",
     "text": [
      "La raíz encontrada es X_6 = [-1.456043002262457, -1.664230059731139, 0.4224934827403066]\n",
      "Evaluando la función original con la raíz encontrada: \n",
      "F(X_6) = [-1.2493438790173172e-6, -4.9458842465988084e-8, -9.501962541236253e-7]\n"
     ]
    }
   ],
   "source": [
    "metodo_Broyden(x_1n, x_2n, x_3n)"
   ]
  },
  {
   "cell_type": "markdown",
   "metadata": {},
   "source": [
    "**d.** $ (0,0,0)^t $"
   ]
  },
  {
   "cell_type": "code",
   "execution_count": 123,
   "metadata": {},
   "outputs": [
    {
     "data": {
      "text/plain": [
       "F (generic function with 3 methods)"
      ]
     },
     "execution_count": 123,
     "metadata": {},
     "output_type": "execute_result"
    }
   ],
   "source": [
    "# ----- FUNCIONES -----\n",
    "#Funciones originales\n",
    "f_1(x_1, x_2, x_3) = 6*x_1 - 2*cos(x_2*x_3) - 1\n",
    "f_2(x_1, x_2, x_3) = 9*x_2 + √(x_1^2 + sin(x_3) + 1.06) + 0.9\n",
    "f_3(x_1, x_2, x_3) = 60*x_3 + 3*ℯ^(-x_1*x_2) + 10π - 3\n",
    "\n",
    "function F(x_1, x_2, x_3)\n",
    "\n",
    "    f_1 = 6*x_1 - 2*cos(x_2*x_3) - 1\n",
    "    f_2 = 9*x_2 + √(x_1^2 + sin(x_3) + 1.06) + 0.9\n",
    "    f_3 = 60*x_3 + 3*ℯ^(-x_1*x_2) + 10π - 3\n",
    "\n",
    "    return [f_1; f_2; f_3]\n",
    "end\n",
    "#----------------------"
   ]
  },
  {
   "cell_type": "code",
   "execution_count": 124,
   "metadata": {},
   "outputs": [
    {
     "data": {
      "text/plain": [
       "J (generic function with 2 methods)"
      ]
     },
     "execution_count": 124,
     "metadata": {},
     "output_type": "execute_result"
    }
   ],
   "source": [
    "#Matriz Jacobiana:\n",
    "function J(x_1, x_2, x_3)\n",
    "    a_11 = 6\n",
    "    a_12 = 2*x_3*(sin(x_2*x_3))\n",
    "    a_13 = 2*x_2*(sin(x_2*x_3))\n",
    "\n",
    "    a_21 = x_1/(√(x_1^2 + sin(x_3) + 1.06))\n",
    "    a_22 = 9\n",
    "    a_23 = cos(x_3)/(2*√(x_1^2 + sin(x_3) + 1.06))\n",
    "\n",
    "    a_31 = -3*x_2*ℯ^(-x_1*x_2)\n",
    "    a_32 = -3*x_1*ℯ^(-x_1*x_2)\n",
    "    a_33 = 60\n",
    "\n",
    "    return [a_11 a_12 a_13; a_21 a_22 a_23; a_31 a_32 a_33]\n",
    "end"
   ]
  },
  {
   "cell_type": "code",
   "execution_count": 125,
   "metadata": {},
   "outputs": [
    {
     "data": {
      "text/plain": [
       "metodo_Broyden (generic function with 1 method)"
      ]
     },
     "execution_count": 125,
     "metadata": {},
     "output_type": "execute_result"
    }
   ],
   "source": [
    "function metodo_Broyden(x_1n, x_2n, x_3n)\n",
    "    iteration = 0\n",
    "    δ = 1\n",
    "    x_n = [x_1n, x_2n, x_3n]\n",
    "\n",
    "    #Primer iteración con Newton -> x_1\n",
    "    x_m = metodo_Newton(x_1n, x_2n, x_3n)\n",
    "\n",
    "    mJacobi = inv(J(x_1n, x_2n, x_3n)) #-> J(x_0)^-1\n",
    "\n",
    "    iteration = 1\n",
    "\n",
    "    while iteration ≤ max_iter && δ ≥ TOL\n",
    "\n",
    "        mJacobi = sherman_morrison(x_n[1], x_n[2], x_n[3], x_m[1], x_m[2], x_m[3], mJacobi) #-> ≈ J(x_iteration)^-1\n",
    "        x_n = [x_m[1], x_m[2], x_m[3]] #-> x_n = x_iteration\n",
    "        \n",
    "        #Se consigue a x_iteration+1\n",
    "        x_m = x_n - (mJacobi * F(x_n[1], x_n[2], x_n[3]))\n",
    "\n",
    "        #Error\n",
    "        ω = abs.(x_m .- x_n)\n",
    "        δ = max(ω[1], ω[2], ω[3])\n",
    "\n",
    "        iteration = iteration + 1\n",
    "    end\n",
    "\n",
    "    println(\"La raíz encontrada es X_$iteration = $x_m\")\n",
    "    println(\"Evaluando la función original con la raíz encontrada: \")\n",
    "    resultadoF = F(x_m[1], x_m[2], x_m[3])\n",
    "    println(\"F(X_$iteration) = $resultadoF\")\n",
    "end"
   ]
  },
  {
   "cell_type": "code",
   "execution_count": 126,
   "metadata": {},
   "outputs": [
    {
     "data": {
      "text/plain": [
       "0"
      ]
     },
     "execution_count": 126,
     "metadata": {},
     "output_type": "execute_result"
    }
   ],
   "source": [
    "#Valores iniciales\n",
    "x_1n = 0\n",
    "x_2n = 0\n",
    "x_3n = 0"
   ]
  },
  {
   "cell_type": "code",
   "execution_count": 127,
   "metadata": {},
   "outputs": [
    {
     "name": "stdout",
     "output_type": "stream",
     "text": [
      "La raíz encontrada es X_3 = [0.49814467249652317, -0.19960588888315212, -0.5288259933186806]\n",
      "Evaluando la función original con la raíz encontrada: \n",
      "F(X_3) = [-7.263776868882132e-8, 4.564340572166259e-8, -9.637106117565963e-7]\n"
     ]
    }
   ],
   "source": [
    "metodo_Broyden(x_1n, x_2n, x_3n)"
   ]
  },
  {
   "cell_type": "markdown",
   "metadata": {},
   "source": [
    "6.- El sistema no lineal\n",
    "\n",
    "$$4x_1 - x_2 + x_3 = x_1x_4$$\n",
    "$$-x_1 + 3x_2 - 2x_3 = x_2x_4$$\n",
    "$$x_1 - 2x_2 + 3x_3 = x_3x_4$$\n",
    "$$x_1^2 + x_2^2 + x_3^2 = 1$$\n",
    "\n",
    "tiene seis soluciones.\n",
    "\n",
    "**a.** Muestre que si $ (x_1, x_2, x_3, x_4)^t $ es una solución, entonces $ (-x_1, -x_2, -x_3, -x_4)^t $ es una solución.\n",
    "\n",
    "**b.** Use el método de Broyden tres veces para aproximar cada solución. Itere hasta $||x^k-x^{k-1}||_\\infty < 10^{-5}$."
   ]
  },
  {
   "cell_type": "code",
   "execution_count": 128,
   "metadata": {},
   "outputs": [
    {
     "data": {
      "text/plain": [
       "F (generic function with 3 methods)"
      ]
     },
     "execution_count": 128,
     "metadata": {},
     "output_type": "execute_result"
    }
   ],
   "source": [
    "# ----- FUNCIONES -----\n",
    "#Funciones originales\n",
    "f_1(x_1, x_2, x_3, x_4) = 4*x_1 - x_2 + x_3 - x_1*x_4\n",
    "f_2(x_1, x_2, x_3, x_4) = -x_1 + 3*x_2 - 2*x_3 - x_2*x_4\n",
    "f_3(x_1, x_2, x_3, x_4) = x_1 - 2*x_2 + 3*x_3 - x_3*x_4\n",
    "f_3(x_1, x_2, x_3, x_4) = x_1^2 + x_2^2 + x_3^2 - 1\n",
    "\n",
    "function F(x_1, x_2, x_3, x_4)\n",
    "\n",
    "    f_1 = 4*x_1 - x_2 + x_3 - x_1*x_4\n",
    "    f_2 = -x_1 + 3*x_2 - 2*x_3 - x_2*x_4\n",
    "    f_3 = x_1 - 2*x_2 + 3*x_3 - x_3*x_4\n",
    "    f_4 = x_1^2 + x_2^2 + x_3^2 - 1\n",
    "\n",
    "    return [f_1; f_2; f_3; f_4]\n",
    "end\n",
    "#----------------------"
   ]
  },
  {
   "cell_type": "code",
   "execution_count": 129,
   "metadata": {},
   "outputs": [
    {
     "data": {
      "text/plain": [
       "J (generic function with 2 methods)"
      ]
     },
     "execution_count": 129,
     "metadata": {},
     "output_type": "execute_result"
    }
   ],
   "source": [
    "#Matriz Jacobiana:\n",
    "function J(x_1, x_2, x_3, x_4)\n",
    "    a_11 = 4 - x_4\n",
    "    a_12 = -1\n",
    "    a_13 = 1\n",
    "    a_14 = x_1\n",
    "\n",
    "    a_21 = -1\n",
    "    a_22 = 3 - x_4\n",
    "    a_23 = -2\n",
    "    a_24 = x_2\n",
    "\n",
    "    a_31 = 1\n",
    "    a_32 = -2\n",
    "    a_33 = 3 - x_4\n",
    "    a_34 = x_3\n",
    "\n",
    "    a_41 = 2*x_1\n",
    "    a_42 = 2*x_2\n",
    "    a_43 = 2*x_3\n",
    "    a_44 = 0\n",
    "\n",
    "    return [a_11 a_12 a_13 a_14; a_21 a_22 a_23 a_24; a_31 a_32 a_33 a_34; a_41 a_42 a_43 a_44]\n",
    "end"
   ]
  },
  {
   "cell_type": "code",
   "execution_count": 130,
   "metadata": {},
   "outputs": [
    {
     "data": {
      "text/plain": [
       "metodo_Newton (generic function with 2 methods)"
      ]
     },
     "execution_count": 130,
     "metadata": {},
     "output_type": "execute_result"
    }
   ],
   "source": [
    "function metodo_Newton(x_1n, x_2n, x_3n, x_4n)\n",
    "    vector_xm = 0.0\n",
    "    iteration = 0\n",
    "\n",
    "    while iteration ≤ 1\n",
    "        vectorFx = F(x_1n, x_2n, x_3n, x_4n)  #Vector resultante al evaluar X_n en la función\n",
    "        matrizJ = J(x_1n, x_2n, x_3n, x_4n)   #Matriz Jacobiana evaluada en el vector X_n\n",
    "\n",
    "        #Se obtiene el resultado equivalente de multiplicar\n",
    "        #la matriz Jacobiana invertida multiplicada por el \n",
    "        #vector resultante al evaluar F(X_n), recordando que \n",
    "        #esto es lo mismo que resolver un sistema de ecuaciones \n",
    "        #J(X_n)*Y = F(X_n), en donde se busca al vector Y:\n",
    "        #vectorResul = metodoGaussJordan(matrizJ, vectorFx)\n",
    "        #Sin embargo, obtenemos el mismo resultado haciendo esto:\n",
    "        vectorResul = inv(matrizJ)*vectorFx\n",
    "\n",
    "        vector_xn = [x_1n, x_2n, x_3n, x_4n]\n",
    "\n",
    "        vector_xm = vector_xn .- vectorResul    #Se obtiene a X_1 = X_0 - Y\n",
    "\n",
    "        #Se iguala X_0 a X_1 para la siguiente iteración\n",
    "        x_1n = vector_xm[1]\n",
    "        x_2n = vector_xm[2]\n",
    "        x_3n = vector_xm[3]\n",
    "        x_4n = vector_xm[4]\n",
    "\n",
    "        iteration = iteration + 1\n",
    "    end\n",
    "\n",
    "    return vector_xm\n",
    "end"
   ]
  },
  {
   "cell_type": "code",
   "execution_count": 131,
   "metadata": {},
   "outputs": [
    {
     "data": {
      "text/plain": [
       "sherman_morrison (generic function with 2 methods)"
      ]
     },
     "execution_count": 131,
     "metadata": {},
     "output_type": "execute_result"
    }
   ],
   "source": [
    "function sherman_morrison(x_1n, x_2n, x_3n, x_4n, x_1m, x_2m, x_3m, x_4m, A_0)\n",
    "    x0 = [x_1n, x_2n, x_3n, x_4n]\n",
    "    x1 = [x_1m, x_2m, x_3m, x_4m]\n",
    "    y_i = F(x_1m, x_2m, x_3m, x_4m) .- F(x_1n, x_2n, x_3n, x_4n)\n",
    "    s_i = x1 .- x0\n",
    "\n",
    "    #Producto externo:\n",
    "    AxY = A_0 * y_i\n",
    "    prodExtern = 0.0\n",
    "    for j in 1:convert(Int64, size(s_i)[1])\n",
    "        prodExtern = prodExtern + s_i[j] * AxY[j]\n",
    "    end\n",
    "\n",
    "    A_1 = A_0 + ((s_i - (A_0 * y_i)) * (transpose(s_i) * A_0)) / prodExtern\n",
    "    return A_1\n",
    "end"
   ]
  },
  {
   "cell_type": "code",
   "execution_count": 132,
   "metadata": {},
   "outputs": [
    {
     "data": {
      "text/plain": [
       "metodo_Broyden (generic function with 2 methods)"
      ]
     },
     "execution_count": 132,
     "metadata": {},
     "output_type": "execute_result"
    }
   ],
   "source": [
    "function metodo_Broyden(x_1n, x_2n, x_3n, x_4n)\n",
    "    iteration = 0\n",
    "    δ = 1\n",
    "    x_n = [x_1n, x_2n, x_3n, x_4n]\n",
    "\n",
    "    #Primer iteración con Newton -> x_1\n",
    "    x_m = metodo_Newton(x_1n, x_2n, x_3n, x_4n)\n",
    "\n",
    "    mJacobi = inv(J(x_1n, x_2n, x_3n, x_4n)) #-> J(x_0)^-1\n",
    "\n",
    "    iteration = 1\n",
    "\n",
    "    while iteration ≤ max_iter && δ ≥ TOL\n",
    "\n",
    "        mJacobi = sherman_morrison(x_n[1], x_n[2], x_n[3], x_n[4], x_m[1], x_m[2], x_m[3], x_m[4], mJacobi) #-> ≈ J(x_iteration)^-1\n",
    "        x_n = [x_m[1], x_m[2], x_m[3], x_m[4]] #-> x_n = x_iteration\n",
    "        \n",
    "        #Se consigue a x_iteration+1\n",
    "        x_m = x_n - (mJacobi * F(x_n[1], x_n[2], x_n[3], x_n[4]))\n",
    "\n",
    "        #Error\n",
    "        ω = abs.(x_m .- x_n)\n",
    "        δ = max(ω[1], ω[2], ω[3], ω[4])\n",
    "\n",
    "        iteration = iteration + 1\n",
    "    end\n",
    "\n",
    "    println(\"La raíz encontrada es X_$iteration = $x_m\")\n",
    "    println(\"Evaluando la función original con la raíz encontrada: \")\n",
    "    resultadoF = F(x_m[1], x_m[2], x_m[3], x_m[4])\n",
    "    println(\"F(X_$iteration) = $resultadoF\")\n",
    "end"
   ]
  },
  {
   "cell_type": "markdown",
   "metadata": {},
   "source": [
    "**Resolución:**"
   ]
  },
  {
   "cell_type": "code",
   "execution_count": 133,
   "metadata": {},
   "outputs": [
    {
     "data": {
      "text/plain": [
       "1.0"
      ]
     },
     "execution_count": 133,
     "metadata": {},
     "output_type": "execute_result"
    }
   ],
   "source": [
    "#Valores que acercan las dos primeras soluciones{\n",
    "    x_1n = 1.0\n",
    "    x_2n = 1.0\n",
    "    x_3n = 1.0\n",
    "    x_4n = 1.0 \n",
    "\n",
    "#=     x_1n = -1.0\n",
    "    x_2n = -1.0\n",
    "    x_3n = -1.0\n",
    "    x_4n = 1.0 =#\n",
    "#}"
   ]
  },
  {
   "cell_type": "code",
   "execution_count": 134,
   "metadata": {},
   "outputs": [
    {
     "name": "stdout",
     "output_type": "stream",
     "text": [
      "La raíz encontrada es X_5 = [-3.6787267876184515e-16, 0.7071067813444347, 0.7071067813444349, 1.0000000000000024]\n",
      "Evaluando la función original con la raíz encontrada: \n",
      "F(X_5) = [-8.533726483258262e-16, -1.9984014443252818e-15, -1.7763568394002505e-15, 4.4657255671154417e-10]\n"
     ]
    }
   ],
   "source": [
    "metodo_Broyden(x_1n, x_2n, x_3n, x_4n)"
   ]
  },
  {
   "cell_type": "code",
   "execution_count": 135,
   "metadata": {},
   "outputs": [
    {
     "data": {
      "text/plain": [
       "1.0"
      ]
     },
     "execution_count": 135,
     "metadata": {},
     "output_type": "execute_result"
    }
   ],
   "source": [
    "#Valores que acercan las dos primeras soluciones{\n",
    "#=     x_1n = 1.0\n",
    "    x_2n = 1.0\n",
    "    x_3n = 1.0\n",
    "    x_4n = 1.0  =#\n",
    "\n",
    "    x_1n = -1.0\n",
    "    x_2n = -1.0\n",
    "    x_3n = -1.0\n",
    "    x_4n = 1.0\n",
    "#}"
   ]
  },
  {
   "cell_type": "code",
   "execution_count": 136,
   "metadata": {},
   "outputs": [
    {
     "name": "stdout",
     "output_type": "stream",
     "text": [
      "La raíz encontrada es X_5 = [3.6787267876184515e-16, -0.7071067813444347, -0.7071067813444349, 1.0000000000000024]\n",
      "Evaluando la función original con la raíz encontrada: \n",
      "F(X_5) = [8.533726483258262e-16, 1.9984014443252818e-15, 1.7763568394002505e-15, 4.4657255671154417e-10]\n"
     ]
    }
   ],
   "source": [
    "metodo_Broyden(x_1n, x_2n, x_3n, x_4n)"
   ]
  },
  {
   "cell_type": "code",
   "execution_count": 137,
   "metadata": {},
   "outputs": [
    {
     "data": {
      "text/plain": [
       "3.5"
      ]
     },
     "execution_count": 137,
     "metadata": {},
     "output_type": "execute_result"
    }
   ],
   "source": [
    "#Valores que acercan las dos segundas soluciones{\n",
    "    x_1n = -1\n",
    "    x_2n = -0.5\n",
    "    x_3n = 0.5\n",
    "    x_4n = 3.5\n",
    "\n",
    "#=     x_1n = 1\n",
    "    x_2n = 0.5\n",
    "    x_3n = -0.5\n",
    "    x_4n = 3.5 =#\n",
    "#}"
   ]
  },
  {
   "cell_type": "code",
   "execution_count": 138,
   "metadata": {},
   "outputs": [
    {
     "name": "stdout",
     "output_type": "stream",
     "text": [
      "La raíz encontrada es X_7 = [-0.8164965889835657, -0.40824829449178296, 0.40824829449178296, 3.000000004481897]\n",
      "Evaluando la función original con la raíz encontrada: \n",
      "F(X_7) = [3.6594536290124324e-9, 1.8297265924616113e-9, -1.8297265924616113e-9, 1.97326968098821e-8]\n"
     ]
    }
   ],
   "source": [
    "metodo_Broyden(x_1n, x_2n, x_3n, x_4n)"
   ]
  },
  {
   "cell_type": "code",
   "execution_count": 139,
   "metadata": {},
   "outputs": [
    {
     "data": {
      "text/plain": [
       "3.5"
      ]
     },
     "execution_count": 139,
     "metadata": {},
     "output_type": "execute_result"
    }
   ],
   "source": [
    "#Valores que acercan las dos segundas soluciones{\n",
    "#=     x_1n = -1\n",
    "    x_2n = -0.5\n",
    "    x_3n = 0.5\n",
    "    x_4n = 3.5 =#\n",
    "\n",
    "    x_1n = 1\n",
    "    x_2n = 0.5\n",
    "    x_3n = -0.5\n",
    "    x_4n = 3.5\n",
    "#}"
   ]
  },
  {
   "cell_type": "code",
   "execution_count": 140,
   "metadata": {},
   "outputs": [
    {
     "name": "stdout",
     "output_type": "stream",
     "text": [
      "La raíz encontrada es X_7 = [0.8164965889835657, 0.40824829449178296, -0.40824829449178296, 3.000000004481897]\n",
      "Evaluando la función original con la raíz encontrada: \n",
      "F(X_7) = [-3.6594536290124324e-9, -1.8297265924616113e-9, 1.8297265924616113e-9, 1.97326968098821e-8]\n"
     ]
    }
   ],
   "source": [
    "metodo_Broyden(x_1n, x_2n, x_3n, x_4n)"
   ]
  },
  {
   "cell_type": "code",
   "execution_count": 141,
   "metadata": {},
   "outputs": [
    {
     "data": {
      "text/plain": [
       "7"
      ]
     },
     "execution_count": 141,
     "metadata": {},
     "output_type": "execute_result"
    }
   ],
   "source": [
    "#Valores que acercan las dos segundas soluciones{\n",
    "    x_1n = 1\n",
    "    x_2n = -1\n",
    "    x_3n = 1\n",
    "    x_4n = 7\n",
    "\n",
    "#=     x_1n = -1\n",
    "    x_2n = 1\n",
    "    x_3n = -1\n",
    "    x_4n = 7 =#\n",
    "#}"
   ]
  },
  {
   "cell_type": "code",
   "execution_count": 142,
   "metadata": {},
   "outputs": [
    {
     "name": "stdout",
     "output_type": "stream",
     "text": [
      "La raíz encontrada es X_9 = [0.5773503127143458, -0.5773503127143459, 0.5773503127143459, 6.000000002148058]\n",
      "Evaluando la función original con la raíz encontrada: \n",
      "F(X_9) = [-1.2401812909956789e-9, 1.2401821791740986e-9, -1.2401821791740986e-9, 1.5077405879360128e-7]\n"
     ]
    }
   ],
   "source": [
    "metodo_Broyden(x_1n, x_2n, x_3n, x_4n)"
   ]
  },
  {
   "cell_type": "code",
   "execution_count": 143,
   "metadata": {},
   "outputs": [
    {
     "data": {
      "text/plain": [
       "7"
      ]
     },
     "execution_count": 143,
     "metadata": {},
     "output_type": "execute_result"
    }
   ],
   "source": [
    "#Valores que acercan las dos segundas soluciones{\n",
    "#=     x_1n = 1\n",
    "    x_2n = -1\n",
    "    x_3n = 1\n",
    "    x_4n = 7 =#\n",
    "\n",
    "    x_1n = -1\n",
    "    x_2n = 1\n",
    "    x_3n = -1\n",
    "    x_4n = 7\n",
    "#}"
   ]
  },
  {
   "cell_type": "code",
   "execution_count": 144,
   "metadata": {},
   "outputs": [
    {
     "name": "stdout",
     "output_type": "stream",
     "text": [
      "La raíz encontrada es X_9 = [-0.5773503127143458, 0.5773503127143459, -0.5773503127143459, 6.000000002148058]\n",
      "Evaluando la función original con la raíz encontrada: \n",
      "F(X_9) = [1.2401812909956789e-9, -1.2401821791740986e-9, 1.2401821791740986e-9, 1.5077405879360128e-7]\n"
     ]
    }
   ],
   "source": [
    "metodo_Broyden(x_1n, x_2n, x_3n, x_4n)"
   ]
  },
  {
   "cell_type": "markdown",
   "metadata": {},
   "source": [
    "De esa forma, tenemos que las seis soluciones del sistema:"
   ]
  },
  {
   "cell_type": "markdown",
   "metadata": {},
   "source": [
    "$$ S_1 = (-0.0000, 0.7071, 0.7071, 1.0000)^t $$\n",
    "$$ S_2 = (0.0000, -0.7071, -0.7071, 1.0000)^t $$\n",
    "$$ S_3 = (-0.8164, -0.4082, 0.4082, 3.0000)^t $$\n",
    "$$ S_4 = (0.8164, 0.4082, -0.4082, 3.0000)^t $$\n",
    "$$ S_5 = (0.5773, -0.5773, 0.5773, 6.0000)^t $$\n",
    "$$ S_6 = (-0.5773, 0.5773, -0.5773, 6.0000)^t $$"
   ]
  },
  {
   "cell_type": "markdown",
   "metadata": {},
   "source": [
    "Así, resolvimos tanto el inciso **a** como el **b**, pues demostramos que si $ (x_1, x_2, x_3, x_4)^t $ es una solución, entonces, efectivamente $ (-x_1, -x_2, -x_3, -x_4)^t $ es una solución, y además, aproximamos cada solución con un error $<10^{-5}$."
   ]
  }
 ],
 "metadata": {
  "kernelspec": {
   "display_name": "Julia 1.7.1",
   "language": "julia",
   "name": "julia-1.7"
  },
  "language_info": {
   "file_extension": ".jl",
   "mimetype": "application/julia",
   "name": "julia",
   "version": "1.7.1"
  },
  "orig_nbformat": 4
 },
 "nbformat": 4,
 "nbformat_minor": 2
}
