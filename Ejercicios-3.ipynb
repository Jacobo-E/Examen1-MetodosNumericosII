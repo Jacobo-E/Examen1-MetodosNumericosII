{
 "cells": [
  {
   "cell_type": "markdown",
   "metadata": {},
   "source": [
    "# **Ejercicios pares de la sección 3**\n",
    "##### *Autor: Escorcia Alcantara Gregorio Jacobo*"
   ]
  },
  {
   "cell_type": "markdown",
   "metadata": {},
   "source": [
    "****"
   ]
  },
  {
   "cell_type": "markdown",
   "metadata": {},
   "source": [
    "### Ejercicios 3.1"
   ]
  },
  {
   "cell_type": "markdown",
   "metadata": {},
   "source": [
    "2.- Para las funciones dadas $f(x)$, sean $x_0=1, x_1=1.25,$ y $x_2 = 1.6$.\n",
    "Construya polinomios de interpolación de grados a lo sumo uno y máximo dos para aproximar $f(1.4)$ y encuentre el error absoluto.\n",
    "\n",
    "\n"
   ]
  },
  {
   "cell_type": "markdown",
   "metadata": {},
   "source": [
    "**a.** $f(x)=sen(\\pi x)$"
   ]
  },
  {
   "cell_type": "markdown",
   "metadata": {},
   "source": [
    "$f(x_0)=0$\n",
    "\n",
    "$f(x_1)=-\\frac{\\sqrt{2}}{2}$\n",
    "\n",
    "$f(x_2)=-\\frac{\\sqrt{2}\\sqrt{5+\\sqrt{5}}}{4}$\n",
    "\n",
    "$f'''(x) = -\\pi^3 cos(\\pi x)$"
   ]
  },
  {
   "cell_type": "markdown",
   "metadata": {},
   "source": [
    "Y recordando que:\n",
    "\n",
    "$$ P_n(x) = \\sum_{i=0}^{n-1}f(x_i)L_i(x) $$\n",
    "\n",
    "donde:\n",
    "\n",
    "$$ L_i(x) = \\prod_{i=0; j \\neq i}^{n-1} \\frac{x-x_j}{x_i-x_j} $$"
   ]
  },
  {
   "cell_type": "markdown",
   "metadata": {},
   "source": [
    "$\\therefore$ $L_0(x) = \\frac{(x-x_1)(x-x_2)}{(x_0-x_1)(x_0-x_2)} = \\frac{(x-1.25)(x-1.6)}{(1-1.25)(1-1.6)} = \\frac{x^2-2.85x+2}{0.15} = \\frac{1}{0.15}(x^2-2.85x+2)$\n",
    "\n",
    "$\\therefore$ $L_1(x) = \\frac{(x-x_0)(x-x_2)}{(x_1-x_0)(x_1-x_2)} = \\frac{(x-1)(x-1.6)}{(1.25-1)(1.25-1.6)} = \\frac{x^2-2.6x+1.6}{-0.0875} = \\frac{1}{-0.0875}(x^2-2.6x+1.6) $\n",
    "\n",
    "$\\therefore$ $L_2(x) = \\frac{(x-x_0)(x-x_1)}{(x_2-x_0)(x_2-x_1)} = \\frac{(x-1)(x-1.25)}{(1.6-1)(1.6-1.25)} = \\frac{x^2-2.25x+1.25}{0.21} = \\frac{1}{0.21}(x^2-2.25x+1.25) $"
   ]
  },
  {
   "cell_type": "markdown",
   "metadata": {},
   "source": [
    "Por lo tanto, el polinomio de Lagrange se ve como:"
   ]
  },
  {
   "cell_type": "markdown",
   "metadata": {},
   "source": [
    "$ P(x) = 0*\\frac{1}{0.15}(x^2-2.85x+2) -\\frac{\\sqrt{2}}{2}*\\frac{1}{-0.0875}(x^2-2.6x+1.6) -\\frac{\\sqrt{2}\\sqrt{5+\\sqrt{5}}}{4}*\\frac{1}{0.21}(x^2-2.25x+1.25) $\n",
    "\n",
    "$\\therefore P(x) = 8.08122(x^2-2.6x+1.6) - 4.52884(x^2-2.25x+1.25) $"
   ]
  },
  {
   "cell_type": "markdown",
   "metadata": {},
   "source": [
    "El error del polinomio tiene la forma:"
   ]
  },
  {
   "cell_type": "markdown",
   "metadata": {},
   "source": [
    "$$\\Big| \\frac{f'''(\\epsilon(x))}{3!} (x-x_0)(x-x_1)(x-x_2) \\Big| = \\Big| \\frac{-\\pi^3 cos(\\pi (\\epsilon(x)))}{6}(x-1)(x-1.25)(x-1.6) \\Big|$$"
   ]
  },
  {
   "cell_type": "markdown",
   "metadata": {},
   "source": [
    "Para $\\epsilon(x)$ en $(1, 1.6)$. El valor máximo de $\\frac{-\\pi^3 cos(\\pi (\\epsilon(x)))}{6}$ en el intervalo es $\\frac{-\\pi^3 cos(\\pi(1))}{6} \\approx 5.1677$.\n",
    "\n",
    "Ahora determinaremos el valor máximo en este intervalo del valor absoluto del polinomio:\n",
    "\n",
    "$g(x) = x^3-3.85x^2+4.85x-2$\n",
    "\n",
    "donde\n",
    "\n",
    "$g'(x) = 3x^2-7.7x+4.85$\n",
    "\n",
    "Y los puntos críticos se presentan en:\n",
    "\n",
    "$g'(x) = 3x^2-7.7x+4.85 = 0$\n",
    "\n",
    "con $x=\\frac{77+\\sqrt{109}}{60}$; $g(\\frac{77+\\sqrt{109}}{60}) = -0.0135$ \n",
    "\n",
    "y \n",
    "\n",
    "$x=\\frac{77-\\sqrt{109}}{60}$; $g(\\frac{77-\\sqrt{109}}{60}) = 0.00755$\n",
    "\n",
    "$\\therefore$ tomando el máximo absoluto de los resultados de g(x), tenemos que el error máximo es:\n",
    "\n",
    "$\\therefore \\Big| (5.1677)(-0.0135) \\Big| \\approx 0.0698$\n",
    "\n",
    "Por lo tanto, el polinomio de Lagrange tiene un error máximo de $0.0698$."
   ]
  },
  {
   "cell_type": "markdown",
   "metadata": {},
   "source": [
    "**b.** $f(x)=\\sqrt[3]{x-1}$\n"
   ]
  },
  {
   "cell_type": "markdown",
   "metadata": {},
   "source": [
    "$f(x_0)=0$\n",
    "\n",
    "$f(x_1)=0.62996$\n",
    "\n",
    "$f(x_2)=0.8434$\n",
    "\n",
    "$f'''(x) = \\frac{10}{27(x-1)^{\\frac{8}{3}}}$"
   ]
  },
  {
   "cell_type": "markdown",
   "metadata": {},
   "source": [
    "$\\therefore$ $L_0(x) = \\frac{(x-x_1)(x-x_2)}{(x_0-x_1)(x_0-x_2)} = \\frac{(x-1.25)(x-1.6)}{(1-1.25)(1-1.6)} = \\frac{x^2-2.85x+2}{0.15} = \\frac{1}{0.15}(x^2-2.85x+2)$\n",
    "\n",
    "$\\therefore$ $L_1(x) = \\frac{(x-x_0)(x-x_2)}{(x_1-x_0)(x_1-x_2)} = \\frac{(x-1)(x-1.6)}{(1.25-1)(1.25-1.6)} = \\frac{x^2-2.6x+1.6}{-0.0875} = \\frac{1}{-0.0875}(x^2-2.6x+1.6) $\n",
    "\n",
    "$\\therefore$ $L_2(x) = \\frac{(x-x_0)(x-x_1)}{(x_2-x_0)(x_2-x_1)} = \\frac{(x-1)(x-1.25)}{(1.6-1)(1.6-1.25)} = \\frac{x^2-2.25x+1.25}{0.21} = \\frac{1}{0.21}(x^2-2.25x+1.25) $"
   ]
  },
  {
   "cell_type": "markdown",
   "metadata": {},
   "source": [
    "$ P(x) = 0*\\frac{1}{0.15}(x^2-2.85x+2) + 0.62996*\\frac{1}{-0.0875}(x^2-2.6x+1.6) + 0.8434*\\frac{1}{0.21}(x^2-2.25x+1.25) $\n",
    "\n",
    "$ \\therefore P(x) = -7.1995(x^2-2.6x+1.6) + 4.0162(x^2-2.25x+1.25) $"
   ]
  },
  {
   "cell_type": "markdown",
   "metadata": {},
   "source": [
    "El error del polinomio tiene la forma:"
   ]
  },
  {
   "cell_type": "markdown",
   "metadata": {},
   "source": [
    "$$\\Big| \\frac{f'''(\\epsilon(x))}{3!} (x-x_0)(x-x_1)(x-x_2) \\Big| = \\Big| \\frac{\\frac{10}{27(\\epsilon(x)-1)^{\\frac{8}{3}}}}{6}(x-1)(x-1.25)(x-1.6) \\Big|$$\n",
    "\n",
    "$$ = \\Big| \\frac{10}{162(\\epsilon(x)-1)^{\\frac{8}{3}}}(x-1)(x-1.25)(x-1.6) \\Big| $$"
   ]
  },
  {
   "cell_type": "markdown",
   "metadata": {},
   "source": [
    "Para $\\epsilon(x)$ en $(1, 1.6)$, no existe valor acotado, pues si quisieramos tomar el valor máximo evaluado en $\\frac{1}{18(x-1)^{\\frac{2}{3}}}$ en el intervalo de $(1, 1.6)$, sería infinito. Tomando ahora el intervalo de $(1.25, 1.6)$, tenemos que el valor máximo es $\\frac{1}{18(1.25-1)^{\\frac{2}{3}}} \\approx 0.13999$.\n",
    "\n",
    "$\\therefore$ tomando el máximo absoluto de los resultados de g(x) del ejercicio anterior, tenemos que el error máximo es:\n",
    "\n",
    "$\\therefore \\Big| (0.13999)(-0.0135) \\Big| \\approx 0.00189$\n",
    "\n",
    "Por lo tanto, el polinomio de Lagrange tiene un error máximo de $0.00189$."
   ]
  },
  {
   "cell_type": "markdown",
   "metadata": {},
   "source": [
    "\n",
    "**c.** $f(x)=log_{10}(3x-1)$\n"
   ]
  },
  {
   "cell_type": "markdown",
   "metadata": {},
   "source": [
    "$f(x_0)=0.3010$\n",
    "\n",
    "$f(x_1)=0.4393$\n",
    "\n",
    "$f(x_2)=0.5797$\n",
    "\n",
    "$f'''(x) = \\frac{54}{ln(10)(3x-1)^3}$"
   ]
  },
  {
   "cell_type": "markdown",
   "metadata": {},
   "source": [
    "$\\therefore$ $L_0(x) = \\frac{(x-x_1)(x-x_2)}{(x_0-x_1)(x_0-x_2)} = \\frac{(x-1.25)(x-1.6)}{(1-1.25)(1-1.6)} = \\frac{x^2-2.85x+2}{0.15} = \\frac{1}{0.15}(x^2-2.85x+2)$\n",
    "\n",
    "$\\therefore$ $L_1(x) = \\frac{(x-x_0)(x-x_2)}{(x_1-x_0)(x_1-x_2)} = \\frac{(x-1)(x-1.6)}{(1.25-1)(1.25-1.6)} = \\frac{x^2-2.6x+1.6}{-0.0875} = \\frac{1}{-0.0875}(x^2-2.6x+1.6) $\n",
    "\n",
    "$\\therefore$ $L_2(x) = \\frac{(x-x_0)(x-x_1)}{(x_2-x_0)(x_2-x_1)} = \\frac{(x-1)(x-1.25)}{(1.6-1)(1.6-1.25)} = \\frac{x^2-2.25x+1.25}{0.21} = \\frac{1}{0.21}(x^2-2.25x+1.25) $"
   ]
  },
  {
   "cell_type": "markdown",
   "metadata": {},
   "source": [
    "$ P(x) = 0.3010*\\frac{1}{0.15}(x^2-2.85x+2) + 0.4393*\\frac{1}{-0.0875}(x^2-2.6x+1.6) + 0.5797*\\frac{1}{0.21}(x^2-2.25x+1.25) $\n",
    "\n",
    "$ \\therefore P(x) = 2.0066(x^2-2.85x+2) - 5.0205(x^2-2.6x+1.6) + 2.7604(x^2-2.25x+1.25) $"
   ]
  },
  {
   "cell_type": "markdown",
   "metadata": {},
   "source": [
    "El error del polinomio tiene la forma:"
   ]
  },
  {
   "cell_type": "markdown",
   "metadata": {},
   "source": [
    "$$\\Big| \\frac{f'''(\\epsilon(x))}{3!} (x-x_0)(x-x_1)(x-x_2) \\Big| = \\Big| \\frac{\\frac{54}{ln(10)(3\\epsilon(x)-1)^3}}{6}(x-1)(x-1.25)(x-1.6) \\Big|$$\n",
    "\n",
    "$$\\Big| \\frac{54}{6ln(10)(3x-1)^3}(x-1)(x-1.25)(x-1.6) \\Big|$$"
   ]
  },
  {
   "cell_type": "markdown",
   "metadata": {},
   "source": [
    "Para $\\epsilon(x)$ en $(1, 1.6)$. El valor máximo de $\\frac{54}{6ln(10)(3x-1)^3}$ en el intervalo es:\n",
    "\n",
    "$\\frac{54}{6ln(10)(3-1)^3} = 2.30258$\n",
    "\n",
    "$\\frac{54}{6ln(10)(3(1.6)-1)^3} = 0.07123$\n",
    "\n",
    "Por lo tanto, el valor máximo de $\\frac{54}{6ln(10)(3x-1)^3} = 2.30258$ con $x=1$\n",
    "\n",
    "Ahora determinaremos el valor máximo en este intervalo del valor absoluto del polinomio:\n",
    "\n",
    "$g(x) = x^3-3.85x^2+4.85x-2$\n",
    "\n",
    "donde\n",
    "\n",
    "$g'(x) = 3x^2-7.7x+4.85$\n",
    "\n",
    "Y los puntos críticos se presentan en:\n",
    "\n",
    "$g'(x) = 3x^2-7.7x+4.85 = 0$\n",
    "\n",
    "con $x=\\frac{77+\\sqrt{109}}{60}$; $g(\\frac{77+\\sqrt{109}}{60}) = -0.0135$ \n",
    "\n",
    "y \n",
    "\n",
    "$x=\\frac{77-\\sqrt{109}}{60}$; $g(\\frac{77-\\sqrt{109}}{60}) = 0.00755$\n",
    "\n",
    "$\\therefore$ tomando el máximo absoluto de los resultados de g(x), tenemos que el error máximo es:\n",
    "\n",
    "$\\therefore \\Big| (2.30258)(-0.0135) \\Big| \\approx 0.03108$\n",
    "\n",
    "Por lo tanto, el polinomio de Lagrange tiene un error máximo de $ 0.03108$."
   ]
  },
  {
   "cell_type": "markdown",
   "metadata": {},
   "source": [
    "\n",
    "**d.** $f(x)=e^{2x}-x$"
   ]
  },
  {
   "cell_type": "markdown",
   "metadata": {},
   "source": [
    "$f(x_0)=6.3890$\n",
    "\n",
    "$f(x_1)=10.9324$\n",
    "\n",
    "$f(x_2)=162748.7914$\n",
    "\n",
    "$f'''(x) = 8 e^{2x}$"
   ]
  },
  {
   "cell_type": "markdown",
   "metadata": {},
   "source": [
    "$\\therefore$ $L_0(x) = \\frac{(x-x_1)(x-x_2)}{(x_0-x_1)(x_0-x_2)} = \\frac{(x-1.25)(x-1.6)}{(1-1.25)(1-1.6)} = \\frac{x^2-2.85x+2}{0.15} = \\frac{1}{0.15}(x^2-2.85x+2)$\n",
    "\n",
    "$\\therefore$ $L_1(x) = \\frac{(x-x_0)(x-x_2)}{(x_1-x_0)(x_1-x_2)} = \\frac{(x-1)(x-1.6)}{(1.25-1)(1.25-1.6)} = \\frac{x^2-2.6x+1.6}{-0.0875} = \\frac{1}{-0.0875}(x^2-2.6x+1.6) $\n",
    "\n",
    "$\\therefore$ $L_2(x) = \\frac{(x-x_0)(x-x_1)}{(x_2-x_0)(x_2-x_1)} = \\frac{(x-1)(x-1.25)}{(1.6-1)(1.6-1.25)} = \\frac{x^2-2.25x+1.25}{0.21} = \\frac{1}{0.21}(x^2-2.25x+1.25) $"
   ]
  },
  {
   "cell_type": "markdown",
   "metadata": {},
   "source": [
    "$ P(x) = 6.3890*\\frac{1}{0.15}(x^2-2.85x+2) + 10.9324*\\frac{1}{-0.0875}(x^2-2.6x+1.6) + 162748.7914*\\frac{1}{0.21}(x^2-2.25x+1.25) $\n",
    "\n",
    "$ \\therefore P(x) = 42.59333(x^2-2.85x+2) - 124.9417(x^2-2.6x+1.6) + 774994.2447(x^2-2.25x+1.25) $"
   ]
  },
  {
   "cell_type": "markdown",
   "metadata": {},
   "source": [
    "El error del polinomio tiene la forma:"
   ]
  },
  {
   "cell_type": "markdown",
   "metadata": {},
   "source": [
    "$$\\Big| \\frac{f'''(\\epsilon(x))}{3!} (x-x_0)(x-x_1)(x-x_2) \\Big| = \\Big| \\frac{8e^{2\\epsilon(x)}}{6}(x-1)(x-1.25)(x-1.6) \\Big|$$"
   ]
  },
  {
   "cell_type": "markdown",
   "metadata": {},
   "source": [
    "Evaluando a $\\frac{8e^{2\\epsilon(x)}}{6}$ en x_0 y x_2:\n",
    "\n",
    "$\\frac{8e^{2(1)}}{6}=9.8521$\n",
    "\n",
    "$\\frac{8e^{2(1.6)}}{6}=32.71004$"
   ]
  },
  {
   "cell_type": "markdown",
   "metadata": {},
   "source": [
    "En donde tomaremos el valor máximo, que es cuando x=1.6.\n",
    "\n",
    "$\\therefore$ Tenemos que:\n",
    "\n",
    "$\\Big| (32.71004)(-0.0135) \\Big| \\approx 0.4416$\n",
    "\n",
    "Por lo tanto, el polinomio de Lagrange tiene un error máximo de $0.4416$."
   ]
  },
  {
   "cell_type": "markdown",
   "metadata": {},
   "source": [
    "4.- Use el teorema 3.3 para encontrar una cota del error para las aproximaciones en el ejercicio 2."
   ]
  },
  {
   "cell_type": "markdown",
   "metadata": {},
   "source": [
    "Justamente utilizamos ese teorema para obtener la cota del error para las aproximaciones del ejercicio 2."
   ]
  },
  {
   "cell_type": "markdown",
   "metadata": {},
   "source": [
    "6.- Use polinomios de interpolación de Lagrange adecuados de grados uno, dos y tres para aproximar cada uno de los siguientes:"
   ]
  },
  {
   "cell_type": "markdown",
   "metadata": {},
   "source": [
    "**a.** $f(0.43)$ si $f(0) = 1, f(0.25)=1.64872, f(0.5)=2.71828, f(0.75)=4.48169$"
   ]
  },
  {
   "cell_type": "markdown",
   "metadata": {},
   "source": [
    "Tomando a:\n",
    "$x_0=0$,\n",
    "$x_1=0.25$,\n",
    "$x_2=0.5$,\n",
    "$x_3=0.75$\n",
    "\n",
    "Entonces:\n",
    "\n",
    "$\\therefore$ $L_0(x) = \\frac{(x-x_1)(x-x_2)(x-x_3)}{(x_0-x_1)(x_0-x_2)(x_0-x_3)} = ((x-0.25)(x-0.5)(x-0.75))*(1/-0.09375)$\n",
    "\n",
    "$\\therefore$ $L_1(x) = \\frac{(x-x_0)(x-x_2)(x-x_3)}{(x_1-x_0)(x_1-x_2)(x_1-x_3)} =  ((x-0)(x-0.5)(x-0.75))*(1/0.03125)$\n",
    "\n",
    "$\\therefore$ $L_2(x) = \\frac{(x-x_0)(x-x_1)(x-x_3)}{(x_2-x_0)(x_2-x_1)(x_2-x_3)} = ((x-0)(x-0.25)(x-0.75))*(1/-0.03125)$\n",
    "\n",
    "$\\therefore$ $L_3(x) = \\frac{(x-x_0)(x-x_1)(x-x_2)}{(x_3-x_0)(x_3-x_1)(x_3-x_2)} = ((x-0)(x-0.25)(x-0.5))*(1/0.09375)$"
   ]
  },
  {
   "cell_type": "markdown",
   "metadata": {},
   "source": [
    "$ P(x) = 1(1/-0.09375)(x-0.25)(x-0.5)(x-0.75) + 1.64872(1/0.03125)(x-0)(x-0.5)(x-0.75) + 2.71828(1/-0.03125)(x-0)(x-0.25)(x-0.75) + 4.48169(1/0.09375)(x-0)(x-0.25)(x-0.5) $\n",
    "\n",
    "$ \\therefore P(x) = -10.666(x-0.25)(x-0.5)(x-0.75) + 52.75904(x-0)(x-0.5)(x-0.75)- 86.98496(x-0)(x-0.25)(x-0.75) + 47.804693(x-0)(x-0.25)(x-0.5) $"
   ]
  },
  {
   "cell_type": "markdown",
   "metadata": {},
   "source": [
    "$\\therefore P(0.43)=2.36060$"
   ]
  },
  {
   "cell_type": "markdown",
   "metadata": {},
   "source": [
    "**b.** $f(0)$ si $f(-0.5) = 1.93750, f(-0.25)=1.33203, f(0.25)=0.800781, f(0.5)=0.687500$"
   ]
  },
  {
   "cell_type": "markdown",
   "metadata": {},
   "source": [
    "Tomando a:\n",
    "$x_0=-0.5$,\n",
    "$x_1=-0.25$,\n",
    "$x_2=0.25$,\n",
    "$x_3=0.5$\n",
    "\n",
    "Entonces:\n",
    "\n",
    "$\\therefore$ $L_0(x) = \\frac{(x-x_1)(x-x_2)(x-x_3)}{(x_0-x_1)(x_0-x_2)(x_0-x_3)} = (x+0.25)(x-0.25)(x-0.5)*(1/-0.1875)$\n",
    "\n",
    "$\\therefore$ $L_1(x) = \\frac{(x-x_0)(x-x_2)(x-x_3)}{(x_1-x_0)(x_1-x_2)(x_1-x_3)} =  (x+0.5)(x-0.25)(x-0.5)*(1/0.09375)$\n",
    "\n",
    "$\\therefore$ $L_2(x) = \\frac{(x-x_0)(x-x_1)(x-x_3)}{(x_2-x_0)(x_2-x_1)(x_2-x_3)} = (x+0.5)(x+0.25)(x-0.5)*(1/-0.09375)$\n",
    "\n",
    "$\\therefore$ $L_3(x) = \\frac{(x-x_0)(x-x_1)(x-x_2)}{(x_3-x_0)(x_3-x_1)(x_3-x_2)} = (x+0.5)(x+0.25)(x-0.25)*(1/0.1875)$"
   ]
  },
  {
   "cell_type": "markdown",
   "metadata": {},
   "source": [
    "$ P(x) = 1.93750(1/-0.1875)(x+0.25)(x-0.25)(x-0.5) + 1.33203(1/0.09375)(x+0.5)(x-0.25)(x-0.5) + 0.800781(1/-0.09375)(x+0.5)(x+0.25)(x-0.5) + 0.687500(1/0.1875)(x+0.5)(x+0.25)(x-0.25) $\n",
    "\n",
    "$ \\therefore P(x) = -10.3333(x+0.25)(x-0.25)(x-0.5) + 14.20832(x+0.5)(x-0.25)(x-0.5) - 8.541664(x+0.5)(x+0.25)(x-0.5) + 3.66666(x+0.5)(x+0.25)(x-0.25) $\n",
    "\n",
    "$\\therefore P(0) = 0.984375$"
   ]
  },
  {
   "cell_type": "markdown",
   "metadata": {},
   "source": [
    "**c.** $f(0.18)$ si $f(0.1) = -0.29004986, f(0.2)=-0.56079734, f(0.3)=-0.81401972, f(0.4)=-1.0526302$"
   ]
  },
  {
   "cell_type": "markdown",
   "metadata": {},
   "source": [
    "Tomando a:\n",
    "$x_0=0.1$,\n",
    "$x_1=0.2$,\n",
    "$x_2=0.3$,\n",
    "$x_3=0.4$\n",
    "\n",
    "Entonces:\n",
    "\n",
    "$\\therefore$ $L_0(x) = \\frac{(x-x_1)(x-x_2)(x-x_3)}{(x_0-x_1)(x_0-x_2)(x_0-x_3)} = (x-0.2)(x-0.3)(x-0.4)*(1/-0.006)$\n",
    "\n",
    "$\\therefore$ $L_1(x) = \\frac{(x-x_0)(x-x_2)(x-x_3)}{(x_1-x_0)(x_1-x_2)(x_1-x_3)} = (x-0.1)(x-0.3)(x-0.4)*(1/0.002)$\n",
    "\n",
    "$\\therefore$ $L_2(x) = \\frac{(x-x_0)(x-x_1)(x-x_3)}{(x_2-x_0)(x_2-x_1)(x_2-x_3)} = (x-0.1)(x-0.2)(x-0.4)*(1/-0.002)$\n",
    "\n",
    "$\\therefore$ $L_3(x) = \\frac{(x-x_0)(x-x_1)(x-x_2)}{(x_3-x_0)(x_3-x_1)(x_3-x_2)} = (x-0.1)(x-0.2)(x-0.3)*(1/0.006)$"
   ]
  },
  {
   "cell_type": "markdown",
   "metadata": {},
   "source": [
    "$ P(x) = -0.29004986(1/-0.006)(x-0.2)(x-0.3)(x-0.4) - 0.56079734(1/0.002)(x-0.1)(x-0.3)(x-0.4) -0.81401972(1/-0.002)(x-0.1)(x-0.2)(x-0.4) -1.0526302(1/0.006)(x-0.1)(x-0.2)(x-0.3) $\n",
    "\n",
    "$ \\therefore P(x) = 48.3416(x-0.2)(x-0.3)(x-0.4) -280.39867(x-0.1)(x-0.3)(x-0.4) + 407.00986(x-0.1)(x-0.2)(x-0.4)-175.43836(x-0.1)(x-0.2)(x-0.3) $\n",
    "\n",
    "$\\therefore P(0.18) = -0.508143$"
   ]
  },
  {
   "cell_type": "markdown",
   "metadata": {},
   "source": [
    "**d.** $f(0.25)$ si $f(−1) = 0.86199480, f(−0.5) = 0.95802009, f(0) = 1.0986123, f(0.5) = 1.2943767$"
   ]
  },
  {
   "cell_type": "markdown",
   "metadata": {},
   "source": [
    "Tomando a:\n",
    "$x_0=-1$,\n",
    "$x_1=-0.5$,\n",
    "$x_2=0$,\n",
    "$x_3=0.5$\n",
    "\n",
    "Entonces:\n",
    "\n",
    "$\\therefore$ $L_0(x) = \\frac{(x-x_1)(x-x_2)(x-x_3)}{(x_0-x_1)(x_0-x_2)(x_0-x_3)}$\n",
    "\n",
    "$\\therefore$ $L_1(x) = \\frac{(x-x_0)(x-x_2)(x-x_3)}{(x_1-x_0)(x_1-x_2)(x_1-x_3)}$\n",
    "\n",
    "$\\therefore$ $L_2(x) = \\frac{(x-x_0)(x-x_1)(x-x_3)}{(x_2-x_0)(x_2-x_1)(x_2-x_3)}$\n",
    "\n",
    "$\\therefore$ $L_3(x) = \\frac{(x-x_0)(x-x_1)(x-x_2)}{(x_3-x_0)(x_3-x_1)(x_3-x_2)}$\n",
    "\n",
    "$L_0 = (1/-0.75)*(x+0.5)(x-0)(x-0.5)$\n",
    "\n",
    "$L_1 = (1/0.25)*(x+1)(x-0)(x-0.5)$\n",
    "\n",
    "$L_2 = (1/-0.25)*(x+1)(x+0.5)(x-0.5)$\n",
    "\n",
    "$L_3 = (1/0.75)*(x+1)(x+0.5)(x-0)$"
   ]
  },
  {
   "cell_type": "markdown",
   "metadata": {},
   "source": [
    "$ P(x) = 0.8619948*(1/-0.75)*(x+0.5)(x-0)(x-0.5)+0.95802009*(1/0.25)*(x+1)(x-0)(x-0.5)+1.0986123*(1/-0.25)*(x+1)(x+0.5)(x-0.5)+1.2943767*(1/0.75)*(x+1)(x+0.5)(x-0)$\n",
    "\n",
    "$ P(x) = -1.14932*(x+0.5)(x-0)(x-0.5)+3.832080*(x+1)(x-0)(x-0.5)-4.39445*(x+1)(x+0.5)(x-0.5)+1.7258356*(x+1)(x+0.5)(x-0)$\n",
    "\n",
    "$\\therefore P(0.25) = 1.1889350$\n"
   ]
  },
  {
   "cell_type": "markdown",
   "metadata": {},
   "source": [
    "8.- Los datos para el ejercicio 6 se generaron usando las siguientes funciones. Use la fórmula del error para encontrar una cota del error y compárela con el error real en los casos $n = 1$ y $n = 2$."
   ]
  },
  {
   "cell_type": "markdown",
   "metadata": {},
   "source": [
    "Recordando que el error del polinomio se ve como:\n",
    "\n",
    "$$\\Big| \\frac{f^{n+1}(\\epsilon(x))}{(n+1)!} (x-x_0)(x-x_1)...(x-x_n) \\Big|$$\n",
    "\n",
    "Entonces, podemos proseguir:"
   ]
  },
  {
   "cell_type": "markdown",
   "metadata": {},
   "source": [
    "**a.** $f(x) = e^{2x}$"
   ]
  },
  {
   "cell_type": "markdown",
   "metadata": {},
   "source": [
    "Donde:\n",
    "\n",
    "$f''(x) = 4e^{2x}$\n",
    "\n",
    "$f'''(x) = 8e^{2x}$\n",
    "\n",
    "$x_0=0$,\n",
    "$x_1=0.25$,\n",
    "$x_2=0.5$,\n",
    "$x_3=0.75$\n",
    "\n",
    "Para el caso $n=1$, entonces:\n",
    "\n",
    "$$\\Big| \\frac{f''(\\epsilon(x))}{2!} (x-x_0)(x-x_1) \\Big| = \\Big| \\frac{f''(\\epsilon(x))}{2!} (x-x_0)(x-x_1) \\Big|$$\n",
    "\n",
    "$$= \\Big| \\frac{4e^{2\\epsilon(x)}}{2} x(x-0.25) \\Big|$$\n",
    "\n",
    "Continuaremos buscando si existe un punto máximo en $f''(x)$ el intervalo de $[0,0.25]$:\n",
    "\n",
    "$f'''(x) = 8e^{2x} = 0$, pero no existe solución. Entonces, buscaremos el punto máximo de $f''(x)$ en el intervalo de $[0,0.25]$.\n",
    "\n",
    "Tomando a $x_0$ y a $x_1$:\n",
    "\n",
    "$$f''(0) = 4$$\n",
    "\n",
    "$$f''(0.25) = 6.5948851$$\n",
    "\n",
    "Tenemos que el valor máximo lo da $x=0.25$, con el valor de $6.5948851$.\n",
    "\n",
    "Y ahora, determinaremos el valor máximo en este intervalo del valor absoluto del polinomio:\n",
    "\n",
    "$g(x) = x(x-0.25)$\n",
    "\n",
    "$g'(x) = 2x-0.25 = 0$, en donde este sistema tiene una solución, es decir, existe un punto crítico en el punto $x\\approx 0.125$:\n",
    "\n",
    "$g(0.125) = -0.015625$\n",
    "\n",
    "Ahora, viendo si existe un valor más grande en $[0,0.25]$:\n",
    "\n",
    "$g(0) = 0$\n",
    "\n",
    "$g(0.25) = 0$\n",
    "\n",
    "$\\therefore$ tomando el valor máximo absoluto de los valores absolutos, tenemos que el error máximo está dado por:\n",
    "\n",
    "$$ \\Big| \\frac{6.5948851}{2} *(-0.015625) \\Big| = \\Big| 3.29744255(-0.015625) \\Big| = 0.05152254$$\n",
    "\n"
   ]
  },
  {
   "cell_type": "markdown",
   "metadata": {},
   "source": [
    "Por lo tanto, el error máximo del polinomio es $0.05152254$\n",
    "\n",
    "Ahora, comparando los resultados obtenidos con el polinomio de Lagrange en el ejercicio 6, tenemos que:\n",
    "\n",
    "$ \\therefore P(x) = 1*(1/0.125)(x-0.25)(x-0.5)+1.64872*(1/-0.0625)(x-0)(x-0.5)+2.71828*(1/0.125)(x-0)(x-0.25) $\n",
    "\n",
    "$\\therefore P(0.43)=2.376382$\n",
    "\n",
    "donde $f(x) = e^{2x}$, entonces:\n",
    "\n",
    "$f(0.43) = 2.3631606937$\n",
    "\n",
    "$\\therefore |f(0.43) - P(0.43)| = 0.013221$\n",
    "\n",
    "Y podemos ver que $0.013221 \\leq 0.05152254$, por lo que el error cumple estar acotado por $0 \\leq \\epsilon(x) \\leq 0.05152254$."
   ]
  },
  {
   "cell_type": "markdown",
   "metadata": {},
   "source": [
    "Para el caso $n=2$, entonces:\n",
    "\n",
    "$$\\Big| \\frac{f'''(\\epsilon(x))}{3!} (x-x_0)(x-x_1)(x-x_2) \\Big| = \\Big| \\frac{f'''(\\epsilon(x))}{6} (x-x_0)(x-x_1)(x-x_2) \\Big|$$\n",
    "\n",
    "$$= \\Big| \\frac{8e^{2\\epsilon(x)}}{6} x(x-0.25)(x-0.5) \\Big|$$\n",
    "\n",
    "Continuaremos buscando si existe un punto máximo en $f'''(x)$ el intervalo de $[0,0.25]$:\n",
    "\n",
    "$f''''(x) = 16e^{2x} = 0$, pero no existe solución. Entonces, buscaremos el punto máximo de $f'''(x)$ en el intervalo de $[0,0.25]$.\n",
    "\n",
    "Tomando a $x_0$ y a $x_1$:\n",
    "\n",
    "$$f'''(0) = 0$$\n",
    "\n",
    "$$f'''(0.25) = 13.18977$$\n",
    "\n",
    "Tenemos que el valor máximo lo da $x=0.25$, con el valor de $13.18977$.\n",
    "\n",
    "Y ahora, determinaremos el valor máximo en este intervalo del valor absoluto del polinomio:\n",
    "\n",
    "$g(x) = x(x-0.25)(x-0.5)$\n",
    "\n",
    "$g'(x) = 3 (x^2 - 0.5 x + 0.0416667) = 0$, en donde este sistema tiene dos soluciones, es decir, existen puntos críticos en:\n",
    "\n",
    "$$x=0.105662, x=0.394338$$\n",
    "\n",
    "$g(0.105662) = 0.0060140$\n",
    "\n",
    "$g(0.394338) = -0.0060140$\n",
    "\n",
    "Ahora, viendo si existe un valor más grande en $[0,0.25]$:\n",
    "\n",
    "$g(0) = 0$\n",
    "\n",
    "$g(0.25) = 0$\n",
    "\n",
    "$\\therefore$ tomando el valor máximo absoluto de los valores absolutos, tenemos que el error máximo está dado por:\n",
    "\n",
    "$$ \\Big| \\frac{13.18977}{2} *(0.0060140) \\Big| = \\Big| 6.594885(0.0060140) \\Big| = 0.039661$$"
   ]
  },
  {
   "cell_type": "markdown",
   "metadata": {},
   "source": [
    "Por lo tanto, el error máximo del polinomio es $0.039661$\n",
    "\n",
    "Ahora, comparando los resultados obtenidos con el polinomio de Lagrange en el ejercicio 6, tenemos que:\n",
    "\n",
    "$ \\therefore P(x) = -10.666(x-0.25)(x-0.5)(x-0.75) + 52.75904(x-0)(x-0.5)(x-0.75)- 86.98496(x-0)(x-0.25)(x-0.75) + 47.804693(x-0)(x-0.25)(x-0.5) $\n",
    "\n",
    "$\\therefore P(0.43)=2.36060$\n",
    "\n",
    "donde $f(x) = e^{2x}$, entonces:\n",
    "\n",
    "$f(0.43) = 2.3631606937$\n",
    "\n",
    "$\\therefore f(0.43) - P(0.43) = 0.0025607$\n",
    "\n",
    "Y podemos ver que $0.0025607 \\leq 0.039661$, por lo que el error cumple estar acotado por $0 \\leq \\epsilon(x) \\leq 0.039661$."
   ]
  },
  {
   "cell_type": "markdown",
   "metadata": {},
   "source": [
    "**b.** $f(x) = x^4 − x^3 + x^2 − x + 1$"
   ]
  },
  {
   "cell_type": "markdown",
   "metadata": {},
   "source": [
    "Donde:\n",
    "\n",
    "$f''(x) = 12x^2-6x+2$\n",
    "\n",
    "$f'''(x) = 24x-6$\n",
    "\n",
    "$x_0=-0.5$,\n",
    "$x_1=-0.25$,\n",
    "$x_2=0.25$,\n",
    "$x_3=0.5$\n",
    "\n",
    "Para el caso $n=1$, entonces:\n",
    "\n",
    "$$\\Big| \\frac{f''(\\epsilon(x))}{2!} (x-x_0)(x-x_1) \\Big|$$\n",
    "\n",
    "$$= \\Big| \\frac{12\\epsilon(x)^2-6\\epsilon(x)+2}{2} (x+0.5)(x+0.25) \\Big|$$\n",
    "\n",
    "Continuaremos buscando si existe un punto máximo en $f''(x)$ el intervalo de $[-0.5,-0.25]$:\n",
    "\n",
    "$f'''(x) = 24x-6=0$, que tiene una solución en el punto 0.25, el cual no se encuentra en el intervalo de $[-0.5,-0.25]$.\n",
    "\n",
    "Tomando a $x_0$ y a $x_1$:\n",
    "\n",
    "$$f''(-0.5) = 8$$\n",
    "\n",
    "$$f''(-0.25) = 4.25$$\n",
    "\n",
    "Tenemos que el valor máximo lo da $x=-0.5$, con el valor de $8$.\n",
    "\n",
    "Y ahora, determinaremos el valor máximo en este intervalo del valor absoluto del polinomio:\n",
    "\n",
    "$g(x) = (x+0.5)(x+0.25)$\n",
    "\n",
    "$g'(x) = 2x+0.75 = 0$, en donde este sistema tiene una solución, es decir, existe un punto crítico en el punto $x\\approx -0.375$:\n",
    "\n",
    "$g(-0.375) = -0.015625$\n",
    "\n",
    "Ahora, viendo si existe un valor más grande en $[-0.5,-0.25]$:\n",
    "\n",
    "$g(-0.5) = 0$\n",
    "\n",
    "$g(-0.25) = 0$\n",
    "\n",
    "$\\therefore$ tomando el valor máximo absoluto de los valores absolutos, tenemos que el error máximo está dado por:\n",
    "\n",
    "$$ \\Big| \\frac{8}{2} *(-0.015625) \\Big| = \\Big| 4(-0.015625) \\Big| = 0.0625$$\n",
    "\n"
   ]
  },
  {
   "cell_type": "markdown",
   "metadata": {},
   "source": [
    "**10.** Sea $f(x) = \\sqrt{x-x^2}$ y $P_2(x)$ es el polinomio de interpolación en $x_0=0, x_1 y x_2=1$. Encuentre el valor más grande de $x_1$ en $(0,1)$ para el que $f(0.5) - P_2(0.5) = -0.25$"
   ]
  },
  {
   "cell_type": "markdown",
   "metadata": {},
   "source": [
    "Teniendo que el error está dado por:\n",
    "\n",
    "$$f(x)-P_2(x) = \\Big| \\frac{f''(\\epsilon(x))}{2!} (x-x_0)(x-x_1) \\Big|$$\n",
    "\n",
    "Tomando a $x_1=x_2$, tenemos que:\n",
    "\n",
    "$$\\Big| \\frac{\\frac{-1}{4(x-x^2)^{3/2}}}{2} x(x-1) \\Big| = |-0.25|$$\n",
    "\n",
    "$$\\Big| \\frac{-1}{8(x-x^2)^{3/2}} x(x-1) \\Big| = |-0.25|$$\n",
    "\n",
    "Tomando a $g(x) = x(x-1)$, buscamos el valor máximo en (0,1):\n",
    "\n",
    "$g'(x) = 2x-1 = 0$, donde el sistema tiene solución en el punto **$x=0.5$**, el cuál, sí se encuentra en el rango de $(0,1)$.\n",
    "\n",
    "Donde $g(0.5)=-0.25$\n",
    "\n",
    "Ahora, buscando un punto máximo para la ecuación de $\\frac{-1}{8(x-x^2)^{3/2}} x(x-1)$, entonces buscamos solución para el sistema $f'''(\\epsilon(x))=0$, en donde el sistema tiene solución en el punto **$x=0.5$**, la cuál, sí se encuentra en el intervalo $(0,1)$.\n",
    "\n",
    "$f''(0.5) = \\frac{-1}{8(0.5-0.5^2)^{3/2}} = -1$\n",
    "\n",
    "Ahora:\n",
    "\n",
    "$f''(0) = \\frac{-1}{8(0-0^2)^{3/2}} ->$ no está definido\n",
    "\n",
    "$f''(1) = \\frac{-1}{8(1-1^2)^{3/2}} ->$ no está definido\n",
    "\n",
    "$\\therefore |-1(-0.25)|=0.25$\n",
    "\n",
    "Entonces, encontramos el valor más grande en $(0,1)$, donde $x_1=0.5$, entonces el polinomio de Lagrange, con $x_0, x_1, x_2$ es:\n",
    "\n",
    "$$P3(x) = 0*(1/0.5)(x-0.5)(x-1)+0.5*(1/-0.25)(x-0)(x-1)+0*(1/0.5)(x-0)(x-0.5)$$\n",
    "\n",
    "$$P3(x) = 0.5*(1/-0.25)(x-0)(x-1)$$\n",
    "\n",
    "$$P3(x) = -2x(x-1)$$"
   ]
  }
 ],
 "metadata": {
  "kernelspec": {
   "display_name": "Julia 1.7.1",
   "language": "julia",
   "name": "julia-1.7"
  },
  "language_info": {
   "file_extension": ".jl",
   "mimetype": "application/julia",
   "name": "julia",
   "version": "1.7.1"
  },
  "orig_nbformat": 4
 },
 "nbformat": 4,
 "nbformat_minor": 2
}
